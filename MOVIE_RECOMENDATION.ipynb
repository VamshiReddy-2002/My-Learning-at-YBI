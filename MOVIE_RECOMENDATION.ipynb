{
  "nbformat": 4,
  "nbformat_minor": 0,
  "metadata": {
    "colab": {
      "provenance": [],
      "authorship_tag": "ABX9TyM8TTrzL9uxuy6zDz+U7PnA",
      "include_colab_link": true
    },
    "kernelspec": {
      "name": "python3",
      "display_name": "Python 3"
    },
    "language_info": {
      "name": "python"
    }
  },
  "cells": [
    {
      "cell_type": "markdown",
      "metadata": {
        "id": "view-in-github",
        "colab_type": "text"
      },
      "source": [
        "<a href=\"https://colab.research.google.com/github/VamshiReddy-2002/My-Learning-at-YBI/blob/main/MOVIE_RECOMENDATION.ipynb\" target=\"_parent\"><img src=\"https://colab.research.google.com/assets/colab-badge.svg\" alt=\"Open In Colab\"/></a>"
      ]
    },
    {
      "cell_type": "code",
      "execution_count": null,
      "metadata": {
        "id": "4Up4lceTEBAy"
      },
      "outputs": [],
      "source": [
        "import numpy as np\n",
        "import pandas as pd\n"
      ]
    },
    {
      "cell_type": "code",
      "source": [
        "df=pd.read_csv(\"https://github.com/YBIFoundation/Dataset/raw/main/Movies%20Recommendation.csv\")"
      ],
      "metadata": {
        "id": "tFB4OJuLEwe1"
      },
      "execution_count": null,
      "outputs": []
    },
    {
      "cell_type": "code",
      "source": [
        "df.head()"
      ],
      "metadata": {
        "colab": {
          "base_uri": "https://localhost:8080/",
          "height": 682
        },
        "id": "9qx87du2Ge8w",
        "outputId": "91375e6b-be31-401b-c3e2-1745ec0fa45f"
      },
      "execution_count": null,
      "outputs": [
        {
          "output_type": "execute_result",
          "data": {
            "text/plain": [
              "   Movie_ID      Movie_Title                       Movie_Genre Movie_Language  \\\n",
              "0         1       Four Rooms                      Crime Comedy             en   \n",
              "1         2        Star Wars  Adventure Action Science Fiction             en   \n",
              "2         3     Finding Nemo                  Animation Family             en   \n",
              "3         4     Forrest Gump              Comedy Drama Romance             en   \n",
              "4         5  American Beauty                             Drama             en   \n",
              "\n",
              "   Movie_Budget  Movie_Popularity Movie_Release_Date  Movie_Revenue  \\\n",
              "0       4000000         22.876230         09-12-1995        4300000   \n",
              "1      11000000        126.393695         25-05-1977      775398007   \n",
              "2      94000000         85.688789         30-05-2003      940335536   \n",
              "3      55000000        138.133331         06-07-1994      677945399   \n",
              "4      15000000         80.878605         15-09-1999      356296601   \n",
              "\n",
              "   Movie_Runtime  Movie_Vote  ...  \\\n",
              "0           98.0         6.5  ...   \n",
              "1          121.0         8.1  ...   \n",
              "2          100.0         7.6  ...   \n",
              "3          142.0         8.2  ...   \n",
              "4          122.0         7.9  ...   \n",
              "\n",
              "                                      Movie_Homepage  \\\n",
              "0                                                NaN   \n",
              "1  http://www.starwars.com/films/star-wars-episod...   \n",
              "2              http://movies.disney.com/finding-nemo   \n",
              "3                                                NaN   \n",
              "4                      http://www.dreamworks.com/ab/   \n",
              "\n",
              "                                      Movie_Keywords  \\\n",
              "0          hotel new year's eve witch bet hotel room   \n",
              "1        android galaxy hermit death star lightsaber   \n",
              "2  father son relationship harbor underwater fish...   \n",
              "3  vietnam veteran hippie mentally disabled runni...   \n",
              "4  male nudity female nudity adultery midlife cri...   \n",
              "\n",
              "                                      Movie_Overview  \\\n",
              "0  It's Ted the Bellhop's first night on the job....   \n",
              "1  Princess Leia is captured and held hostage by ...   \n",
              "2  Nemo, an adventurous young clownfish, is unexp...   \n",
              "3  A man with a low IQ has accomplished great thi...   \n",
              "4  Lester Burnham, a depressed suburban father in...   \n",
              "\n",
              "                              Movie_Production_House  \\\n",
              "0  [{\"name\": \"Miramax Films\", \"id\": 14}, {\"name\":...   \n",
              "1  [{\"name\": \"Lucasfilm\", \"id\": 1}, {\"name\": \"Twe...   \n",
              "2     [{\"name\": \"Pixar Animation Studios\", \"id\": 3}]   \n",
              "3          [{\"name\": \"Paramount Pictures\", \"id\": 4}]   \n",
              "4  [{\"name\": \"DreamWorks SKG\", \"id\": 27}, {\"name\"...   \n",
              "\n",
              "                            Movie_Production_Country  \\\n",
              "0  [{\"iso_3166_1\": \"US\", \"name\": \"United States o...   \n",
              "1  [{\"iso_3166_1\": \"US\", \"name\": \"United States o...   \n",
              "2  [{\"iso_3166_1\": \"US\", \"name\": \"United States o...   \n",
              "3  [{\"iso_3166_1\": \"US\", \"name\": \"United States o...   \n",
              "4  [{\"iso_3166_1\": \"US\", \"name\": \"United States o...   \n",
              "\n",
              "                      Movie_Spoken_Language  \\\n",
              "0  [{\"iso_639_1\": \"en\", \"name\": \"English\"}]   \n",
              "1  [{\"iso_639_1\": \"en\", \"name\": \"English\"}]   \n",
              "2  [{\"iso_639_1\": \"en\", \"name\": \"English\"}]   \n",
              "3  [{\"iso_639_1\": \"en\", \"name\": \"English\"}]   \n",
              "4  [{\"iso_639_1\": \"en\", \"name\": \"English\"}]   \n",
              "\n",
              "                                       Movie_Tagline  \\\n",
              "0  Twelve outrageous guests. Four scandalous requ...   \n",
              "1       A long time ago in a galaxy far, far away...   \n",
              "2  There are 3.7 trillion fish in the ocean, they...   \n",
              "3  The world will never be the same, once you've ...   \n",
              "4                                       Look closer.   \n",
              "\n",
              "                                          Movie_Cast  \\\n",
              "0  Tim Roth Antonio Banderas Jennifer Beals Madon...   \n",
              "1  Mark Hamill Harrison Ford Carrie Fisher Peter ...   \n",
              "2  Albert Brooks Ellen DeGeneres Alexander Gould ...   \n",
              "3  Tom Hanks Robin Wright Gary Sinise Mykelti Wil...   \n",
              "4  Kevin Spacey Annette Bening Thora Birch Wes Be...   \n",
              "\n",
              "                                          Movie_Crew   Movie_Director  \n",
              "0  [{'name': 'Allison Anders', 'gender': 1, 'depa...   Allison Anders  \n",
              "1  [{'name': 'George Lucas', 'gender': 2, 'depart...     George Lucas  \n",
              "2  [{'name': 'Andrew Stanton', 'gender': 2, 'depa...   Andrew Stanton  \n",
              "3  [{'name': 'Alan Silvestri', 'gender': 2, 'depa...  Robert Zemeckis  \n",
              "4  [{'name': 'Thomas Newman', 'gender': 2, 'depar...       Sam Mendes  \n",
              "\n",
              "[5 rows x 21 columns]"
            ],
            "text/html": [
              "\n",
              "  <div id=\"df-68073015-730a-43ab-b024-7487e086173b\">\n",
              "    <div class=\"colab-df-container\">\n",
              "      <div>\n",
              "<style scoped>\n",
              "    .dataframe tbody tr th:only-of-type {\n",
              "        vertical-align: middle;\n",
              "    }\n",
              "\n",
              "    .dataframe tbody tr th {\n",
              "        vertical-align: top;\n",
              "    }\n",
              "\n",
              "    .dataframe thead th {\n",
              "        text-align: right;\n",
              "    }\n",
              "</style>\n",
              "<table border=\"1\" class=\"dataframe\">\n",
              "  <thead>\n",
              "    <tr style=\"text-align: right;\">\n",
              "      <th></th>\n",
              "      <th>Movie_ID</th>\n",
              "      <th>Movie_Title</th>\n",
              "      <th>Movie_Genre</th>\n",
              "      <th>Movie_Language</th>\n",
              "      <th>Movie_Budget</th>\n",
              "      <th>Movie_Popularity</th>\n",
              "      <th>Movie_Release_Date</th>\n",
              "      <th>Movie_Revenue</th>\n",
              "      <th>Movie_Runtime</th>\n",
              "      <th>Movie_Vote</th>\n",
              "      <th>...</th>\n",
              "      <th>Movie_Homepage</th>\n",
              "      <th>Movie_Keywords</th>\n",
              "      <th>Movie_Overview</th>\n",
              "      <th>Movie_Production_House</th>\n",
              "      <th>Movie_Production_Country</th>\n",
              "      <th>Movie_Spoken_Language</th>\n",
              "      <th>Movie_Tagline</th>\n",
              "      <th>Movie_Cast</th>\n",
              "      <th>Movie_Crew</th>\n",
              "      <th>Movie_Director</th>\n",
              "    </tr>\n",
              "  </thead>\n",
              "  <tbody>\n",
              "    <tr>\n",
              "      <th>0</th>\n",
              "      <td>1</td>\n",
              "      <td>Four Rooms</td>\n",
              "      <td>Crime Comedy</td>\n",
              "      <td>en</td>\n",
              "      <td>4000000</td>\n",
              "      <td>22.876230</td>\n",
              "      <td>09-12-1995</td>\n",
              "      <td>4300000</td>\n",
              "      <td>98.0</td>\n",
              "      <td>6.5</td>\n",
              "      <td>...</td>\n",
              "      <td>NaN</td>\n",
              "      <td>hotel new year's eve witch bet hotel room</td>\n",
              "      <td>It's Ted the Bellhop's first night on the job....</td>\n",
              "      <td>[{\"name\": \"Miramax Films\", \"id\": 14}, {\"name\":...</td>\n",
              "      <td>[{\"iso_3166_1\": \"US\", \"name\": \"United States o...</td>\n",
              "      <td>[{\"iso_639_1\": \"en\", \"name\": \"English\"}]</td>\n",
              "      <td>Twelve outrageous guests. Four scandalous requ...</td>\n",
              "      <td>Tim Roth Antonio Banderas Jennifer Beals Madon...</td>\n",
              "      <td>[{'name': 'Allison Anders', 'gender': 1, 'depa...</td>\n",
              "      <td>Allison Anders</td>\n",
              "    </tr>\n",
              "    <tr>\n",
              "      <th>1</th>\n",
              "      <td>2</td>\n",
              "      <td>Star Wars</td>\n",
              "      <td>Adventure Action Science Fiction</td>\n",
              "      <td>en</td>\n",
              "      <td>11000000</td>\n",
              "      <td>126.393695</td>\n",
              "      <td>25-05-1977</td>\n",
              "      <td>775398007</td>\n",
              "      <td>121.0</td>\n",
              "      <td>8.1</td>\n",
              "      <td>...</td>\n",
              "      <td>http://www.starwars.com/films/star-wars-episod...</td>\n",
              "      <td>android galaxy hermit death star lightsaber</td>\n",
              "      <td>Princess Leia is captured and held hostage by ...</td>\n",
              "      <td>[{\"name\": \"Lucasfilm\", \"id\": 1}, {\"name\": \"Twe...</td>\n",
              "      <td>[{\"iso_3166_1\": \"US\", \"name\": \"United States o...</td>\n",
              "      <td>[{\"iso_639_1\": \"en\", \"name\": \"English\"}]</td>\n",
              "      <td>A long time ago in a galaxy far, far away...</td>\n",
              "      <td>Mark Hamill Harrison Ford Carrie Fisher Peter ...</td>\n",
              "      <td>[{'name': 'George Lucas', 'gender': 2, 'depart...</td>\n",
              "      <td>George Lucas</td>\n",
              "    </tr>\n",
              "    <tr>\n",
              "      <th>2</th>\n",
              "      <td>3</td>\n",
              "      <td>Finding Nemo</td>\n",
              "      <td>Animation Family</td>\n",
              "      <td>en</td>\n",
              "      <td>94000000</td>\n",
              "      <td>85.688789</td>\n",
              "      <td>30-05-2003</td>\n",
              "      <td>940335536</td>\n",
              "      <td>100.0</td>\n",
              "      <td>7.6</td>\n",
              "      <td>...</td>\n",
              "      <td>http://movies.disney.com/finding-nemo</td>\n",
              "      <td>father son relationship harbor underwater fish...</td>\n",
              "      <td>Nemo, an adventurous young clownfish, is unexp...</td>\n",
              "      <td>[{\"name\": \"Pixar Animation Studios\", \"id\": 3}]</td>\n",
              "      <td>[{\"iso_3166_1\": \"US\", \"name\": \"United States o...</td>\n",
              "      <td>[{\"iso_639_1\": \"en\", \"name\": \"English\"}]</td>\n",
              "      <td>There are 3.7 trillion fish in the ocean, they...</td>\n",
              "      <td>Albert Brooks Ellen DeGeneres Alexander Gould ...</td>\n",
              "      <td>[{'name': 'Andrew Stanton', 'gender': 2, 'depa...</td>\n",
              "      <td>Andrew Stanton</td>\n",
              "    </tr>\n",
              "    <tr>\n",
              "      <th>3</th>\n",
              "      <td>4</td>\n",
              "      <td>Forrest Gump</td>\n",
              "      <td>Comedy Drama Romance</td>\n",
              "      <td>en</td>\n",
              "      <td>55000000</td>\n",
              "      <td>138.133331</td>\n",
              "      <td>06-07-1994</td>\n",
              "      <td>677945399</td>\n",
              "      <td>142.0</td>\n",
              "      <td>8.2</td>\n",
              "      <td>...</td>\n",
              "      <td>NaN</td>\n",
              "      <td>vietnam veteran hippie mentally disabled runni...</td>\n",
              "      <td>A man with a low IQ has accomplished great thi...</td>\n",
              "      <td>[{\"name\": \"Paramount Pictures\", \"id\": 4}]</td>\n",
              "      <td>[{\"iso_3166_1\": \"US\", \"name\": \"United States o...</td>\n",
              "      <td>[{\"iso_639_1\": \"en\", \"name\": \"English\"}]</td>\n",
              "      <td>The world will never be the same, once you've ...</td>\n",
              "      <td>Tom Hanks Robin Wright Gary Sinise Mykelti Wil...</td>\n",
              "      <td>[{'name': 'Alan Silvestri', 'gender': 2, 'depa...</td>\n",
              "      <td>Robert Zemeckis</td>\n",
              "    </tr>\n",
              "    <tr>\n",
              "      <th>4</th>\n",
              "      <td>5</td>\n",
              "      <td>American Beauty</td>\n",
              "      <td>Drama</td>\n",
              "      <td>en</td>\n",
              "      <td>15000000</td>\n",
              "      <td>80.878605</td>\n",
              "      <td>15-09-1999</td>\n",
              "      <td>356296601</td>\n",
              "      <td>122.0</td>\n",
              "      <td>7.9</td>\n",
              "      <td>...</td>\n",
              "      <td>http://www.dreamworks.com/ab/</td>\n",
              "      <td>male nudity female nudity adultery midlife cri...</td>\n",
              "      <td>Lester Burnham, a depressed suburban father in...</td>\n",
              "      <td>[{\"name\": \"DreamWorks SKG\", \"id\": 27}, {\"name\"...</td>\n",
              "      <td>[{\"iso_3166_1\": \"US\", \"name\": \"United States o...</td>\n",
              "      <td>[{\"iso_639_1\": \"en\", \"name\": \"English\"}]</td>\n",
              "      <td>Look closer.</td>\n",
              "      <td>Kevin Spacey Annette Bening Thora Birch Wes Be...</td>\n",
              "      <td>[{'name': 'Thomas Newman', 'gender': 2, 'depar...</td>\n",
              "      <td>Sam Mendes</td>\n",
              "    </tr>\n",
              "  </tbody>\n",
              "</table>\n",
              "<p>5 rows × 21 columns</p>\n",
              "</div>\n",
              "      <button class=\"colab-df-convert\" onclick=\"convertToInteractive('df-68073015-730a-43ab-b024-7487e086173b')\"\n",
              "              title=\"Convert this dataframe to an interactive table.\"\n",
              "              style=\"display:none;\">\n",
              "        \n",
              "  <svg xmlns=\"http://www.w3.org/2000/svg\" height=\"24px\"viewBox=\"0 0 24 24\"\n",
              "       width=\"24px\">\n",
              "    <path d=\"M0 0h24v24H0V0z\" fill=\"none\"/>\n",
              "    <path d=\"M18.56 5.44l.94 2.06.94-2.06 2.06-.94-2.06-.94-.94-2.06-.94 2.06-2.06.94zm-11 1L8.5 8.5l.94-2.06 2.06-.94-2.06-.94L8.5 2.5l-.94 2.06-2.06.94zm10 10l.94 2.06.94-2.06 2.06-.94-2.06-.94-.94-2.06-.94 2.06-2.06.94z\"/><path d=\"M17.41 7.96l-1.37-1.37c-.4-.4-.92-.59-1.43-.59-.52 0-1.04.2-1.43.59L10.3 9.45l-7.72 7.72c-.78.78-.78 2.05 0 2.83L4 21.41c.39.39.9.59 1.41.59.51 0 1.02-.2 1.41-.59l7.78-7.78 2.81-2.81c.8-.78.8-2.07 0-2.86zM5.41 20L4 18.59l7.72-7.72 1.47 1.35L5.41 20z\"/>\n",
              "  </svg>\n",
              "      </button>\n",
              "      \n",
              "  <style>\n",
              "    .colab-df-container {\n",
              "      display:flex;\n",
              "      flex-wrap:wrap;\n",
              "      gap: 12px;\n",
              "    }\n",
              "\n",
              "    .colab-df-convert {\n",
              "      background-color: #E8F0FE;\n",
              "      border: none;\n",
              "      border-radius: 50%;\n",
              "      cursor: pointer;\n",
              "      display: none;\n",
              "      fill: #1967D2;\n",
              "      height: 32px;\n",
              "      padding: 0 0 0 0;\n",
              "      width: 32px;\n",
              "    }\n",
              "\n",
              "    .colab-df-convert:hover {\n",
              "      background-color: #E2EBFA;\n",
              "      box-shadow: 0px 1px 2px rgba(60, 64, 67, 0.3), 0px 1px 3px 1px rgba(60, 64, 67, 0.15);\n",
              "      fill: #174EA6;\n",
              "    }\n",
              "\n",
              "    [theme=dark] .colab-df-convert {\n",
              "      background-color: #3B4455;\n",
              "      fill: #D2E3FC;\n",
              "    }\n",
              "\n",
              "    [theme=dark] .colab-df-convert:hover {\n",
              "      background-color: #434B5C;\n",
              "      box-shadow: 0px 1px 3px 1px rgba(0, 0, 0, 0.15);\n",
              "      filter: drop-shadow(0px 1px 2px rgba(0, 0, 0, 0.3));\n",
              "      fill: #FFFFFF;\n",
              "    }\n",
              "  </style>\n",
              "\n",
              "      <script>\n",
              "        const buttonEl =\n",
              "          document.querySelector('#df-68073015-730a-43ab-b024-7487e086173b button.colab-df-convert');\n",
              "        buttonEl.style.display =\n",
              "          google.colab.kernel.accessAllowed ? 'block' : 'none';\n",
              "\n",
              "        async function convertToInteractive(key) {\n",
              "          const element = document.querySelector('#df-68073015-730a-43ab-b024-7487e086173b');\n",
              "          const dataTable =\n",
              "            await google.colab.kernel.invokeFunction('convertToInteractive',\n",
              "                                                     [key], {});\n",
              "          if (!dataTable) return;\n",
              "\n",
              "          const docLinkHtml = 'Like what you see? Visit the ' +\n",
              "            '<a target=\"_blank\" href=https://colab.research.google.com/notebooks/data_table.ipynb>data table notebook</a>'\n",
              "            + ' to learn more about interactive tables.';\n",
              "          element.innerHTML = '';\n",
              "          dataTable['output_type'] = 'display_data';\n",
              "          await google.colab.output.renderOutput(dataTable, element);\n",
              "          const docLink = document.createElement('div');\n",
              "          docLink.innerHTML = docLinkHtml;\n",
              "          element.appendChild(docLink);\n",
              "        }\n",
              "      </script>\n",
              "    </div>\n",
              "  </div>\n",
              "  "
            ]
          },
          "metadata": {},
          "execution_count": 64
        }
      ]
    },
    {
      "cell_type": "code",
      "source": [
        "df.info"
      ],
      "metadata": {
        "colab": {
          "base_uri": "https://localhost:8080/"
        },
        "id": "QIETONMEG4mP",
        "outputId": "a035d578-a439-4890-967d-6f4e831b9cb9"
      },
      "execution_count": null,
      "outputs": [
        {
          "output_type": "execute_result",
          "data": {
            "text/plain": [
              "<bound method DataFrame.info of       Movie_ID                  Movie_Title                       Movie_Genre  \\\n",
              "0            1                   Four Rooms                      Crime Comedy   \n",
              "1            2                    Star Wars  Adventure Action Science Fiction   \n",
              "2            3                 Finding Nemo                  Animation Family   \n",
              "3            4                 Forrest Gump              Comedy Drama Romance   \n",
              "4            5              American Beauty                             Drama   \n",
              "...        ...                          ...                               ...   \n",
              "4755      4784             Midnight Cabaret                            Horror   \n",
              "4756      4785             Growing Up Smith               Comedy Family Drama   \n",
              "4757      4786                       8 Days                    Thriller Drama   \n",
              "4758      4787              Running Forever                            Family   \n",
              "4759      4788  To Be Frank, Sinatra at 100                       Documentary   \n",
              "\n",
              "     Movie_Language  Movie_Budget  Movie_Popularity Movie_Release_Date  \\\n",
              "0                en       4000000         22.876230         09-12-1995   \n",
              "1                en      11000000        126.393695         25-05-1977   \n",
              "2                en      94000000         85.688789         30-05-2003   \n",
              "3                en      55000000        138.133331         06-07-1994   \n",
              "4                en      15000000         80.878605         15-09-1999   \n",
              "...             ...           ...               ...                ...   \n",
              "4755             en             0          0.001389         01-01-1990   \n",
              "4756             en             0          0.710870         03-02-2017   \n",
              "4757             en             0          0.015295         15-06-2014   \n",
              "4758             en             0          0.028756         27-10-2015   \n",
              "4759             en             2          0.050625         12-12-2015   \n",
              "\n",
              "      Movie_Revenue  Movie_Runtime  Movie_Vote  ...  \\\n",
              "0           4300000           98.0         6.5  ...   \n",
              "1         775398007          121.0         8.1  ...   \n",
              "2         940335536          100.0         7.6  ...   \n",
              "3         677945399          142.0         8.2  ...   \n",
              "4         356296601          122.0         7.9  ...   \n",
              "...             ...            ...         ...  ...   \n",
              "4755              0           94.0         0.0  ...   \n",
              "4756              0          102.0         7.4  ...   \n",
              "4757              0           90.0         0.0  ...   \n",
              "4758              0           88.0         0.0  ...   \n",
              "4759              0            NaN         0.0  ...   \n",
              "\n",
              "                                         Movie_Homepage  \\\n",
              "0                                                   NaN   \n",
              "1     http://www.starwars.com/films/star-wars-episod...   \n",
              "2                 http://movies.disney.com/finding-nemo   \n",
              "3                                                   NaN   \n",
              "4                         http://www.dreamworks.com/ab/   \n",
              "...                                                 ...   \n",
              "4755                                                NaN   \n",
              "4756                 http://www.growingupsmithmovie.com   \n",
              "4757                                                NaN   \n",
              "4758                                                NaN   \n",
              "4759                                                NaN   \n",
              "\n",
              "                                         Movie_Keywords  \\\n",
              "0             hotel new year's eve witch bet hotel room   \n",
              "1           android galaxy hermit death star lightsaber   \n",
              "2     father son relationship harbor underwater fish...   \n",
              "3     vietnam veteran hippie mentally disabled runni...   \n",
              "4     male nudity female nudity adultery midlife cri...   \n",
              "...                                                 ...   \n",
              "4755                                                NaN   \n",
              "4756                                                NaN   \n",
              "4757                     christian film sex trafficking   \n",
              "4758                                                NaN   \n",
              "4759  music actors legendary perfomer classic hollyw...   \n",
              "\n",
              "                                         Movie_Overview  \\\n",
              "0     It's Ted the Bellhop's first night on the job....   \n",
              "1     Princess Leia is captured and held hostage by ...   \n",
              "2     Nemo, an adventurous young clownfish, is unexp...   \n",
              "3     A man with a low IQ has accomplished great thi...   \n",
              "4     Lester Burnham, a depressed suburban father in...   \n",
              "...                                                 ...   \n",
              "4755  A Broadway producer puts on a play with a Devi...   \n",
              "4756  In 1979, an Indian family moves to America wit...   \n",
              "4757  After sneaking to a party with her friends, 16...   \n",
              "4758  After being estranged since her mother's death...   \n",
              "4759                                                NaN   \n",
              "\n",
              "                                 Movie_Production_House  \\\n",
              "0     [{\"name\": \"Miramax Films\", \"id\": 14}, {\"name\":...   \n",
              "1     [{\"name\": \"Lucasfilm\", \"id\": 1}, {\"name\": \"Twe...   \n",
              "2        [{\"name\": \"Pixar Animation Studios\", \"id\": 3}]   \n",
              "3             [{\"name\": \"Paramount Pictures\", \"id\": 4}]   \n",
              "4     [{\"name\": \"DreamWorks SKG\", \"id\": 27}, {\"name\"...   \n",
              "...                                                 ...   \n",
              "4755                                                 []   \n",
              "4756                                                 []   \n",
              "4757     [{\"name\": \"After Eden Pictures\", \"id\": 85248}]   \n",
              "4758    [{\"name\": \"New Kingdom Pictures\", \"id\": 41671}]   \n",
              "4759   [{\"name\": \"Eyeline Entertainment\", \"id\": 60343}]   \n",
              "\n",
              "                               Movie_Production_Country  \\\n",
              "0     [{\"iso_3166_1\": \"US\", \"name\": \"United States o...   \n",
              "1     [{\"iso_3166_1\": \"US\", \"name\": \"United States o...   \n",
              "2     [{\"iso_3166_1\": \"US\", \"name\": \"United States o...   \n",
              "3     [{\"iso_3166_1\": \"US\", \"name\": \"United States o...   \n",
              "4     [{\"iso_3166_1\": \"US\", \"name\": \"United States o...   \n",
              "...                                                 ...   \n",
              "4755                                                 []   \n",
              "4756                                                 []   \n",
              "4757  [{\"iso_3166_1\": \"US\", \"name\": \"United States o...   \n",
              "4758  [{\"iso_3166_1\": \"US\", \"name\": \"United States o...   \n",
              "4759   [{\"iso_3166_1\": \"GB\", \"name\": \"United Kingdom\"}]   \n",
              "\n",
              "                         Movie_Spoken_Language  \\\n",
              "0     [{\"iso_639_1\": \"en\", \"name\": \"English\"}]   \n",
              "1     [{\"iso_639_1\": \"en\", \"name\": \"English\"}]   \n",
              "2     [{\"iso_639_1\": \"en\", \"name\": \"English\"}]   \n",
              "3     [{\"iso_639_1\": \"en\", \"name\": \"English\"}]   \n",
              "4     [{\"iso_639_1\": \"en\", \"name\": \"English\"}]   \n",
              "...                                        ...   \n",
              "4755  [{\"iso_639_1\": \"en\", \"name\": \"English\"}]   \n",
              "4756  [{\"iso_639_1\": \"en\", \"name\": \"English\"}]   \n",
              "4757  [{\"iso_639_1\": \"en\", \"name\": \"English\"}]   \n",
              "4758                                        []   \n",
              "4759                                        []   \n",
              "\n",
              "                                          Movie_Tagline  \\\n",
              "0     Twelve outrageous guests. Four scandalous requ...   \n",
              "1          A long time ago in a galaxy far, far away...   \n",
              "2     There are 3.7 trillion fish in the ocean, they...   \n",
              "3     The world will never be the same, once you've ...   \n",
              "4                                          Look closer.   \n",
              "...                                                 ...   \n",
              "4755                The hot spot where Satan's waitin'.   \n",
              "4756           It’s better to stand out than to fit in.   \n",
              "4757           She never knew it could happen to her...   \n",
              "4758                                                NaN   \n",
              "4759                                                NaN   \n",
              "\n",
              "                                             Movie_Cast  \\\n",
              "0     Tim Roth Antonio Banderas Jennifer Beals Madon...   \n",
              "1     Mark Hamill Harrison Ford Carrie Fisher Peter ...   \n",
              "2     Albert Brooks Ellen DeGeneres Alexander Gould ...   \n",
              "3     Tom Hanks Robin Wright Gary Sinise Mykelti Wil...   \n",
              "4     Kevin Spacey Annette Bening Thora Birch Wes Be...   \n",
              "...                                                 ...   \n",
              "4755  Lisa Hart Carroll Michael Des Barres Paul Drak...   \n",
              "4756  Roni Akurati Brighton Sharbino Jason Lee Anjul...   \n",
              "4757  Nicole Smolen Kim Baldwin Ariana Stephens Brys...   \n",
              "4758                                                NaN   \n",
              "4759                                    Tony Oppedisano   \n",
              "\n",
              "                                             Movie_Crew     Movie_Director  \n",
              "0     [{'name': 'Allison Anders', 'gender': 1, 'depa...     Allison Anders  \n",
              "1     [{'name': 'George Lucas', 'gender': 2, 'depart...       George Lucas  \n",
              "2     [{'name': 'Andrew Stanton', 'gender': 2, 'depa...     Andrew Stanton  \n",
              "3     [{'name': 'Alan Silvestri', 'gender': 2, 'depa...    Robert Zemeckis  \n",
              "4     [{'name': 'Thomas Newman', 'gender': 2, 'depar...         Sam Mendes  \n",
              "...                                                 ...                ...  \n",
              "4755  [{'name': 'Pece Dingo', 'gender': 0, 'departme...         Pece Dingo  \n",
              "4756  [{'name': 'Frank Lotito', 'gender': 0, 'depart...       Frank Lotito  \n",
              "4757  [{'name': 'Jaco Booyens', 'gender': 0, 'depart...       Jaco Booyens  \n",
              "4758                                                 []                NaN  \n",
              "4759  [{'name': 'Simon Napier-Bell', 'gender': 0, 'd...  Simon Napier-Bell  \n",
              "\n",
              "[4760 rows x 21 columns]>"
            ]
          },
          "metadata": {},
          "execution_count": 65
        }
      ]
    },
    {
      "cell_type": "code",
      "source": [
        "df.shape"
      ],
      "metadata": {
        "colab": {
          "base_uri": "https://localhost:8080/"
        },
        "id": "zThBBdspG94y",
        "outputId": "3cedfba4-e581-43b0-a51e-8ae44ca356a7"
      },
      "execution_count": null,
      "outputs": [
        {
          "output_type": "execute_result",
          "data": {
            "text/plain": [
              "(4760, 21)"
            ]
          },
          "metadata": {},
          "execution_count": 66
        }
      ]
    },
    {
      "cell_type": "code",
      "source": [
        "df.columns"
      ],
      "metadata": {
        "colab": {
          "base_uri": "https://localhost:8080/"
        },
        "id": "slxdxjjjHOy0",
        "outputId": "40c37024-fd73-416a-8d3b-7dd2845a77f4"
      },
      "execution_count": null,
      "outputs": [
        {
          "output_type": "execute_result",
          "data": {
            "text/plain": [
              "Index(['Movie_ID', 'Movie_Title', 'Movie_Genre', 'Movie_Language',\n",
              "       'Movie_Budget', 'Movie_Popularity', 'Movie_Release_Date',\n",
              "       'Movie_Revenue', 'Movie_Runtime', 'Movie_Vote', 'Movie_Vote_Count',\n",
              "       'Movie_Homepage', 'Movie_Keywords', 'Movie_Overview',\n",
              "       'Movie_Production_House', 'Movie_Production_Country',\n",
              "       'Movie_Spoken_Language', 'Movie_Tagline', 'Movie_Cast', 'Movie_Crew',\n",
              "       'Movie_Director'],\n",
              "      dtype='object')"
            ]
          },
          "metadata": {},
          "execution_count": 67
        }
      ]
    },
    {
      "cell_type": "code",
      "source": [
        "df_features=df[[\"Movie_Genre\",\"Movie_Tagline\",\"Movie_Keywords\",\"Movie_Director\",\"Movie_Cast\"]].fillna('')\n",
        "#The fillna() method replaces the NULL values with a specified value. The fillna() method returns a new DataFrame object unless the inplace parameter is set to True , in that case the fillna() method does the replacing in the original DataFrame instead."
      ],
      "metadata": {
        "id": "CdAZNj13H0zV"
      },
      "execution_count": null,
      "outputs": []
    },
    {
      "cell_type": "code",
      "source": [
        "df_features.shape"
      ],
      "metadata": {
        "colab": {
          "base_uri": "https://localhost:8080/"
        },
        "id": "fn_eGxRKInoJ",
        "outputId": "a816556a-22ea-4a93-b66d-43a7227148b7"
      },
      "execution_count": null,
      "outputs": [
        {
          "output_type": "execute_result",
          "data": {
            "text/plain": [
              "(4760, 5)"
            ]
          },
          "metadata": {},
          "execution_count": 69
        }
      ]
    },
    {
      "cell_type": "code",
      "source": [
        "df_features"
      ],
      "metadata": {
        "colab": {
          "base_uri": "https://localhost:8080/",
          "height": 624
        },
        "id": "j3mk0UCYI5cw",
        "outputId": "071cb37f-513f-45d7-a28e-edfd8de620a6"
      },
      "execution_count": null,
      "outputs": [
        {
          "output_type": "execute_result",
          "data": {
            "text/plain": [
              "                           Movie_Genre  \\\n",
              "0                         Crime Comedy   \n",
              "1     Adventure Action Science Fiction   \n",
              "2                     Animation Family   \n",
              "3                 Comedy Drama Romance   \n",
              "4                                Drama   \n",
              "...                                ...   \n",
              "4755                            Horror   \n",
              "4756               Comedy Family Drama   \n",
              "4757                    Thriller Drama   \n",
              "4758                            Family   \n",
              "4759                       Documentary   \n",
              "\n",
              "                                          Movie_Tagline  \\\n",
              "0     Twelve outrageous guests. Four scandalous requ...   \n",
              "1          A long time ago in a galaxy far, far away...   \n",
              "2     There are 3.7 trillion fish in the ocean, they...   \n",
              "3     The world will never be the same, once you've ...   \n",
              "4                                          Look closer.   \n",
              "...                                                 ...   \n",
              "4755                The hot spot where Satan's waitin'.   \n",
              "4756           It’s better to stand out than to fit in.   \n",
              "4757           She never knew it could happen to her...   \n",
              "4758                                                      \n",
              "4759                                                      \n",
              "\n",
              "                                         Movie_Keywords     Movie_Director  \\\n",
              "0             hotel new year's eve witch bet hotel room     Allison Anders   \n",
              "1           android galaxy hermit death star lightsaber       George Lucas   \n",
              "2     father son relationship harbor underwater fish...     Andrew Stanton   \n",
              "3     vietnam veteran hippie mentally disabled runni...    Robert Zemeckis   \n",
              "4     male nudity female nudity adultery midlife cri...         Sam Mendes   \n",
              "...                                                 ...                ...   \n",
              "4755                                                            Pece Dingo   \n",
              "4756                                                          Frank Lotito   \n",
              "4757                     christian film sex trafficking       Jaco Booyens   \n",
              "4758                                                                         \n",
              "4759  music actors legendary perfomer classic hollyw...  Simon Napier-Bell   \n",
              "\n",
              "                                             Movie_Cast  \n",
              "0     Tim Roth Antonio Banderas Jennifer Beals Madon...  \n",
              "1     Mark Hamill Harrison Ford Carrie Fisher Peter ...  \n",
              "2     Albert Brooks Ellen DeGeneres Alexander Gould ...  \n",
              "3     Tom Hanks Robin Wright Gary Sinise Mykelti Wil...  \n",
              "4     Kevin Spacey Annette Bening Thora Birch Wes Be...  \n",
              "...                                                 ...  \n",
              "4755  Lisa Hart Carroll Michael Des Barres Paul Drak...  \n",
              "4756  Roni Akurati Brighton Sharbino Jason Lee Anjul...  \n",
              "4757  Nicole Smolen Kim Baldwin Ariana Stephens Brys...  \n",
              "4758                                                     \n",
              "4759                                    Tony Oppedisano  \n",
              "\n",
              "[4760 rows x 5 columns]"
            ],
            "text/html": [
              "\n",
              "  <div id=\"df-60207355-2d60-4946-bd34-b9d765c5a753\">\n",
              "    <div class=\"colab-df-container\">\n",
              "      <div>\n",
              "<style scoped>\n",
              "    .dataframe tbody tr th:only-of-type {\n",
              "        vertical-align: middle;\n",
              "    }\n",
              "\n",
              "    .dataframe tbody tr th {\n",
              "        vertical-align: top;\n",
              "    }\n",
              "\n",
              "    .dataframe thead th {\n",
              "        text-align: right;\n",
              "    }\n",
              "</style>\n",
              "<table border=\"1\" class=\"dataframe\">\n",
              "  <thead>\n",
              "    <tr style=\"text-align: right;\">\n",
              "      <th></th>\n",
              "      <th>Movie_Genre</th>\n",
              "      <th>Movie_Tagline</th>\n",
              "      <th>Movie_Keywords</th>\n",
              "      <th>Movie_Director</th>\n",
              "      <th>Movie_Cast</th>\n",
              "    </tr>\n",
              "  </thead>\n",
              "  <tbody>\n",
              "    <tr>\n",
              "      <th>0</th>\n",
              "      <td>Crime Comedy</td>\n",
              "      <td>Twelve outrageous guests. Four scandalous requ...</td>\n",
              "      <td>hotel new year's eve witch bet hotel room</td>\n",
              "      <td>Allison Anders</td>\n",
              "      <td>Tim Roth Antonio Banderas Jennifer Beals Madon...</td>\n",
              "    </tr>\n",
              "    <tr>\n",
              "      <th>1</th>\n",
              "      <td>Adventure Action Science Fiction</td>\n",
              "      <td>A long time ago in a galaxy far, far away...</td>\n",
              "      <td>android galaxy hermit death star lightsaber</td>\n",
              "      <td>George Lucas</td>\n",
              "      <td>Mark Hamill Harrison Ford Carrie Fisher Peter ...</td>\n",
              "    </tr>\n",
              "    <tr>\n",
              "      <th>2</th>\n",
              "      <td>Animation Family</td>\n",
              "      <td>There are 3.7 trillion fish in the ocean, they...</td>\n",
              "      <td>father son relationship harbor underwater fish...</td>\n",
              "      <td>Andrew Stanton</td>\n",
              "      <td>Albert Brooks Ellen DeGeneres Alexander Gould ...</td>\n",
              "    </tr>\n",
              "    <tr>\n",
              "      <th>3</th>\n",
              "      <td>Comedy Drama Romance</td>\n",
              "      <td>The world will never be the same, once you've ...</td>\n",
              "      <td>vietnam veteran hippie mentally disabled runni...</td>\n",
              "      <td>Robert Zemeckis</td>\n",
              "      <td>Tom Hanks Robin Wright Gary Sinise Mykelti Wil...</td>\n",
              "    </tr>\n",
              "    <tr>\n",
              "      <th>4</th>\n",
              "      <td>Drama</td>\n",
              "      <td>Look closer.</td>\n",
              "      <td>male nudity female nudity adultery midlife cri...</td>\n",
              "      <td>Sam Mendes</td>\n",
              "      <td>Kevin Spacey Annette Bening Thora Birch Wes Be...</td>\n",
              "    </tr>\n",
              "    <tr>\n",
              "      <th>...</th>\n",
              "      <td>...</td>\n",
              "      <td>...</td>\n",
              "      <td>...</td>\n",
              "      <td>...</td>\n",
              "      <td>...</td>\n",
              "    </tr>\n",
              "    <tr>\n",
              "      <th>4755</th>\n",
              "      <td>Horror</td>\n",
              "      <td>The hot spot where Satan's waitin'.</td>\n",
              "      <td></td>\n",
              "      <td>Pece Dingo</td>\n",
              "      <td>Lisa Hart Carroll Michael Des Barres Paul Drak...</td>\n",
              "    </tr>\n",
              "    <tr>\n",
              "      <th>4756</th>\n",
              "      <td>Comedy Family Drama</td>\n",
              "      <td>It’s better to stand out than to fit in.</td>\n",
              "      <td></td>\n",
              "      <td>Frank Lotito</td>\n",
              "      <td>Roni Akurati Brighton Sharbino Jason Lee Anjul...</td>\n",
              "    </tr>\n",
              "    <tr>\n",
              "      <th>4757</th>\n",
              "      <td>Thriller Drama</td>\n",
              "      <td>She never knew it could happen to her...</td>\n",
              "      <td>christian film sex trafficking</td>\n",
              "      <td>Jaco Booyens</td>\n",
              "      <td>Nicole Smolen Kim Baldwin Ariana Stephens Brys...</td>\n",
              "    </tr>\n",
              "    <tr>\n",
              "      <th>4758</th>\n",
              "      <td>Family</td>\n",
              "      <td></td>\n",
              "      <td></td>\n",
              "      <td></td>\n",
              "      <td></td>\n",
              "    </tr>\n",
              "    <tr>\n",
              "      <th>4759</th>\n",
              "      <td>Documentary</td>\n",
              "      <td></td>\n",
              "      <td>music actors legendary perfomer classic hollyw...</td>\n",
              "      <td>Simon Napier-Bell</td>\n",
              "      <td>Tony Oppedisano</td>\n",
              "    </tr>\n",
              "  </tbody>\n",
              "</table>\n",
              "<p>4760 rows × 5 columns</p>\n",
              "</div>\n",
              "      <button class=\"colab-df-convert\" onclick=\"convertToInteractive('df-60207355-2d60-4946-bd34-b9d765c5a753')\"\n",
              "              title=\"Convert this dataframe to an interactive table.\"\n",
              "              style=\"display:none;\">\n",
              "        \n",
              "  <svg xmlns=\"http://www.w3.org/2000/svg\" height=\"24px\"viewBox=\"0 0 24 24\"\n",
              "       width=\"24px\">\n",
              "    <path d=\"M0 0h24v24H0V0z\" fill=\"none\"/>\n",
              "    <path d=\"M18.56 5.44l.94 2.06.94-2.06 2.06-.94-2.06-.94-.94-2.06-.94 2.06-2.06.94zm-11 1L8.5 8.5l.94-2.06 2.06-.94-2.06-.94L8.5 2.5l-.94 2.06-2.06.94zm10 10l.94 2.06.94-2.06 2.06-.94-2.06-.94-.94-2.06-.94 2.06-2.06.94z\"/><path d=\"M17.41 7.96l-1.37-1.37c-.4-.4-.92-.59-1.43-.59-.52 0-1.04.2-1.43.59L10.3 9.45l-7.72 7.72c-.78.78-.78 2.05 0 2.83L4 21.41c.39.39.9.59 1.41.59.51 0 1.02-.2 1.41-.59l7.78-7.78 2.81-2.81c.8-.78.8-2.07 0-2.86zM5.41 20L4 18.59l7.72-7.72 1.47 1.35L5.41 20z\"/>\n",
              "  </svg>\n",
              "      </button>\n",
              "      \n",
              "  <style>\n",
              "    .colab-df-container {\n",
              "      display:flex;\n",
              "      flex-wrap:wrap;\n",
              "      gap: 12px;\n",
              "    }\n",
              "\n",
              "    .colab-df-convert {\n",
              "      background-color: #E8F0FE;\n",
              "      border: none;\n",
              "      border-radius: 50%;\n",
              "      cursor: pointer;\n",
              "      display: none;\n",
              "      fill: #1967D2;\n",
              "      height: 32px;\n",
              "      padding: 0 0 0 0;\n",
              "      width: 32px;\n",
              "    }\n",
              "\n",
              "    .colab-df-convert:hover {\n",
              "      background-color: #E2EBFA;\n",
              "      box-shadow: 0px 1px 2px rgba(60, 64, 67, 0.3), 0px 1px 3px 1px rgba(60, 64, 67, 0.15);\n",
              "      fill: #174EA6;\n",
              "    }\n",
              "\n",
              "    [theme=dark] .colab-df-convert {\n",
              "      background-color: #3B4455;\n",
              "      fill: #D2E3FC;\n",
              "    }\n",
              "\n",
              "    [theme=dark] .colab-df-convert:hover {\n",
              "      background-color: #434B5C;\n",
              "      box-shadow: 0px 1px 3px 1px rgba(0, 0, 0, 0.15);\n",
              "      filter: drop-shadow(0px 1px 2px rgba(0, 0, 0, 0.3));\n",
              "      fill: #FFFFFF;\n",
              "    }\n",
              "  </style>\n",
              "\n",
              "      <script>\n",
              "        const buttonEl =\n",
              "          document.querySelector('#df-60207355-2d60-4946-bd34-b9d765c5a753 button.colab-df-convert');\n",
              "        buttonEl.style.display =\n",
              "          google.colab.kernel.accessAllowed ? 'block' : 'none';\n",
              "\n",
              "        async function convertToInteractive(key) {\n",
              "          const element = document.querySelector('#df-60207355-2d60-4946-bd34-b9d765c5a753');\n",
              "          const dataTable =\n",
              "            await google.colab.kernel.invokeFunction('convertToInteractive',\n",
              "                                                     [key], {});\n",
              "          if (!dataTable) return;\n",
              "\n",
              "          const docLinkHtml = 'Like what you see? Visit the ' +\n",
              "            '<a target=\"_blank\" href=https://colab.research.google.com/notebooks/data_table.ipynb>data table notebook</a>'\n",
              "            + ' to learn more about interactive tables.';\n",
              "          element.innerHTML = '';\n",
              "          dataTable['output_type'] = 'display_data';\n",
              "          await google.colab.output.renderOutput(dataTable, element);\n",
              "          const docLink = document.createElement('div');\n",
              "          docLink.innerHTML = docLinkHtml;\n",
              "          element.appendChild(docLink);\n",
              "        }\n",
              "      </script>\n",
              "    </div>\n",
              "  </div>\n",
              "  "
            ]
          },
          "metadata": {},
          "execution_count": 70
        }
      ]
    },
    {
      "cell_type": "code",
      "source": [
        "X=df_features['Movie_Genre']+' '+df_features['Movie_Tagline']+' '+df_features['Movie_Keywords']+' '+df_features['Movie_Director']+' '+df_features['Movie_Cast']"
      ],
      "metadata": {
        "id": "vVI2oM0kS_oA"
      },
      "execution_count": null,
      "outputs": []
    },
    {
      "cell_type": "code",
      "source": [
        "X"
      ],
      "metadata": {
        "colab": {
          "base_uri": "https://localhost:8080/"
        },
        "id": "3ciATeQxek2C",
        "outputId": "d1f481a3-a7d9-40f4-82c3-cf8a529a5ca8"
      },
      "execution_count": null,
      "outputs": [
        {
          "output_type": "execute_result",
          "data": {
            "text/plain": [
              "0       Crime Comedy Twelve outrageous guests. Four sc...\n",
              "1       Adventure Action Science Fiction A long time a...\n",
              "2       Animation Family There are 3.7 trillion fish i...\n",
              "3       Comedy Drama Romance The world will never be t...\n",
              "4       Drama Look closer. male nudity female nudity a...\n",
              "                              ...                        \n",
              "4755    Horror The hot spot where Satan's waitin'.  Pe...\n",
              "4756    Comedy Family Drama It’s better to stand out t...\n",
              "4757    Thriller Drama She never knew it could happen ...\n",
              "4758                                           Family    \n",
              "4759    Documentary  music actors legendary perfomer c...\n",
              "Length: 4760, dtype: object"
            ]
          },
          "metadata": {},
          "execution_count": 72
        }
      ]
    },
    {
      "cell_type": "code",
      "source": [
        "X.shape"
      ],
      "metadata": {
        "colab": {
          "base_uri": "https://localhost:8080/"
        },
        "id": "cE7SoNXef2Gb",
        "outputId": "ee97b4d3-7947-4bd1-90cd-f5661bfbc55d"
      },
      "execution_count": null,
      "outputs": [
        {
          "output_type": "execute_result",
          "data": {
            "text/plain": [
              "(4760,)"
            ]
          },
          "metadata": {},
          "execution_count": 73
        }
      ]
    },
    {
      "cell_type": "markdown",
      "source": [
        "Get Feature Text Conversion"
      ],
      "metadata": {
        "id": "zXNdmFAnf5zI"
      }
    },
    {
      "cell_type": "code",
      "source": [
        "from sklearn.feature_extraction.text import TfidfVectorizer"
      ],
      "metadata": {
        "id": "BJO9h3Btf98z"
      },
      "execution_count": null,
      "outputs": []
    },
    {
      "cell_type": "code",
      "source": [
        "tfidf=TfidfVectorizer()"
      ],
      "metadata": {
        "id": "fSCO2q7rgt7A"
      },
      "execution_count": null,
      "outputs": []
    },
    {
      "cell_type": "code",
      "source": [
        "X=tfidf.fit_transform(X)"
      ],
      "metadata": {
        "id": "4aDHBe1og6qY"
      },
      "execution_count": null,
      "outputs": []
    },
    {
      "cell_type": "code",
      "source": [
        "X.shape"
      ],
      "metadata": {
        "colab": {
          "base_uri": "https://localhost:8080/"
        },
        "id": "Q30q3T0uhF92",
        "outputId": "47e51aae-2951-4199-ae72-8740fc881807"
      },
      "execution_count": null,
      "outputs": [
        {
          "output_type": "execute_result",
          "data": {
            "text/plain": [
              "(4760, 17258)"
            ]
          },
          "metadata": {},
          "execution_count": 77
        }
      ]
    },
    {
      "cell_type": "code",
      "source": [
        "print(X)"
      ],
      "metadata": {
        "colab": {
          "base_uri": "https://localhost:8080/"
        },
        "id": "1lK74iUNhJWB",
        "outputId": "176cf1e2-e47e-4bf1-82b4-0a17ce24ea00"
      },
      "execution_count": null,
      "outputs": [
        {
          "output_type": "stream",
          "name": "stdout",
          "text": [
            "  (0, 15413)\t0.1465525095337543\n",
            "  (0, 9675)\t0.1422605729525266\n",
            "  (0, 9465)\t0.1659841367820977\n",
            "  (0, 1390)\t0.16898383612799556\n",
            "  (0, 7825)\t0.0979956159750984\n",
            "  (0, 1214)\t0.1386585754514407\n",
            "  (0, 729)\t0.13415063359531615\n",
            "  (0, 13093)\t0.14325915403886846\n",
            "  (0, 15355)\t0.10477815972666778\n",
            "  (0, 617)\t0.16333821444075128\n",
            "  (0, 492)\t0.14325915403886846\n",
            "  (0, 13052)\t0.1465525095337543\n",
            "  (0, 1595)\t0.15687561633854535\n",
            "  (0, 16862)\t0.12768803549311022\n",
            "  (0, 7213)\t0.2514667584940577\n",
            "  (0, 9048)\t0.08668421161607778\n",
            "  (0, 11161)\t0.06250380151644368\n",
            "  (0, 5059)\t0.2955341917899861\n",
            "  (0, 17052)\t0.2607957358149093\n",
            "  (0, 10898)\t0.1762570881066128\n",
            "  (0, 16773)\t0.17654247479915472\n",
            "  (0, 5612)\t0.0860353758854763\n",
            "  (0, 16735)\t0.10690083751525416\n",
            "  (0, 7904)\t0.13348000542112332\n",
            "  (0, 15219)\t0.09800472886453933\n",
            "  :\t:\n",
            "  (4757, 5455)\t0.12491480594769522\n",
            "  (4757, 2967)\t0.16273475835631626\n",
            "  (4757, 8464)\t0.23522565554066333\n",
            "  (4757, 6938)\t0.17088173678136628\n",
            "  (4757, 8379)\t0.17480603856721913\n",
            "  (4757, 15303)\t0.07654356007668191\n",
            "  (4757, 15384)\t0.09754322497537371\n",
            "  (4757, 7649)\t0.11479421494340192\n",
            "  (4757, 10896)\t0.14546473055066447\n",
            "  (4757, 4494)\t0.05675298448720501\n",
            "  (4758, 5238)\t1.0\n",
            "  (4759, 11264)\t0.33947721804318337\n",
            "  (4759, 11708)\t0.33947721804318337\n",
            "  (4759, 205)\t0.3237911628497312\n",
            "  (4759, 8902)\t0.3040290704566037\n",
            "  (4759, 14062)\t0.3237911628497312\n",
            "  (4759, 3058)\t0.2812896191863103\n",
            "  (4759, 7130)\t0.26419662449963793\n",
            "  (4759, 10761)\t0.3126617295732147\n",
            "  (4759, 4358)\t0.18306542312175342\n",
            "  (4759, 14051)\t0.20084315377640435\n",
            "  (4759, 5690)\t0.19534291014627303\n",
            "  (4759, 15431)\t0.19628653185946862\n",
            "  (4759, 1490)\t0.21197258705292082\n",
            "  (4759, 10666)\t0.15888268987343043\n"
          ]
        }
      ]
    },
    {
      "cell_type": "markdown",
      "source": [
        "Get Similarity scoring using Cosine Similarity"
      ],
      "metadata": {
        "id": "BByiVbbNhSFy"
      }
    },
    {
      "cell_type": "code",
      "source": [
        "from sklearn.metrics.pairwise import cosine_similarity"
      ],
      "metadata": {
        "id": "VsoYHStWhMEO"
      },
      "execution_count": null,
      "outputs": []
    },
    {
      "cell_type": "code",
      "source": [
        "Similarity_Score=cosine_similarity(X)"
      ],
      "metadata": {
        "id": "6-VMva_hhh7I"
      },
      "execution_count": null,
      "outputs": []
    },
    {
      "cell_type": "code",
      "source": [
        "Similarity_Score"
      ],
      "metadata": {
        "colab": {
          "base_uri": "https://localhost:8080/"
        },
        "id": "ytQZxT4Jhp7a",
        "outputId": "296bea0e-3f51-4413-a216-d71165bf1e5b"
      },
      "execution_count": null,
      "outputs": [
        {
          "output_type": "execute_result",
          "data": {
            "text/plain": [
              "array([[1.        , 0.01351235, 0.03570468, ..., 0.        , 0.        ,\n",
              "        0.        ],\n",
              "       [0.01351235, 1.        , 0.00806674, ..., 0.        , 0.        ,\n",
              "        0.        ],\n",
              "       [0.03570468, 0.00806674, 1.        , ..., 0.        , 0.08014876,\n",
              "        0.        ],\n",
              "       ...,\n",
              "       [0.        , 0.        , 0.        , ..., 1.        , 0.        ,\n",
              "        0.        ],\n",
              "       [0.        , 0.        , 0.08014876, ..., 0.        , 1.        ,\n",
              "        0.        ],\n",
              "       [0.        , 0.        , 0.        , ..., 0.        , 0.        ,\n",
              "        1.        ]])"
            ]
          },
          "metadata": {},
          "execution_count": 81
        }
      ]
    },
    {
      "cell_type": "code",
      "source": [
        "Similarity_Score.shape"
      ],
      "metadata": {
        "colab": {
          "base_uri": "https://localhost:8080/"
        },
        "id": "Wg9btdAYhtoj",
        "outputId": "8d3f3110-534d-4bd7-97ea-ab21e7d8df9a"
      },
      "execution_count": null,
      "outputs": [
        {
          "output_type": "execute_result",
          "data": {
            "text/plain": [
              "(4760, 4760)"
            ]
          },
          "metadata": {},
          "execution_count": 82
        }
      ]
    },
    {
      "cell_type": "markdown",
      "source": [
        "Get Movie Name as INput user and validate for closest spelling"
      ],
      "metadata": {
        "id": "j7SFNWD8h171"
      }
    },
    {
      "cell_type": "code",
      "source": [
        "Favourite_movie_name=input('enter your favourite movie name :')"
      ],
      "metadata": {
        "colab": {
          "base_uri": "https://localhost:8080/"
        },
        "id": "grKWMGEthxpD",
        "outputId": "7218636f-134c-4d22-edb7-ab7a48eccf63"
      },
      "execution_count": null,
      "outputs": [
        {
          "name": "stdout",
          "output_type": "stream",
          "text": [
            "enter your favourite movie name :athadu\n"
          ]
        }
      ]
    },
    {
      "cell_type": "code",
      "source": [
        "All_movies_title_List=df['Movie_Title'].tolist()\n",
        "#The tolist() function is used to convert a given array to an ordinary list with the same items, elements, or values."
      ],
      "metadata": {
        "id": "TmiTfyXCiMbW"
      },
      "execution_count": null,
      "outputs": []
    },
    {
      "cell_type": "code",
      "source": [
        "import difflib"
      ],
      "metadata": {
        "id": "0mw9dpMdiYV3"
      },
      "execution_count": null,
      "outputs": []
    },
    {
      "cell_type": "code",
      "source": [
        "MOvie_recomendation=difflib.get_close_matches(Favourite_movie_name,All_movies_title_List)\n",
        "print(MOvie_recomendation)"
      ],
      "metadata": {
        "colab": {
          "base_uri": "https://localhost:8080/"
        },
        "id": "QQ-iCnH1icKe",
        "outputId": "013eb05e-9b79-439f-83c2-d85cf5f69e04"
      },
      "execution_count": null,
      "outputs": [
        {
          "output_type": "stream",
          "name": "stdout",
          "text": [
            "['Jarhead', 'Baghead']\n"
          ]
        }
      ]
    },
    {
      "cell_type": "code",
      "source": [
        "Close_match=MOvie_recomendation[0]\n",
        "print(Close_match)"
      ],
      "metadata": {
        "colab": {
          "base_uri": "https://localhost:8080/"
        },
        "id": "ATco15z4ivFL",
        "outputId": "3509d776-5ac8-4158-d573-0e8fcd3040ae"
      },
      "execution_count": null,
      "outputs": [
        {
          "output_type": "stream",
          "name": "stdout",
          "text": [
            "Jarhead\n"
          ]
        }
      ]
    },
    {
      "cell_type": "code",
      "source": [
        "index_of_close_match_movie=df[df.Movie_Title==Close_match]['Movie_ID'].values[0]\n",
        "print(index_of_close_match_movie)"
      ],
      "metadata": {
        "colab": {
          "base_uri": "https://localhost:8080/"
        },
        "id": "lDcSlD2Qi58n",
        "outputId": "0af24fd5-3df3-4e2c-ca6a-543a9e6332a1"
      },
      "execution_count": null,
      "outputs": [
        {
          "output_type": "stream",
          "name": "stdout",
          "text": [
            "12\n"
          ]
        }
      ]
    },
    {
      "cell_type": "markdown",
      "source": [
        "getting list of similar movies"
      ],
      "metadata": {
        "id": "OSdcgLAnjZaL"
      }
    },
    {
      "cell_type": "code",
      "source": [
        "recomendation_score=list(enumerate(Similarity_Score[index_of_close_match_movie]))\n",
        "print(recomendation_score)"
      ],
      "metadata": {
        "colab": {
          "base_uri": "https://localhost:8080/"
        },
        "id": "Jmg74K4ujT3c",
        "outputId": "57cd284d-4321-4bba-f6c4-fe16b8386431"
      },
      "execution_count": null,
      "outputs": [
        {
          "output_type": "stream",
          "name": "stdout",
          "text": [
            "[(0, 0.007136304069748529), (1, 0.02761127168417841), (2, 0.0042603051915136225), (3, 0.12113761972627259), (4, 0.02675202353874699), (5, 0.0031281756116451503), (6, 0.01077747308300411), (7, 0.012940759564003205), (8, 0.003387170749461963), (9, 0.004594743340940757), (10, 0.005291212559045092), (11, 0.06369899650805283), (12, 1.0000000000000002), (13, 0.0), (14, 0.0045433665812068405), (15, 0.012116041462444547), (16, 0.0025995607491428093), (17, 0.0106406160606909), (18, 0.0077516642350473315), (19, 0.0030091881966334594), (20, 0.013739614614758039), (21, 0.0033353023189919805), (22, 0.013856887106378266), (23, 0.02823167032214344), (24, 0.028206339828311024), (25, 0.023259076964837564), (26, 0.040227867473162135), (27, 0.0), (28, 0.005041126630383581), (29, 0.007698301312453289), (30, 0.0), (31, 0.03200586043802463), (32, 0.0027350846975717296), (33, 0.00714420743471645), (34, 0.003245426053331771), (35, 0.04226843963291241), (36, 0.028249319398135953), (37, 0.07079490708952084), (38, 0.04074592864750176), (39, 0.009970997897445981), (40, 0.0), (41, 0.003470459608705998), (42, 0.0), (43, 0.07758568608701157), (44, 0.002596256673736641), (45, 0.017957231150843907), (46, 0.0), (47, 0.0), (48, 0.03532160991496436), (49, 0.0), (50, 0.04619838477580379), (51, 0.003281444411273241), (52, 0.03609138047583116), (53, 0.00949194436742811), (54, 0.0), (55, 0.010466627243461398), (56, 0.0203090354116849), (57, 0.012284635653788971), (58, 0.004163191025917083), (59, 0.0), (60, 0.0069152862987202895), (61, 0.00307922859937883), (62, 0.014502675131805169), (63, 0.002482225154767513), (64, 0.012548065808263953), (65, 0.028696362795461137), (66, 0.048174049193627076), (67, 0.047960647120655925), (68, 0.003307749027383721), (69, 0.0), (70, 0.0), (71, 0.0031952044935508266), (72, 0.01453005133200358), (73, 0.012082186971333363), (74, 0.013878229749959194), (75, 0.016681072762512753), (76, 0.01272596019269285), (77, 0.0), (78, 0.004173605314063736), (79, 0.02197098229609355), (80, 0.00454938836373475), (81, 0.0), (82, 0.009902379015732952), (83, 0.005031422164856527), (84, 0.01466923917967405), (85, 0.042644993821338004), (86, 0.016272043311459178), (87, 0.0030108184342049725), (88, 0.015605734813605115), (89, 0.02702958074334822), (90, 0.0), (91, 0.03598420796984925), (92, 0.016470340263459123), (93, 0.009594109978147622), (94, 0.004559586983703623), (95, 0.0), (96, 0.039530912714389736), (97, 0.020781330554004645), (98, 0.01671930487692676), (99, 0.0), (100, 0.0), (101, 0.045285759028946486), (102, 0.01636808453963284), (103, 0.002701411227855239), (104, 0.029997891229383993), (105, 0.008017450440994636), (106, 0.0965561329518462), (107, 0.014898178525239954), (108, 0.04847154267342692), (109, 0.2703988428021723), (110, 0.005074467856750098), (111, 0.1717256231198212), (112, 0.16422505723706288), (113, 0.0025647574710902918), (114, 0.003121862066742826), (115, 0.03479818140948222), (116, 0.0029436260490727922), (117, 0.0), (118, 0.01027801778998817), (119, 0.012802383485778814), (120, 0.0032166019791740005), (121, 0.0028665285268448153), (122, 0.00914754020729721), (123, 0.00884453307903598), (124, 0.011915332754306854), (125, 0.040611473085948424), (126, 0.0029426994755465162), (127, 0.012790244332192299), (128, 0.015482025798426816), (129, 0.0021779238761580628), (130, 0.04801596871794352), (131, 0.005030360326520627), (132, 0.002765121022321432), (133, 0.0), (134, 0.0), (135, 0.009921697972994357), (136, 0.021970036790986767), (137, 0.005111859444452657), (138, 0.014385370356178763), (139, 0.0), (140, 0.002921559834717113), (141, 0.0), (142, 0.014126814039528835), (143, 0.0), (144, 0.0), (145, 0.021073827581850297), (146, 0.0), (147, 0.0026983500164547126), (148, 0.024220949891049316), (149, 0.015454976287604966), (150, 0.026626804117224553), (151, 0.0), (152, 0.047513554020240885), (153, 0.00583558726558707), (154, 0.002927580278965006), (155, 0.0), (156, 0.006567105729464045), (157, 0.016261704363826835), (158, 0.0027976655221785057), (159, 0.010212906572585405), (160, 0.0), (161, 0.002803428142152915), (162, 0.016360127822743032), (163, 0.0), (164, 0.0029677547288328916), (165, 0.042633417270775985), (166, 0.007139439011287569), (167, 0.04233747199093763), (168, 0.024032607978831645), (169, 0.0177840753974361), (170, 0.018073304660992093), (171, 0.004713064682811977), (172, 0.0031287852858183115), (173, 0.0032687635540384423), (174, 0.0030806881625553653), (175, 0.006826177550810543), (176, 0.003204794528447536), (177, 0.008465350739224987), (178, 0.036094945805691656), (179, 0.004772480800167162), (180, 0.0), (181, 0.0), (182, 0.013153188070041733), (183, 0.03146809325703607), (184, 0.03458682196832946), (185, 0.0), (186, 0.01719502765961794), (187, 0.0), (188, 0.013864589836838014), (189, 0.00514158565115877), (190, 0.002661545437365883), (191, 0.03763654714157948), (192, 0.008743422825469305), (193, 0.013888386458921674), (194, 0.002502365653313094), (195, 0.006794875648198539), (196, 0.0026196873227321664), (197, 0.0029448929695835902), (198, 0.04897380880817198), (199, 0.0028438568902815087), (200, 0.002755875689604676), (201, 0.005180264038130034), (202, 0.008562482770260508), (203, 0.0029510849447429667), (204, 0.0403194177493908), (205, 0.0), (206, 0.0033084709376862186), (207, 0.0), (208, 0.003311216077220005), (209, 0.008157245550242987), (210, 0.003361386243940123), (211, 0.00844981705891535), (212, 0.021505161785156435), (213, 0.0029028253521907023), (214, 0.013431655777864442), (215, 0.028250842766423583), (216, 0.044280969693521494), (217, 0.0), (218, 0.002847407588096433), (219, 0.010191777556899633), (220, 0.07417583575148032), (221, 0.01240691264106274), (222, 0.03405027040604287), (223, 0.014426960098503758), (224, 0.0023862637261604282), (225, 0.01723042193084736), (226, 0.013134024371508212), (227, 0.05692610319981061), (228, 0.017469169000525107), (229, 0.0029077256591733096), (230, 0.021654190947913366), (231, 0.02331689653846588), (232, 0.02928642076563688), (233, 0.0), (234, 0.012894284802672908), (235, 0.0035203171933581557), (236, 0.0029296277406795153), (237, 0.03338937044690583), (238, 0.0031810533489645978), (239, 0.02006925361301633), (240, 0.004595724214401563), (241, 0.021672313668011606), (242, 0.011373047926168486), (243, 0.009186988315260512), (244, 0.0), (245, 0.0), (246, 0.03474493732248883), (247, 0.003083808211900558), (248, 0.0), (249, 0.04215279858043014), (250, 0.0055559275134531485), (251, 0.2558709081964983), (252, 0.0027626673443445714), (253, 0.014361682061983499), (254, 0.018819696408999827), (255, 0.0032660012569866908), (256, 0.00233008362041284), (257, 0.0384216515257894), (258, 0.0), (259, 0.009873379423366711), (260, 0.004709371178122053), (261, 0.041448369687092604), (262, 0.01793737490965113), (263, 0.014095860787595286), (264, 0.0049719529593271975), (265, 0.0), (266, 0.038284541990679155), (267, 0.015860281730659984), (268, 0.0027817484600845), (269, 0.04222327574966956), (270, 0.003261862148245638), (271, 0.0023902574113274133), (272, 0.01497757002127267), (273, 0.0), (274, 0.01960507096832589), (275, 0.0), (276, 0.0029407717827656444), (277, 0.008728856110682094), (278, 0.002686190893670509), (279, 0.036507243005168354), (280, 0.0640626446665274), (281, 0.05448988935178306), (282, 0.047054725867984204), (283, 0.047876176640982), (284, 0.004735132841356097), (285, 0.016950171213243822), (286, 0.02944381173368431), (287, 0.11103078888892323), (288, 0.020284866284282305), (289, 0.01659149474624599), (290, 0.0), (291, 0.013656258035960794), (292, 0.007843236165807777), (293, 0.005747952450711762), (294, 0.01192903711356971), (295, 0.00816893925440344), (296, 0.002337545749563127), (297, 0.010505699684030603), (298, 0.01565039008647734), (299, 0.026686497877965183), (300, 0.0), (301, 0.00525215678374138), (302, 0.02835106252192577), (303, 0.04049982310870292), (304, 0.0), (305, 0.004960300562212926), (306, 0.01837845489419708), (307, 0.016015874094620044), (308, 0.01909335134212235), (309, 0.010378920645641145), (310, 0.009540790809710929), (311, 0.0), (312, 0.014052254887991148), (313, 0.03780826506863897), (314, 0.0), (315, 0.0), (316, 0.0), (317, 0.0905693534152036), (318, 0.0034084306681940618), (319, 0.008136519950589482), (320, 0.0), (321, 0.0), (322, 0.023606146658938374), (323, 0.018491382639488997), (324, 0.007450903211080308), (325, 0.002947252921172919), (326, 0.031050517384828953), (327, 0.03141127725473528), (328, 0.02479200235416749), (329, 0.012742770667316904), (330, 0.009016423630742629), (331, 0.0), (332, 0.0), (333, 0.0), (334, 0.021571125368206538), (335, 0.004590167143596016), (336, 0.02988723299968647), (337, 0.024687957214694523), (338, 0.029346568775067604), (339, 0.02151773877972121), (340, 0.0), (341, 0.010692227023183308), (342, 0.04652864794462086), (343, 0.03957501698197658), (344, 0.005222041496766205), (345, 0.004812143976050788), (346, 0.00803280311231185), (347, 0.015032778582534868), (348, 0.02344177849737421), (349, 0.0030249343924968223), (350, 0.003395418265636706), (351, 0.0023795249514360806), (352, 0.004512699964948512), (353, 0.14944504251289237), (354, 0.013710517641035811), (355, 0.002875918599509987), (356, 0.0172656958583887), (357, 0.038178324930032745), (358, 0.0030333460032224585), (359, 0.0028622284935099695), (360, 0.0), (361, 0.005270555810781333), (362, 0.0), (363, 0.0), (364, 0.0026832022115260306), (365, 0.0), (366, 0.01138094883391707), (367, 0.0), (368, 0.02271139366500817), (369, 0.0037999291201321196), (370, 0.017046928512712025), (371, 0.07753485078511825), (372, 0.026690475858865064), (373, 0.0029558448212565155), (374, 0.0783986518305037), (375, 0.0), (376, 0.0), (377, 0.024512954676869696), (378, 0.003132253310205046), (379, 0.0), (380, 0.005703951484318637), (381, 0.004055285408633794), (382, 0.0), (383, 0.0), (384, 0.03310102743986552), (385, 0.0), (386, 0.0324808351327661), (387, 0.09061835549730556), (388, 0.007631467245181814), (389, 0.03547212280876649), (390, 0.0), (391, 0.0), (392, 0.005274140968811832), (393, 0.0), (394, 0.0), (395, 0.003346258663933021), (396, 0.023874797676523493), (397, 0.0), (398, 0.0), (399, 0.0028899834258684885), (400, 0.016917816975778145), (401, 0.0), (402, 0.003802122298681552), (403, 0.03749934037768908), (404, 0.0), (405, 0.0), (406, 0.0453052820685936), (407, 0.039482368974143846), (408, 0.007643059622956298), (409, 0.004571197586487243), (410, 0.007520894520807867), (411, 0.004557323555430794), (412, 0.010660803317111021), (413, 0.023743823250339344), (414, 0.0), (415, 0.02948091101840257), (416, 0.03599253337517733), (417, 0.013916381809715364), (418, 0.010503743343222125), (419, 0.03864438935668759), (420, 0.005339005605381018), (421, 0.011586937282729423), (422, 0.0), (423, 0.0), (424, 0.005637563569148996), (425, 0.005632672355737967), (426, 0.004644069284233836), (427, 0.004762456016793774), (428, 0.04608448603569267), (429, 0.003268686659716773), (430, 0.04425210743604052), (431, 0.0036781903260160167), (432, 0.014525646409160509), (433, 0.002551237694730066), (434, 0.0029506324326627714), (435, 0.0), (436, 0.030310756730498465), (437, 0.0029594035236036806), (438, 0.0), (439, 0.014893877571494837), (440, 0.03698156805599497), (441, 0.036560259920920574), (442, 0.006703046547358042), (443, 0.003607423725450227), (444, 0.0034751296530818), (445, 0.002669991741977287), (446, 0.03764803538421748), (447, 0.003238570087833161), (448, 0.00933094832870441), (449, 0.04016070231802496), (450, 0.003422327947008532), (451, 0.032391919287561355), (452, 0.037061460012375744), (453, 0.03690911303088821), (454, 0.004608084287286754), (455, 0.02353727449042819), (456, 0.003304426887905857), (457, 0.01567122797263741), (458, 0.00348008176971803), (459, 0.0), (460, 0.009884081014851089), (461, 0.0), (462, 0.0), (463, 0.012173902400029874), (464, 0.0030828756988961433), (465, 0.0028474058774587262), (466, 0.0030834831563307285), (467, 0.08290499675382132), (468, 0.07296506264459938), (469, 0.03905010258698999), (470, 0.003289449497678532), (471, 0.0029125983238791364), (472, 0.0186349764105434), (473, 0.002821690375186249), (474, 0.0), (475, 0.001090333613154162), (476, 0.0034236324222453743), (477, 0.015911341354586377), (478, 0.003529792854033084), (479, 0.003115212904846066), (480, 0.016422784406920774), (481, 0.08693279512222804), (482, 0.00325541227867134), (483, 0.008535376607213091), (484, 0.025223220110316216), (485, 0.026624712796056937), (486, 0.004768110459334482), (487, 0.0029856515245692172), (488, 0.018102563442145746), (489, 0.0037309799531230993), (490, 0.04779665662786163), (491, 0.005804540715390548), (492, 0.004635631069354096), (493, 0.01394684288110823), (494, 0.0), (495, 0.0071500051985783145), (496, 0.028695234007813424), (497, 0.00441840675181707), (498, 0.004733478117001255), (499, 0.003394191998438494), (500, 0.03849777896647006), (501, 0.0), (502, 0.0032651366738231267), (503, 0.0), (504, 0.008132869789195198), (505, 0.00296289063746112), (506, 0.0), (507, 0.007590663829555821), (508, 0.009295236710275889), (509, 0.0031984892203459074), (510, 0.0064618647615655896), (511, 0.017231899854815887), (512, 0.017806996914016774), (513, 0.0), (514, 0.0), (515, 0.00281133319695816), (516, 0.0), (517, 0.0), (518, 0.04425165945617287), (519, 0.0027538197850545225), (520, 0.0), (521, 0.004780419561489902), (522, 0.0030275120931322216), (523, 0.020968469982683556), (524, 0.011970945291438698), (525, 0.004938536657043149), (526, 0.003921959690603892), (527, 0.014816378401615721), (528, 0.0), (529, 0.019037753919474102), (530, 0.05372247344249988), (531, 0.0), (532, 0.012959015244307068), (533, 0.003507973603722572), (534, 0.016863942714441332), (535, 0.0), (536, 0.0), (537, 0.0), (538, 0.008191395450207625), (539, 0.0), (540, 0.009164954713334818), (541, 0.003016757903308031), (542, 0.0021871137487955586), (543, 0.003248371372589346), (544, 0.003165027120451386), (545, 0.013161191854095372), (546, 0.0), (547, 0.006815708641535579), (548, 0.03343455959806742), (549, 0.004606657440119962), (550, 0.041787552089478416), (551, 0.008395599889341543), (552, 0.0453352001890499), (553, 0.014185485508173005), (554, 0.0), (555, 0.01633546126044572), (556, 0.0), (557, 0.0), (558, 0.00287598968240329), (559, 0.0), (560, 0.004980135074684705), (561, 0.01830649133374302), (562, 0.013732280962636408), (563, 0.00281237381185862), (564, 0.0032675080408977792), (565, 0.0), (566, 0.026821535338441553), (567, 0.01360903537866832), (568, 0.018500407537554782), (569, 0.018276955544842204), (570, 0.04222256665731419), (571, 0.026455117208688806), (572, 0.015988847031859304), (573, 0.02740258674416552), (574, 0.0), (575, 0.004165283029516306), (576, 0.0035158843405036226), (577, 0.013418206261354782), (578, 0.0029435984529171478), (579, 0.003161625142860491), (580, 0.0032591201516582752), (581, 0.002810624431165357), (582, 0.0), (583, 0.004501152778015054), (584, 0.01936530742782722), (585, 0.004776387364282879), (586, 0.0), (587, 0.026165003379438966), (588, 0.018809175652375974), (589, 0.04159204307419351), (590, 0.007450742496053784), (591, 0.017128056288113327), (592, 0.0), (593, 0.003181174339689713), (594, 0.011663539431842968), (595, 0.10989125671281569), (596, 0.0034945706037789945), (597, 0.03477609034737211), (598, 0.04497256752907915), (599, 0.03774508761096585), (600, 0.03775224261287021), (601, 0.0), (602, 0.0), (603, 0.01593523773962837), (604, 0.017212447841277907), (605, 0.0027443724842558153), (606, 0.003220644947811881), (607, 0.029858838546467936), (608, 0.022520915826171384), (609, 0.10176577049833248), (610, 0.004936589703116689), (611, 0.005010956020658708), (612, 0.003311413777018339), (613, 0.10377226288757162), (614, 0.034787418515711946), (615, 0.005143284868546565), (616, 0.002599112915858481), (617, 0.002633253331547883), (618, 0.014626213689294969), (619, 0.0), (620, 0.016399540352889312), (621, 0.0), (622, 0.018143199641439747), (623, 0.07170353567749449), (624, 0.0028527722337505254), (625, 0.0), (626, 0.0026431229039333933), (627, 0.004223243674077329), (628, 0.0031445406498464513), (629, 0.0), (630, 0.0), (631, 0.024348116002150366), (632, 0.0), (633, 0.035740205657982325), (634, 0.0), (635, 0.010841614407322134), (636, 0.0031498364913841942), (637, 0.0032297532878942463), (638, 0.002874566007081863), (639, 0.004192636196411368), (640, 0.00831314334858183), (641, 0.05104085017876834), (642, 0.0026939892549073543), (643, 0.05670923040165918), (644, 0.007679468222233777), (645, 0.00254733221831977), (646, 0.017997777136776853), (647, 0.0027365223287239), (648, 0.009361390271333325), (649, 0.0), (650, 0.0), (651, 0.018068873392624373), (652, 0.0031901515439720497), (653, 0.037958478355927756), (654, 0.01579059683287957), (655, 0.002912513064373012), (656, 0.0), (657, 0.015997027849560374), (658, 0.05121740909701034), (659, 0.012235910620074595), (660, 0.03641563511779624), (661, 0.004657730188557653), (662, 0.04377524924062188), (663, 0.0), (664, 0.004450686997263392), (665, 0.0), (666, 0.005587157980749865), (667, 0.0), (668, 0.003928096618591723), (669, 0.007438203856578264), (670, 0.02104248987939023), (671, 0.0), (672, 0.002781122573960228), (673, 0.003403531297131667), (674, 0.0), (675, 0.019739732295462945), (676, 0.032157234953646016), (677, 0.06071716229816479), (678, 0.03460477142381511), (679, 0.016083612418831394), (680, 0.019250044775652713), (681, 0.005621263736818787), (682, 0.0), (683, 0.03618958636958527), (684, 0.09932738284053746), (685, 0.03078084558685381), (686, 0.0), (687, 0.040725903222886245), (688, 0.0034550198068866063), (689, 0.0180016651083807), (690, 0.004619578767403122), (691, 0.010546584815387658), (692, 0.008582654438013529), (693, 0.003035598147988392), (694, 0.0029329226490822295), (695, 0.0), (696, 0.018838163940029233), (697, 0.0031319336539286677), (698, 0.002950865496736274), (699, 0.028926330839906096), (700, 0.04459497614832365), (701, 0.009023997059083862), (702, 0.02080354502012207), (703, 0.015166956050283207), (704, 0.005368675597798594), (705, 0.002761160414622974), (706, 0.014308103459409346), (707, 0.0026233079690847682), (708, 0.0), (709, 0.0), (710, 0.00930574873799407), (711, 0.0), (712, 0.0027555237326078075), (713, 0.009536669261370595), (714, 0.014120770326342284), (715, 0.0034416760995542263), (716, 0.0032705889958969973), (717, 0.008430277802878408), (718, 0.021463245169798754), (719, 0.027002220517684868), (720, 0.0), (721, 0.0035735924003440327), (722, 0.0072638166273311724), (723, 0.012609620319361917), (724, 0.0), (725, 0.016095540271515513), (726, 0.008303217604545807), (727, 0.012820525928655315), (728, 0.003363933669145572), (729, 0.003477920273546288), (730, 0.0), (731, 0.03700639591100043), (732, 0.031120865791935456), (733, 0.019957384103746464), (734, 0.06133905017522438), (735, 0.0324867639729385), (736, 0.004998411009138102), (737, 0.024858443021003276), (738, 0.008180518601957875), (739, 0.003558942115362852), (740, 0.008812047307216131), (741, 0.013251434687977022), (742, 0.007598954218600877), (743, 0.003204950536560165), (744, 0.048969752825583496), (745, 0.0), (746, 0.0), (747, 0.005535611041928955), (748, 0.01589780243319786), (749, 0.013056978557134996), (750, 0.003177454165249937), (751, 0.02683205354548385), (752, 0.0), (753, 0.016177472990068997), (754, 0.0), (755, 0.0030310298713157537), (756, 0.004359941782425362), (757, 0.014389517422437624), (758, 0.02189421467393676), (759, 0.011959779588812853), (760, 0.0), (761, 0.003119358901498269), (762, 0.008607321880844438), (763, 0.009374799654315497), (764, 0.0), (765, 0.005247443497269021), (766, 0.00288583556365061), (767, 0.10335953763339839), (768, 0.010130316101793211), (769, 0.04398273243306931), (770, 0.009252012057784684), (771, 0.0), (772, 0.0), (773, 0.004803147555185809), (774, 0.013610639884225131), (775, 0.02421788186483656), (776, 0.004531708712466089), (777, 0.003748564161393673), (778, 0.005109709137141442), (779, 0.012806782811080646), (780, 0.028508581538733854), (781, 0.0052289229832158295), (782, 0.042485845930233045), (783, 0.03614490466149059), (784, 0.0), (785, 0.009936122735774227), (786, 0.0), (787, 0.007981775673255002), (788, 0.010286106279473569), (789, 0.02554666066195003), (790, 0.004812353163276644), (791, 0.014111452001638247), (792, 0.04717927330156113), (793, 0.0), (794, 0.0033705853689788437), (795, 0.0), (796, 0.0155379840473106), (797, 0.0145647493515322), (798, 0.01245279571887434), (799, 0.0030404477225415253), (800, 0.030840783745786714), (801, 0.0), (802, 0.026230513028337725), (803, 0.032730862618943354), (804, 0.030861003456617325), (805, 0.05047439267044447), (806, 0.0032186259033837473), (807, 0.020355301688337785), (808, 0.0027495627602521088), (809, 0.01028369940701695), (810, 0.00463886154921051), (811, 0.010155424254112965), (812, 0.021024631514117816), (813, 0.014656033855405322), (814, 0.0), (815, 0.03065418591685995), (816, 0.0025385021721549277), (817, 0.003018209580299199), (818, 0.02187255763098246), (819, 0.0), (820, 0.013234222364643233), (821, 0.004547239886323903), (822, 0.0), (823, 0.021572410743705004), (824, 0.009147358968236312), (825, 0.0), (826, 0.003326274975871223), (827, 0.0), (828, 0.01767951924498914), (829, 0.027852537795451236), (830, 0.026652565349954912), (831, 0.00220180772075528), (832, 0.008219693235242128), (833, 0.0), (834, 0.0), (835, 0.0), (836, 0.0), (837, 0.0347065678736054), (838, 0.0029001357429744214), (839, 0.04007947590700812), (840, 0.014421150922430213), (841, 0.049950944189481164), (842, 0.0), (843, 0.015391023515866348), (844, 0.006723426687930116), (845, 0.0032651954093362396), (846, 0.046793067621124104), (847, 0.009270202847243192), (848, 0.013247508720558094), (849, 0.0), (850, 0.008229817903409428), (851, 0.002732265709021148), (852, 0.04707059717256955), (853, 0.04221038034066281), (854, 0.028935695946106003), (855, 0.0), (856, 0.04161984995912963), (857, 0.0034441387083011927), (858, 0.002105871146308784), (859, 0.030005056774114528), (860, 0.0036136747118935618), (861, 0.0026857596510339744), (862, 0.017377569504987464), (863, 0.0028509300570665557), (864, 0.00816863164522756), (865, 0.0032024776312697873), (866, 0.0075152440162308785), (867, 0.0030738126493386406), (868, 0.026676913353223166), (869, 0.0), (870, 0.007904699366033385), (871, 0.03473710548623358), (872, 0.0033389572573153245), (873, 0.0), (874, 0.011253256763703394), (875, 0.01711797096652454), (876, 0.0035599497786733035), (877, 0.0), (878, 0.03182773891966602), (879, 0.02645201941766423), (880, 0.003074109060205616), (881, 0.015666756424550368), (882, 0.0044012548582720214), (883, 0.05214052683931482), (884, 0.013666597904946527), (885, 0.007250983448888715), (886, 0.002923984227074728), (887, 0.03552444635621201), (888, 0.014558457186575575), (889, 0.0040139164868187955), (890, 0.0084310981673625), (891, 0.015781632117576803), (892, 0.0), (893, 0.02161672326707969), (894, 0.008008074444779283), (895, 0.016783141308098853), (896, 0.0034071657380344814), (897, 0.018238605247862187), (898, 0.017969204672717922), (899, 0.00745196531611459), (900, 0.002916119940595416), (901, 0.002583305215441065), (902, 0.015999011534464137), (903, 0.0029235531281772142), (904, 0.01763613095894404), (905, 0.0), (906, 0.0), (907, 0.00743415032073119), (908, 0.01932931057138796), (909, 0.03606339422359205), (910, 0.015630032117643168), (911, 0.041914411559618135), (912, 0.0), (913, 0.021810435456295935), (914, 0.0), (915, 0.034523759854615456), (916, 0.046435883706195856), (917, 0.002791700325957153), (918, 0.01958061999639467), (919, 0.005045713084081648), (920, 0.0), (921, 0.0029027054624778123), (922, 0.028446192710515183), (923, 0.0335724118879843), (924, 0.007041555374389207), (925, 0.0035862072988941526), (926, 0.0), (927, 0.01529858748607918), (928, 0.026753867272650805), (929, 0.00941318462968873), (930, 0.0138505099385464), (931, 0.004961691383731603), (932, 0.0), (933, 0.0031852549777600945), (934, 0.05453588599212131), (935, 0.016755531830292415), (936, 0.01683959514074788), (937, 0.003643885892789991), (938, 0.015017565544190335), (939, 0.03659692998861993), (940, 0.00218277987289421), (941, 0.002921155800757914), (942, 0.0025355577835097453), (943, 0.0), (944, 0.0029058128191405738), (945, 0.005027491679753262), (946, 0.05238201555069489), (947, 0.0042071735343642315), (948, 0.006251690809975308), (949, 0.09891695124124568), (950, 0.1371035139824308), (951, 0.0026329343399394594), (952, 0.0033714898593798425), (953, 0.002511196912416476), (954, 0.0), (955, 0.02561616969057845), (956, 0.017087953274118863), (957, 0.01652830980342543), (958, 0.0), (959, 0.0030293957078658504), (960, 0.014811168904916431), (961, 0.0), (962, 0.012373399700985329), (963, 0.06015391635732273), (964, 0.0), (965, 0.0), (966, 0.00763273935199186), (967, 0.027992862278456588), (968, 0.0028252569237387274), (969, 0.025358429293402353), (970, 0.004194971562379042), (971, 0.005110638285880052), (972, 0.0), (973, 0.012856198256641815), (974, 0.004647984299987035), (975, 0.0029197645119849224), (976, 0.0), (977, 0.010926292101847927), (978, 0.004592492435439526), (979, 0.0), (980, 0.013576215622603416), (981, 0.0809718628879715), (982, 0.0109236726618011), (983, 0.0), (984, 0.01249487384952818), (985, 0.0035677855502437173), (986, 0.003116514920954788), (987, 0.01941194923020589), (988, 0.03347031042476808), (989, 0.003067668515185774), (990, 0.0), (991, 0.003347905474486977), (992, 0.0), (993, 0.02220179902210189), (994, 0.023528787426514212), (995, 0.014592037905343101), (996, 0.0), (997, 0.009008887373210255), (998, 0.003535680401285893), (999, 0.00353278669330076), (1000, 0.007271083331053422), (1001, 0.012436827751831091), (1002, 0.0124331583455561), (1003, 0.0), (1004, 0.002795523306309949), (1005, 0.02189527089434044), (1006, 0.008445731663339352), (1007, 0.0032834213654885885), (1008, 0.01861647068343629), (1009, 0.05016496251635222), (1010, 0.01600304206720773), (1011, 0.005607339032583743), (1012, 0.015450495734251654), (1013, 0.04533792656444591), (1014, 0.0), (1015, 0.003371439394649711), (1016, 0.01856861996625806), (1017, 0.012767762077750247), (1018, 0.004329716347300743), (1019, 0.020719390141002665), (1020, 0.002992234035188593), (1021, 0.003106679978764688), (1022, 0.01491352530606901), (1023, 0.0035058529658664544), (1024, 0.0), (1025, 0.0044245748281116935), (1026, 0.0030604920964674037), (1027, 0.0029823888934372633), (1028, 0.0), (1029, 0.009397030869737998), (1030, 0.012715360343879952), (1031, 0.01592925077312187), (1032, 0.002945817806204411), (1033, 0.012507930316609595), (1034, 0.002986828351574786), (1035, 0.007853420239259758), (1036, 0.0029415814840399097), (1037, 0.015224351092798552), (1038, 0.0), (1039, 0.027821205720628656), (1040, 0.0024359914449111814), (1041, 0.021651532583195205), (1042, 0.023996836719489746), (1043, 0.008834158419899584), (1044, 0.04294241466516263), (1045, 0.0), (1046, 0.021775366886438892), (1047, 0.015609571467055713), (1048, 0.02988242234116381), (1049, 0.0036982940916677936), (1050, 0.011190735252775386), (1051, 0.0), (1052, 0.02192297334500572), (1053, 0.0036684276508119717), (1054, 0.017866270756889988), (1055, 0.0), (1056, 0.016300653175939275), (1057, 0.0), (1058, 0.0), (1059, 0.008002163347224669), (1060, 0.032535361074451326), (1061, 0.0), (1062, 0.0), (1063, 0.013483996682524783), (1064, 0.003778648249659982), (1065, 0.002850656508825704), (1066, 0.009145780190652545), (1067, 0.009553771752660013), (1068, 0.004591740380295047), (1069, 0.011207345296660513), (1070, 0.0), (1071, 0.02452252930717825), (1072, 0.0030891205291603756), (1073, 0.0), (1074, 0.0), (1075, 0.0032855373307308774), (1076, 0.0), (1077, 0.008258736079508899), (1078, 0.019812805784671643), (1079, 0.0028681163887428842), (1080, 0.01537109937658932), (1081, 0.0), (1082, 0.0), (1083, 0.0032450812017093), (1084, 0.042942730769692086), (1085, 0.0), (1086, 0.02606955069047529), (1087, 0.027454511574392052), (1088, 0.0026661558023756368), (1089, 0.0), (1090, 0.01306781146139055), (1091, 0.01096629211125866), (1092, 0.0), (1093, 0.0), (1094, 0.0), (1095, 0.008874378124384326), (1096, 0.0030342575963096634), (1097, 0.021806708471439125), (1098, 0.0025432762873035222), (1099, 0.0), (1100, 0.0030672779232762295), (1101, 0.0), (1102, 0.0030954417185067758), (1103, 0.0), (1104, 0.00522602004776524), (1105, 0.02024334742068861), (1106, 0.014071710602248929), (1107, 0.04982958673636639), (1108, 0.0), (1109, 0.014469578857200585), (1110, 0.003065674458978273), (1111, 0.010147562962243664), (1112, 0.0031064249848940465), (1113, 0.009586274365621468), (1114, 0.016672109146246193), (1115, 0.0), (1116, 0.0), (1117, 0.00299618230847751), (1118, 0.014311879969691436), (1119, 0.0033299403375338502), (1120, 0.004233095175033202), (1121, 0.02980649418545232), (1122, 0.054525559856294634), (1123, 0.03234343539509545), (1124, 0.02808705489799553), (1125, 0.0), (1126, 0.02145320219792426), (1127, 0.0), (1128, 0.0), (1129, 0.00993398755851099), (1130, 0.004865284854450005), (1131, 0.05007517229788849), (1132, 0.007682763671965354), (1133, 0.021678967186255758), (1134, 0.00902918802866039), (1135, 0.014473145574851794), (1136, 0.011439977268898992), (1137, 0.008224217378047499), (1138, 0.0031549809170056224), (1139, 0.013126469684088364), (1140, 0.008655752587632806), (1141, 0.0033330768883255394), (1142, 0.0), (1143, 0.0), (1144, 0.006445117056234786), (1145, 0.004312837318738506), (1146, 0.0048007804084309845), (1147, 0.0), (1148, 0.0035214395864317924), (1149, 0.0), (1150, 0.00535531753082642), (1151, 0.0), (1152, 0.0), (1153, 0.0), (1154, 0.0), (1155, 0.005149617067207317), (1156, 0.0), (1157, 0.004555656409947363), (1158, 0.0), (1159, 0.0), (1160, 0.03256780514065377), (1161, 0.016894298291270086), (1162, 0.0), (1163, 0.013112673270386387), (1164, 0.0), (1165, 0.0), (1166, 0.0), (1167, 0.0), (1168, 0.021736139903043485), (1169, 0.019983435502211017), (1170, 0.008093097692631645), (1171, 0.004497580641858845), (1172, 0.0), (1173, 0.023200840702979716), (1174, 0.003188448357078191), (1175, 0.017231669630969827), (1176, 0.0031836700060608337), (1177, 0.002938008776189927), (1178, 0.040667916607685976), (1179, 0.07883541855445006), (1180, 0.0), (1181, 0.0), (1182, 0.0031821190130763254), (1183, 0.0028949567202661702), (1184, 0.014985739563877335), (1185, 0.06335124847045703), (1186, 0.04328320679190112), (1187, 0.0036644044574782927), (1188, 0.0032735988796505923), (1189, 0.0), (1190, 0.0), (1191, 0.013100598081543288), (1192, 0.036434489288035866), (1193, 0.0227657441794488), (1194, 0.05357425880299578), (1195, 0.005146711753635706), (1196, 0.0), (1197, 0.01841996112512466), (1198, 0.0), (1199, 0.01158770130006654), (1200, 0.0), (1201, 0.0), (1202, 0.0026455178314084703), (1203, 0.0029283799519838416), (1204, 0.003164427955261119), (1205, 0.0), (1206, 0.007557051081177649), (1207, 0.0), (1208, 0.01030639040489786), (1209, 0.002599054196267783), (1210, 0.01444172294207967), (1211, 0.0), (1212, 0.0), (1213, 0.039660887114425857), (1214, 0.008326690303888589), (1215, 0.03361981107541638), (1216, 0.067248962059176), (1217, 0.014823519846888062), (1218, 0.035504960296465306), (1219, 0.048613945038918534), (1220, 0.007296355928141016), (1221, 0.004127881840743939), (1222, 0.030404269355315285), (1223, 0.008115282687590295), (1224, 0.05672998810780427), (1225, 0.05092019154740531), (1226, 0.0), (1227, 0.02221311134172236), (1228, 0.0), (1229, 0.01782578030712675), (1230, 0.0), (1231, 0.0), (1232, 0.0031429549509010687), (1233, 0.052847184352453884), (1234, 0.04346620872286015), (1235, 0.0), (1236, 0.009109692435338355), (1237, 0.030892598248558854), (1238, 0.004931272633989741), (1239, 0.04848202636480471), (1240, 0.0), (1241, 0.06246547242037298), (1242, 0.0), (1243, 0.003401854110542413), (1244, 0.010332276852343683), (1245, 0.05191443294996056), (1246, 0.040206371159094256), (1247, 0.026166702942317963), (1248, 0.0029965972996247), (1249, 0.0), (1250, 0.10730475808720988), (1251, 0.0027598959918572617), (1252, 0.0030900866939998412), (1253, 0.04284498563134851), (1254, 0.013373857330910857), (1255, 0.016223467251727124), (1256, 0.00945782302099543), (1257, 0.07405850620700831), (1258, 0.0), (1259, 0.037025164993092434), (1260, 0.0), (1261, 0.0030197130040759785), (1262, 0.00495188484727859), (1263, 0.04181001605653464), (1264, 0.0037569436787936814), (1265, 0.010886903099433786), (1266, 0.005065503679211967), (1267, 0.025801988465346502), (1268, 0.0), (1269, 0.0), (1270, 0.009103671304722996), (1271, 0.010509773172447348), (1272, 0.0), (1273, 0.02253724390881992), (1274, 0.004715294004929045), (1275, 0.003598747235889521), (1276, 0.01040926846960711), (1277, 0.00604526726119543), (1278, 0.021506895296037987), (1279, 0.0041803218759054045), (1280, 0.0), (1281, 0.0), (1282, 0.005308105928443007), (1283, 0.0), (1284, 0.034432435576992104), (1285, 0.0), (1286, 0.0030576083025711308), (1287, 0.0), (1288, 0.013631602790373768), (1289, 0.0), (1290, 0.002763124201414883), (1291, 0.009198367548535022), (1292, 0.0), (1293, 0.054979151155807274), (1294, 0.05497973244212674), (1295, 0.0), (1296, 0.012818844429770276), (1297, 0.018936655320025288), (1298, 0.003101616703742028), (1299, 0.0), (1300, 0.008470051090255042), (1301, 0.01581387474291169), (1302, 0.0), (1303, 0.0025146351712132388), (1304, 0.013053470102514926), (1305, 0.010787872913745902), (1306, 0.032652523359701355), (1307, 0.009344960200055092), (1308, 0.027349225587638575), (1309, 0.0), (1310, 0.0), (1311, 0.0), (1312, 0.03360960127031507), (1313, 0.003073380889412683), (1314, 0.02022689274440228), (1315, 0.0), (1316, 0.0), (1317, 0.0025270105655153213), (1318, 0.0027815583901597556), (1319, 0.017673774337287056), (1320, 0.0), (1321, 0.0467798441913425), (1322, 0.005054348573086612), (1323, 0.0), (1324, 0.003326942842518591), (1325, 0.0033805129647195846), (1326, 0.0), (1327, 0.0), (1328, 0.014716801577747615), (1329, 0.009799299847270484), (1330, 0.0), (1331, 0.0), (1332, 0.011160565341448034), (1333, 0.0), (1334, 0.003201713668042517), (1335, 0.02338329001663394), (1336, 0.005213370939470713), (1337, 0.003182851978669795), (1338, 0.0703916311774763), (1339, 0.003315132462257687), (1340, 0.01450047925582651), (1341, 0.01637153236860535), (1342, 0.0), (1343, 0.005902356843780728), (1344, 0.01938476407166123), (1345, 0.0), (1346, 0.004993484561023402), (1347, 0.0047958060094828), (1348, 0.0), (1349, 0.05173589146640752), (1350, 0.0030380766297266946), (1351, 0.06880240422933846), (1352, 0.006866868964902992), (1353, 0.0), (1354, 0.023548240886989605), (1355, 0.003193908447583706), (1356, 0.03284009118031651), (1357, 0.017247186862568736), (1358, 0.07726906668990002), (1359, 0.0033514129971654746), (1360, 0.007357421246023399), (1361, 0.0), (1362, 0.0), (1363, 0.0), (1364, 0.018795248506423074), (1365, 0.015212002772888825), (1366, 0.002813380811425791), (1367, 0.002604562777658045), (1368, 0.02575234411793577), (1369, 0.0066165259826719055), (1370, 0.002689257020408655), (1371, 0.05822381077722953), (1372, 0.012322202891646743), (1373, 0.025858010659910224), (1374, 0.014992878453743813), (1375, 0.01720395720417059), (1376, 0.0), (1377, 0.006521127425966374), (1378, 0.003116246823539828), (1379, 0.013518401615846018), (1380, 0.015800562872579898), (1381, 0.005697763903288981), (1382, 0.0032192754889952073), (1383, 0.014828093914111605), (1384, 0.004419011267798691), (1385, 0.0031228182155004953), (1386, 0.0), (1387, 0.0028155595227153576), (1388, 0.0), (1389, 0.02176844470395088), (1390, 0.0053417912999785995), (1391, 0.0), (1392, 0.007187492540984843), (1393, 0.0), (1394, 0.007162263638009481), (1395, 0.021484600615312887), (1396, 0.010384831401338316), (1397, 0.0026971111665471713), (1398, 0.021665345125048325), (1399, 0.027979361743909605), (1400, 0.003287661529982252), (1401, 0.0), (1402, 0.008476984265396975), (1403, 0.0023962921141600637), (1404, 0.007641546204260207), (1405, 0.0), (1406, 0.0), (1407, 0.0), (1408, 0.012793366759069901), (1409, 0.014053003195276725), (1410, 0.1217549241099622), (1411, 0.00798836380033325), (1412, 0.009451765676175599), (1413, 0.013243297582219109), (1414, 0.011718775389689792), (1415, 0.002555337464661193), (1416, 0.002980457787558414), (1417, 0.002434593941500971), (1418, 0.04882691007530267), (1419, 0.022262169314169408), (1420, 0.014834725833151808), (1421, 0.01744992863024215), (1422, 0.021459049967429894), (1423, 0.0027679924639281333), (1424, 0.0), (1425, 0.005050970838500686), (1426, 0.005260370851682729), (1427, 0.0025566797928682624), (1428, 0.0), (1429, 0.003749461559108344), (1430, 0.034132335123342114), (1431, 0.0050842031125159755), (1432, 0.021533206112840087), (1433, 0.002901635184225078), (1434, 0.03446271412558249), (1435, 0.04184516665346468), (1436, 0.005253440358849654), (1437, 0.0), (1438, 0.003088769435302029), (1439, 0.0032656074455030336), (1440, 0.0031670442061098275), (1441, 0.0), (1442, 0.02490735778758556), (1443, 0.04213881630889832), (1444, 0.0), (1445, 0.0), (1446, 0.007746901936134354), (1447, 0.026829293371248855), (1448, 0.002881881815998946), (1449, 0.0), (1450, 0.0026877385559494395), (1451, 0.009327605690662426), (1452, 0.02185025070738088), (1453, 0.007989873357374687), (1454, 0.0034257001186716782), (1455, 0.0), (1456, 0.007503489262672462), (1457, 0.0), (1458, 0.0), (1459, 0.009774555565828298), (1460, 0.0), (1461, 0.0050206747803927575), (1462, 0.021821676695490844), (1463, 0.017452179229596798), (1464, 0.02212079726912098), (1465, 0.019997811049273045), (1466, 0.011677393764577477), (1467, 0.007812043021824223), (1468, 0.0044010215718316105), (1469, 0.0), (1470, 0.0), (1471, 0.04478161606887151), (1472, 0.018223690376341795), (1473, 0.0), (1474, 0.02018638520930105), (1475, 0.11211382014273256), (1476, 0.00315986068207197), (1477, 0.012035987244741154), (1478, 0.03258866441408843), (1479, 0.003420765739773171), (1480, 0.0), (1481, 0.016525859358205407), (1482, 0.016538374356049452), (1483, 0.013033939332961614), (1484, 0.0032991665767967623), (1485, 0.0), (1486, 0.0054680218203943904), (1487, 0.01891221287802794), (1488, 0.0031267373990807165), (1489, 0.003504592232935765), (1490, 0.0), (1491, 0.0), (1492, 0.0), (1493, 0.004786823947238544), (1494, 0.013443098204082786), (1495, 0.02029385999203201), (1496, 0.03022609159699396), (1497, 0.0035594998242072058), (1498, 0.014603754204976366), (1499, 0.0034913711315961993), (1500, 0.017799005488084982), (1501, 0.024967332112138477), (1502, 0.05412156338529015), (1503, 0.020913252823482546), (1504, 0.0), (1505, 0.0), (1506, 0.021893434423287297), (1507, 0.015981378256673843), (1508, 0.034935603292712995), (1509, 0.02071286342178356), (1510, 0.008161107448603414), (1511, 0.04664976470345272), (1512, 0.0), (1513, 0.0032489622482658647), (1514, 0.031754688061465364), (1515, 0.004997471393543467), (1516, 0.0032120323895739006), (1517, 0.009886580352357358), (1518, 0.014147301916818903), (1519, 0.012147093663200504), (1520, 0.005329960673722755), (1521, 0.0042882035108966305), (1522, 0.01002765164114181), (1523, 0.06165122107153334), (1524, 0.0045473245281030025), (1525, 0.005090741088113912), (1526, 0.019648901971775646), (1527, 0.003052376019920351), (1528, 0.002832837107550287), (1529, 0.0), (1530, 0.004066151960292722), (1531, 0.0), (1532, 0.0), (1533, 0.12220009955331856), (1534, 0.03947291845879933), (1535, 0.04327526851105454), (1536, 0.03688904925183009), (1537, 0.041751233640860655), (1538, 0.0028309907511537558), (1539, 0.007208419555633382), (1540, 0.0), (1541, 0.0), (1542, 0.0), (1543, 0.0028734839972934345), (1544, 0.0), (1545, 0.0), (1546, 0.004271381030722194), (1547, 0.021797743795049146), (1548, 0.03443096651820418), (1549, 0.0), (1550, 0.003075438257536661), (1551, 0.004879915788364513), (1552, 0.013343037486565542), (1553, 0.011516636408707526), (1554, 0.011028665018322585), (1555, 0.007525626432444253), (1556, 0.0), (1557, 0.014340311826095686), (1558, 0.0028992594481969335), (1559, 0.004297110973198466), (1560, 0.0), (1561, 0.0), (1562, 0.012926510469908621), (1563, 0.0), (1564, 0.0050851137330642044), (1565, 0.0069099119883386205), (1566, 0.0), (1567, 0.0), (1568, 0.0045309640875122546), (1569, 0.0), (1570, 0.03608502756866115), (1571, 0.014965194262118571), (1572, 0.0033186436079732065), (1573, 0.013748537227097736), (1574, 0.008157843985001764), (1575, 0.0), (1576, 0.01781019406150106), (1577, 0.015112836728790973), (1578, 0.0052293850587856105), (1579, 0.027119088163172503), (1580, 0.0034415828177876123), (1581, 0.0), (1582, 0.002994269759608059), (1583, 0.0054396302921005946), (1584, 0.013603102535452043), (1585, 0.0), (1586, 0.015866852048822325), (1587, 0.005054067079784028), (1588, 0.014581818581944034), (1589, 0.0), (1590, 0.0), (1591, 0.0), (1592, 0.02866130491962916), (1593, 0.0037797135781787354), (1594, 0.014610116857990947), (1595, 0.007315792204373143), (1596, 0.0), (1597, 0.01743645367509849), (1598, 0.0030788014858261726), (1599, 0.021996792981417088), (1600, 0.0), (1601, 0.0), (1602, 0.0), (1603, 0.0), (1604, 0.015463609767787073), (1605, 0.022445232217495625), (1606, 0.0), (1607, 0.013590514784800993), (1608, 0.02036002647562442), (1609, 0.0), (1610, 0.0), (1611, 0.014103527742627435), (1612, 0.003105768951639118), (1613, 0.00516449898595942), (1614, 0.014929535180921627), (1615, 0.0), (1616, 0.0027408564325967113), (1617, 0.017671251908847316), (1618, 0.0), (1619, 0.02523607780495427), (1620, 0.0075590158932229085), (1621, 0.02499509409182742), (1622, 0.0), (1623, 0.0), (1624, 0.002537993935148982), (1625, 0.0028045497483885646), (1626, 0.004498910099791061), (1627, 0.014595490998329875), (1628, 0.0028537745560584175), (1629, 0.03651212685870708), (1630, 0.02266415525523143), (1631, 0.03011595168919283), (1632, 0.0047604916135449964), (1633, 0.0), (1634, 0.0030912029143987563), (1635, 0.0), (1636, 0.0051157071983008885), (1637, 0.014090292064402227), (1638, 0.07603687817564023), (1639, 0.011814386522831745), (1640, 0.0053626540646975335), (1641, 0.002892216257398371), (1642, 0.007481868235517525), (1643, 0.008487058237773824), (1644, 0.0), (1645, 0.007809638193231824), (1646, 0.0), (1647, 0.0), (1648, 0.009744940624572752), (1649, 0.05232650495465124), (1650, 0.012100219826084491), (1651, 0.0), (1652, 0.0), (1653, 0.017651484060017236), (1654, 0.0), (1655, 0.0037938847922203423), (1656, 0.06303890223945832), (1657, 0.0), (1658, 0.03798805683573939), (1659, 0.010676883748868556), (1660, 0.008446433794467896), (1661, 0.0), (1662, 0.01763451933854648), (1663, 0.002938226774070388), (1664, 0.014771408369323658), (1665, 0.002920249349327799), (1666, 0.03479579244400327), (1667, 0.002874397382387931), (1668, 0.009561072862111934), (1669, 0.018434208525635234), (1670, 0.017971172833708415), (1671, 0.0030196210610125914), (1672, 0.0028551626206310757), (1673, 0.0), (1674, 0.0), (1675, 0.03824991652825918), (1676, 0.0), (1677, 0.0024537558896903173), (1678, 0.008037828388852395), (1679, 0.01075948070146423), (1680, 0.01192990981366868), (1681, 0.01644839579263421), (1682, 0.02698526727505787), (1683, 0.0033375017292360007), (1684, 0.0), (1685, 0.0032998397357407415), (1686, 0.0), (1687, 0.008571217995144974), (1688, 0.013306343171113238), (1689, 0.026782018142844186), (1690, 0.002810016739841649), (1691, 0.029671907430012273), (1692, 0.018720730345614667), (1693, 0.002928377481256924), (1694, 0.0), (1695, 0.004018766572112728), (1696, 0.0), (1697, 0.0), (1698, 0.02580719011160165), (1699, 0.0), (1700, 0.009463830276011416), (1701, 0.02670278854166693), (1702, 0.005160547828989214), (1703, 0.0032269908642858698), (1704, 0.005061256758613457), (1705, 0.014944239033690743), (1706, 0.003147301918004037), (1707, 0.09026322635711319), (1708, 0.003349848923652709), (1709, 0.013963845368952593), (1710, 0.007657655207232808), (1711, 0.003911165785156758), (1712, 0.0033337843083688055), (1713, 0.0), (1714, 0.01729885523491852), (1715, 0.0), (1716, 0.020300063975883208), (1717, 0.003212118625441917), (1718, 0.021552474451234593), (1719, 0.03441646202859319), (1720, 0.02163887655328634), (1721, 0.0), (1722, 0.01724231596022382), (1723, 0.0046610411168254645), (1724, 0.01078550000523354), (1725, 0.0054890762975696875), (1726, 0.005095030741753961), (1727, 0.0032427983209775166), (1728, 0.11354787113688038), (1729, 0.0), (1730, 0.05972030152272371), (1731, 0.023839217659899173), (1732, 0.0), (1733, 0.008863793760127612), (1734, 0.014622957168616743), (1735, 0.0), (1736, 0.003265045156871555), (1737, 0.0), (1738, 0.004713518781826418), (1739, 0.0028043528827080607), (1740, 0.019091676247410972), (1741, 0.0), (1742, 0.017114994519565573), (1743, 0.006881030365160724), (1744, 0.0029753646458888804), (1745, 0.0), (1746, 0.009267759802896944), (1747, 0.002427206566694407), (1748, 0.13194182692316095), (1749, 0.0), (1750, 0.0), (1751, 0.0050234721315995465), (1752, 0.0), (1753, 0.0), (1754, 0.10436451244125716), (1755, 0.030123347335478216), (1756, 0.004682136320532113), (1757, 0.020364275046235253), (1758, 0.00574144473398682), (1759, 0.00294691801417378), (1760, 0.031723697048957306), (1761, 0.0), (1762, 0.00721176874520005), (1763, 0.0026708535149013554), (1764, 0.038349730261783094), (1765, 0.003225760464147355), (1766, 0.0), (1767, 0.0), (1768, 0.008311503362126427), (1769, 0.02089002716848029), (1770, 0.02222811015470612), (1771, 0.021181168574181432), (1772, 0.004308551054884423), (1773, 0.0), (1774, 0.002381409945657538), (1775, 0.01627425136663769), (1776, 0.0027467542821292346), (1777, 0.0), (1778, 0.004624690780036214), (1779, 0.003320580267434981), (1780, 0.012208792293572421), (1781, 0.008449284700880168), (1782, 0.01655532605143857), (1783, 0.0), (1784, 0.004508561388707879), (1785, 0.0), (1786, 0.011016934729070737), (1787, 0.009405264156840695), (1788, 0.018675674660545663), (1789, 0.0), (1790, 0.016636477938430316), (1791, 0.0), (1792, 0.021993931416584893), (1793, 0.05485049445167839), (1794, 0.04237466052423765), (1795, 0.0), (1796, 0.011985220807089822), (1797, 0.0), (1798, 0.034413954667361496), (1799, 0.01087602844570024), (1800, 0.0), (1801, 0.014339420757249014), (1802, 0.01276070901363439), (1803, 0.0), (1804, 0.015027521821772064), (1805, 0.014311723276366619), (1806, 0.0), (1807, 0.021618255848810518), (1808, 0.007250002474678934), (1809, 0.004487218045556741), (1810, 0.009576719706438848), (1811, 0.0030938143470903507), (1812, 0.010607887653559874), (1813, 0.003027969905320135), (1814, 0.0028717315750675675), (1815, 0.03674487981768523), (1816, 0.004475709401528269), (1817, 0.008911626291191334), (1818, 0.009410132590408416), (1819, 0.0029056865993056023), (1820, 0.0), (1821, 0.013784305828257067), (1822, 0.0032923726167957477), (1823, 0.009187699494525931), (1824, 0.00466713072121774), (1825, 0.009498985331684962), (1826, 0.002820299247662149), (1827, 0.011878487427543216), (1828, 0.026161718670093554), (1829, 0.010903465435154103), (1830, 0.02201388238538303), (1831, 0.012988048563681392), (1832, 0.0), (1833, 0.0026706726152872823), (1834, 0.0), (1835, 0.010510183007735017), (1836, 0.0), (1837, 0.0), (1838, 0.0), (1839, 0.0), (1840, 0.018227888768474906), (1841, 0.005164102192371066), (1842, 0.0), (1843, 0.003537484985861024), (1844, 0.0), (1845, 0.006836215472775669), (1846, 0.0), (1847, 0.02134334715007833), (1848, 0.0033574616971297857), (1849, 0.020350781194398516), (1850, 0.004282556400645143), (1851, 0.008416143727120635), (1852, 0.004896256031359992), (1853, 0.0033013089689959744), (1854, 0.002977816887926147), (1855, 0.0), (1856, 0.0), (1857, 0.004887966966616871), (1858, 0.009045625089846918), (1859, 0.005235494681951817), (1860, 0.08280876490358034), (1861, 0.002364095011879261), (1862, 0.026645043451637138), (1863, 0.0), (1864, 0.026057139996173463), (1865, 0.03573219844021015), (1866, 0.06471332139367174), (1867, 0.0), (1868, 0.0), (1869, 0.021540443977972206), (1870, 0.0), (1871, 0.018427641463196795), (1872, 0.0031545147412392486), (1873, 0.013969503267997806), (1874, 0.0033706278193192103), (1875, 0.007423540981865196), (1876, 0.017172674503187543), (1877, 0.007714105963941549), (1878, 0.0029613643618133663), (1879, 0.0), (1880, 0.0), (1881, 0.04229723163232427), (1882, 0.0030558516129422265), (1883, 0.017911619579437543), (1884, 0.0029151345473369446), (1885, 0.0036544075386167256), (1886, 0.0476490405964923), (1887, 0.009161110053303709), (1888, 0.0048773910838086085), (1889, 0.0), (1890, 0.0034607590997542993), (1891, 0.0030918340258908857), (1892, 0.0028321000384243277), (1893, 0.008526433332299119), (1894, 0.0), (1895, 0.02415083036422861), (1896, 0.041667373239733005), (1897, 0.003381643885427175), (1898, 0.0), (1899, 0.0), (1900, 0.0), (1901, 0.046271776117530174), (1902, 0.013807114974554982), (1903, 0.004644619125527406), (1904, 0.0), (1905, 0.003400315895347289), (1906, 0.0), (1907, 0.00870163324860028), (1908, 0.015061670867174755), (1909, 0.003540059632118126), (1910, 0.004194532814467079), (1911, 0.0), (1912, 0.0), (1913, 0.0), (1914, 0.017782218154175442), (1915, 0.024276240733725724), (1916, 0.003286676703338715), (1917, 0.0), (1918, 0.013875102229251368), (1919, 0.012590873507943967), (1920, 0.0028837729048265385), (1921, 0.002787359011362296), (1922, 0.0031484475060947177), (1923, 0.003463828274405781), (1924, 0.03862371190850747), (1925, 0.06201687972881793), (1926, 0.0), (1927, 0.0), (1928, 0.040308473108943636), (1929, 0.002973313507880254), (1930, 0.0), (1931, 0.0031866296875186074), (1932, 0.0), (1933, 0.021177322343499595), (1934, 0.002784862030026592), (1935, 0.004506852163577057), (1936, 0.00318764529740141), (1937, 0.11224356527811516), (1938, 0.017235438383797656), (1939, 0.041024870089997466), (1940, 0.0), (1941, 0.0), (1942, 0.003173147792495096), (1943, 0.0027147036779534553), (1944, 0.0), (1945, 0.010092968190910004), (1946, 0.0032049462267093724), (1947, 0.003620622096924263), (1948, 0.05254858976188152), (1949, 0.010384756061396648), (1950, 0.01934269566860637), (1951, 0.008576948821249965), (1952, 0.022141421876738683), (1953, 0.0), (1954, 0.002762801779273517), (1955, 0.0), (1956, 0.0), (1957, 0.00834253844674758), (1958, 0.0), (1959, 0.0033737693930068844), (1960, 0.003453214677320768), (1961, 0.005114982894885202), (1962, 0.0), (1963, 0.0), (1964, 0.02589448690724426), (1965, 0.021592491840078176), (1966, 0.0), (1967, 0.022492234726001613), (1968, 0.07543032485770326), (1969, 0.06349463641407027), (1970, 0.0), (1971, 0.0068519960953272105), (1972, 0.0), (1973, 0.017799084384824537), (1974, 0.00915425697029838), (1975, 0.0), (1976, 0.0), (1977, 0.0027769139908306777), (1978, 0.0), (1979, 0.0), (1980, 0.002797428133221097), (1981, 0.017171286982076837), (1982, 0.01364334884200345), (1983, 0.003248276009701897), (1984, 0.0045634848701932), (1985, 0.04024367065491288), (1986, 0.03526111760265324), (1987, 0.009115280744356946), (1988, 0.025776469275528815), (1989, 0.002505055827493229), (1990, 0.004523506531398018), (1991, 0.014157305744662885), (1992, 0.020773324081653777), (1993, 0.01332455735186026), (1994, 0.03266103802537374), (1995, 0.036895127664869305), (1996, 0.009624803094602173), (1997, 0.03594353916871173), (1998, 0.0), (1999, 0.0), (2000, 0.05077179267759363), (2001, 0.0), (2002, 0.0), (2003, 0.0047967814110617315), (2004, 0.002931361197928757), (2005, 0.008929158248612084), (2006, 0.0), (2007, 0.0), (2008, 0.003033108436245841), (2009, 0.0), (2010, 0.027096714528102507), (2011, 0.031200012140453093), (2012, 0.005709994202752057), (2013, 0.015892823256029413), (2014, 0.040399888369516634), (2015, 0.026770324717211812), (2016, 0.008392222242752188), (2017, 0.024376788498814812), (2018, 0.0), (2019, 0.0), (2020, 0.004235214843439516), (2021, 0.0), (2022, 0.05690743542313645), (2023, 0.017045567647136804), (2024, 0.002986639619511174), (2025, 0.0), (2026, 0.0), (2027, 0.12655432850751955), (2028, 0.0), (2029, 0.007892379610414139), (2030, 0.0), (2031, 0.01625573276904396), (2032, 0.005818296880870763), (2033, 0.0), (2034, 0.015419170609017247), (2035, 0.0026421852026957257), (2036, 0.02928086845013672), (2037, 0.008809932055852517), (2038, 0.0), (2039, 0.01947532739792955), (2040, 0.003445644489963755), (2041, 0.0), (2042, 0.0), (2043, 0.0699743603196003), (2044, 0.0), (2045, 0.008215614409885818), (2046, 0.014963372142945047), (2047, 0.038649953909365715), (2048, 0.019262991509180396), (2049, 0.0034384113807493424), (2050, 0.0), (2051, 0.0035435672247599954), (2052, 0.0), (2053, 0.008346098486228363), (2054, 0.0), (2055, 0.007326753032364491), (2056, 0.004784578117194788), (2057, 0.0), (2058, 0.008961222644213236), (2059, 0.0), (2060, 0.003087225810727986), (2061, 0.035738222148135115), (2062, 0.009615325533230573), (2063, 0.0), (2064, 0.0), (2065, 0.043594519915947774), (2066, 0.0), (2067, 0.03558416248495888), (2068, 0.016224852010337257), (2069, 0.003064367468115693), (2070, 0.10728829492459034), (2071, 0.00923817770074601), (2072, 0.03321739477933019), (2073, 0.025320764354567836), (2074, 0.0176096426742053), (2075, 0.004086689054196778), (2076, 0.006818051241136765), (2077, 0.0), (2078, 0.003948793651949226), (2079, 0.005667981909242657), (2080, 0.003013413665790145), (2081, 0.0), (2082, 0.02242633978907795), (2083, 0.03590806005208479), (2084, 0.0), (2085, 0.023166803136530748), (2086, 0.005288128626386026), (2087, 0.003050499511905691), (2088, 0.003267687503999132), (2089, 0.003664840557868294), (2090, 0.0), (2091, 0.0031623062481164464), (2092, 0.0), (2093, 0.009264194819566635), (2094, 0.004698483169760633), (2095, 0.009674076204417872), (2096, 0.014001083398178574), (2097, 0.025194804654685748), (2098, 0.03862011957128746), (2099, 0.002915165673445343), (2100, 0.0), (2101, 0.0), (2102, 0.06948664668515767), (2103, 0.00787162276641635), (2104, 0.019987532252361107), (2105, 0.0033211629526614683), (2106, 0.010355146046819069), (2107, 0.0), (2108, 0.0034617368086585936), (2109, 0.008148911568159365), (2110, 0.009190661807984505), (2111, 0.052461016952291835), (2112, 0.031738823158422136), (2113, 0.0), (2114, 0.04034739745905672), (2115, 0.0), (2116, 0.0033661702288361366), (2117, 0.0029916863704510747), (2118, 0.012405817644909889), (2119, 0.009292349846468354), (2120, 0.0), (2121, 0.002969236834214334), (2122, 0.0399782371203783), (2123, 0.0032282570123220796), (2124, 0.0), (2125, 0.012763690817875388), (2126, 0.00833694064876126), (2127, 0.006786480787567332), (2128, 0.004882496710048253), (2129, 0.0028899881746590793), (2130, 0.0), (2131, 0.007765826404795419), (2132, 0.0026056256629293554), (2133, 0.0029500227439331673), (2134, 0.0383794263871977), (2135, 0.009134647975682274), (2136, 0.05535002520708733), (2137, 0.054699204946988565), (2138, 0.0), (2139, 0.004659939968519154), (2140, 0.0), (2141, 0.0029810890839492127), (2142, 0.003637523275500645), (2143, 0.0077290753190522345), (2144, 0.0031460004499838604), (2145, 0.008819266260628332), (2146, 0.020331722320682998), (2147, 0.005270145912378426), (2148, 0.0032327167267915406), (2149, 0.0029141307700784156), (2150, 0.0), (2151, 0.00332532705791981), (2152, 0.0), (2153, 0.0), (2154, 0.003994979863898436), (2155, 0.03462663425753829), (2156, 0.00442118529998865), (2157, 0.01104541606850145), (2158, 0.0), (2159, 0.0416233006041452), (2160, 0.009344230591976874), (2161, 0.013263096625821641), (2162, 0.003349315235818895), (2163, 0.0027829439088661962), (2164, 0.0), (2165, 0.0), (2166, 0.002937321909821462), (2167, 0.019167750430985755), (2168, 0.00857177214690483), (2169, 0.008136270403093332), (2170, 0.0), (2171, 0.0), (2172, 0.0), (2173, 0.0030712196617589805), (2174, 0.0030914984930424114), (2175, 0.026641646957010903), (2176, 0.0034430081570832427), (2177, 0.02053481472164312), (2178, 0.004829464980345747), (2179, 0.0), (2180, 0.04910760846760997), (2181, 0.0), (2182, 0.0), (2183, 0.0), (2184, 0.0), (2185, 0.0), (2186, 0.0), (2187, 0.003579527066667631), (2188, 0.0038063604621520497), (2189, 0.0043781042221397335), (2190, 0.0033618795417503164), (2191, 0.0027970936774115657), (2192, 0.00314089639339868), (2193, 0.02224019297428096), (2194, 0.0), (2195, 0.018053216792406422), (2196, 0.003298221258746962), (2197, 0.0), (2198, 0.004974578999628057), (2199, 0.06971581633304388), (2200, 0.0), (2201, 0.02311157575731109), (2202, 0.0), (2203, 0.0), (2204, 0.004208963372740395), (2205, 0.009376281449477547), (2206, 0.0), (2207, 0.009170593428329387), (2208, 0.01653047018882389), (2209, 0.0034722461715359634), (2210, 0.022408404816504246), (2211, 0.023560374205423697), (2212, 0.0031121344083854183), (2213, 0.01668972856527864), (2214, 0.003391104728849088), (2215, 0.009320817909556453), (2216, 0.0030566852261229545), (2217, 0.0), (2218, 0.02967296636314967), (2219, 0.0), (2220, 0.0), (2221, 0.010848261252055957), (2222, 0.005128500350624373), (2223, 0.0035462085401634486), (2224, 0.025625077137857732), (2225, 0.0), (2226, 0.03355113243365982), (2227, 0.0), (2228, 0.0), (2229, 0.053349036285343175), (2230, 0.029507750893657148), (2231, 0.0), (2232, 0.0), (2233, 0.005448743907329441), (2234, 0.014333397242839243), (2235, 0.0), (2236, 0.030599721097966083), (2237, 0.02513615451546701), (2238, 0.0), (2239, 0.02430070066055683), (2240, 0.011527342149803003), (2241, 0.025995775510637913), (2242, 0.03213441580964904), (2243, 0.0), (2244, 0.0617506878027659), (2245, 0.004795647414569368), (2246, 0.014953896815247555), (2247, 0.016458773963226276), (2248, 0.0028039534814204266), (2249, 0.0), (2250, 0.031987438714246856), (2251, 0.004339536647867507), (2252, 0.010699285473652469), (2253, 0.0), (2254, 0.003346873575280198), (2255, 0.0040238997658456795), (2256, 0.0), (2257, 0.004015523538920798), (2258, 0.0), (2259, 0.03706517980174619), (2260, 0.003336416841926788), (2261, 0.0), (2262, 0.004473124979753764), (2263, 0.0053288853361379215), (2264, 0.015169241334036186), (2265, 0.02255441701112218), (2266, 0.003840356821268356), (2267, 0.0), (2268, 0.007807374732527336), (2269, 0.0036198344089612604), (2270, 0.0026947815868760003), (2271, 0.021043301802857697), (2272, 0.0), (2273, 0.0), (2274, 0.0), (2275, 0.0559107079289916), (2276, 0.0), (2277, 0.05686384720094821), (2278, 0.005037109764265255), (2279, 0.0030388849468488536), (2280, 0.009922774546760736), (2281, 0.0), (2282, 0.0), (2283, 0.015965995490991723), (2284, 0.0031357236049767874), (2285, 0.011741887395534627), (2286, 0.02182061287457365), (2287, 0.010886758619560837), (2288, 0.0032989763938522103), (2289, 0.003097298016361809), (2290, 0.010221885307638595), (2291, 0.05722205399306972), (2292, 0.0031765729757316273), (2293, 0.0033996621807859226), (2294, 0.053364639865335156), (2295, 0.003168482910872189), (2296, 0.0041708627745851105), (2297, 0.013679256175385986), (2298, 0.0), (2299, 0.0049874510362219885), (2300, 0.02075824590906634), (2301, 0.021099590362021317), (2302, 0.0035425172250714188), (2303, 0.02859553898676872), (2304, 0.0), (2305, 0.09913885078554319), (2306, 0.003946006053178611), (2307, 0.0), (2308, 0.0), (2309, 0.0029793391001536828), (2310, 0.004170045166445932), (2311, 0.004670604173005656), (2312, 0.0), (2313, 0.0031665245377395157), (2314, 0.0), (2315, 0.03954911715263053), (2316, 0.0), (2317, 0.007479890691543735), (2318, 0.008199114820726687), (2319, 0.026339435915845), (2320, 0.015169914714481723), (2321, 0.013495817303115578), (2322, 0.004836526636366425), (2323, 0.002814565319462352), (2324, 0.008048194584473435), (2325, 0.0), (2326, 0.003898759324011629), (2327, 0.013968428485787642), (2328, 0.0), (2329, 0.0048700650621534315), (2330, 0.005249609047989688), (2331, 0.0), (2332, 0.0), (2333, 0.0), (2334, 0.008320653938891047), (2335, 0.0), (2336, 0.0), (2337, 0.014775259166202447), (2338, 0.020839777709010174), (2339, 0.030314721286060085), (2340, 0.003126622077932639), (2341, 0.0), (2342, 0.0), (2343, 0.0), (2344, 0.003125378564182016), (2345, 0.0), (2346, 0.003546156242783315), (2347, 0.002867103483889308), (2348, 0.002937744739556692), (2349, 0.0043183899503941294), (2350, 0.03057142624828891), (2351, 0.00592646048903406), (2352, 0.0), (2353, 0.0), (2354, 0.003122005208276537), (2355, 0.002600209273653858), (2356, 0.0034865776598371886), (2357, 0.0), (2358, 0.0), (2359, 0.019324566967931948), (2360, 0.0), (2361, 0.0033082135939843443), (2362, 0.0028589835137276982), (2363, 0.006135863025270456), (2364, 0.0), (2365, 0.0), (2366, 0.0), (2367, 0.022079463793625284), (2368, 0.0), (2369, 0.0), (2370, 0.0032493541745877525), (2371, 0.0), (2372, 0.0), (2373, 0.0), (2374, 0.05113739373185634), (2375, 0.014430985773008151), (2376, 0.011626427709428047), (2377, 0.011893021527251246), (2378, 0.003670469359835242), (2379, 0.00450115309543602), (2380, 0.0), (2381, 0.0), (2382, 0.029392470892020947), (2383, 0.0), (2384, 0.011156226076665892), (2385, 0.003284980917662726), (2386, 0.01913436823639599), (2387, 0.023739348121071594), (2388, 0.007658202376563813), (2389, 0.0), (2390, 0.003419094762415322), (2391, 0.0033311477399697283), (2392, 0.03310496489065128), (2393, 0.0033284131162620695), (2394, 0.0032863903385908755), (2395, 0.0), (2396, 0.013255212024099012), (2397, 0.003172013284782442), (2398, 0.014285167683522474), (2399, 0.002878984240113915), (2400, 0.014857314750294191), (2401, 0.003031149890786068), (2402, 0.030617287996925195), (2403, 0.02157062217092956), (2404, 0.004242139015125494), (2405, 0.0032438451751440277), (2406, 0.02978202487647614), (2407, 0.004311277240256407), (2408, 0.0), (2409, 0.004728889776571815), (2410, 0.0034215220425020897), (2411, 0.0035316421597594693), (2412, 0.01564184679845433), (2413, 0.04735908991527301), (2414, 0.05051605750883627), (2415, 0.04129512081052595), (2416, 0.007967409395952193), (2417, 0.0036517643005836236), (2418, 0.008569002392170202), (2419, 0.003276718794730884), (2420, 0.0), (2421, 0.005058866680883164), (2422, 0.0126668178313784), (2423, 0.0039305805291634304), (2424, 0.0), (2425, 0.004042202146972874), (2426, 0.0), (2427, 0.015157481099316817), (2428, 0.014496507710338481), (2429, 0.0), (2430, 0.04322241357703065), (2431, 0.005110110225951211), (2432, 0.014441148175698519), (2433, 0.0), (2434, 0.0037285822021061463), (2435, 0.0), (2436, 0.009035234781353204), (2437, 0.0035400979417831873), (2438, 0.003863212784745298), (2439, 0.011457813062600297), (2440, 0.00633489039627104), (2441, 0.010637065139017859), (2442, 0.0), (2443, 0.005309125673144049), (2444, 0.019299933605911184), (2445, 0.0), (2446, 0.007508397211115391), (2447, 0.015524710030508856), (2448, 0.004073189085524528), (2449, 0.0), (2450, 0.0), (2451, 0.0), (2452, 0.0), (2453, 0.0028665386723475046), (2454, 0.003766157781141161), (2455, 0.0), (2456, 0.010338622536520205), (2457, 0.0028055758733518707), (2458, 0.005410845577763612), (2459, 0.003796205415431211), (2460, 0.0), (2461, 0.01273629915892726), (2462, 0.0), (2463, 0.06598534966100442), (2464, 0.0034205961236859045), (2465, 0.0), (2466, 0.0175353499181675), (2467, 0.003009115903692622), (2468, 0.0), (2469, 0.0024419053458016892), (2470, 0.005607719059284613), (2471, 0.0), (2472, 0.05280555353601768), (2473, 0.002970338665767834), (2474, 0.04846015631075453), (2475, 0.00335409649517155), (2476, 0.0), (2477, 0.0033697279841796123), (2478, 0.021484804643442493), (2479, 0.0), (2480, 0.018758188787977338), (2481, 0.006732091843544775), (2482, 0.0970711587313872), (2483, 0.08178710988845284), (2484, 0.004170176689084584), (2485, 0.016670109308952647), (2486, 0.005668852587218739), (2487, 0.027566747887963067), (2488, 0.0038116335423940867), (2489, 0.003178459744784141), (2490, 0.0044953083468098134), (2491, 0.0045777624138838725), (2492, 0.013130804598647287), (2493, 0.015402324217463856), (2494, 0.008715698298498204), (2495, 0.0031186199811234568), (2496, 0.002916713046080904), (2497, 0.004585649019377198), (2498, 0.009781438911687748), (2499, 0.023099376308560855), (2500, 0.0), (2501, 0.00498899969232093), (2502, 0.11498163219140066), (2503, 0.014856550177402485), (2504, 0.004847713859152047), (2505, 0.020784819950305677), (2506, 0.0), (2507, 0.0033880528693029624), (2508, 0.01798308011035338), (2509, 0.010723475441740352), (2510, 0.01707483136360453), (2511, 0.005146484052953579), (2512, 0.016952064822318196), (2513, 0.013814788835293718), (2514, 0.004460753698843987), (2515, 0.0), (2516, 0.0), (2517, 0.0), (2518, 0.005605136911678934), (2519, 0.0), (2520, 0.04766483380702787), (2521, 0.0), (2522, 0.026478672044452124), (2523, 0.0178646856166912), (2524, 0.008071595206617467), (2525, 0.030185929950472458), (2526, 0.006614276234293667), (2527, 0.002682488000009203), (2528, 0.03650560018751569), (2529, 0.004527421123070037), (2530, 0.003964090946783756), (2531, 0.008424997025654753), (2532, 0.005605298223027669), (2533, 0.0031369033660628726), (2534, 0.008035976853059741), (2535, 0.003456821625457033), (2536, 0.0), (2537, 0.004278516272390113), (2538, 0.0018661309338089073), (2539, 0.008695640568538802), (2540, 0.07925903676571619), (2541, 0.018869252051439744), (2542, 0.0), (2543, 0.0), (2544, 0.0), (2545, 0.0032494058567165644), (2546, 0.00841558897569528), (2547, 0.006538284446156845), (2548, 0.0), (2549, 0.0), (2550, 0.028846303815365116), (2551, 0.010177888927899122), (2552, 0.016923232826094047), (2553, 0.022487307786233493), (2554, 0.0031463664060616355), (2555, 0.007093386858470886), (2556, 0.0028920248255137333), (2557, 0.003868141858225182), (2558, 0.0031193064043257192), (2559, 0.004099999115314894), (2560, 0.009278149199505337), (2561, 0.003253872583113998), (2562, 0.007476743234564169), (2563, 0.006685859721830779), (2564, 0.0), (2565, 0.0181128416850442), (2566, 0.0), (2567, 0.07175204688926248), (2568, 0.009887020840327786), (2569, 0.003081841645802354), (2570, 0.04005429013341878), (2571, 0.029293244914960256), (2572, 0.03142073500611347), (2573, 0.0), (2574, 0.02117800481362402), (2575, 0.0), (2576, 0.0), (2577, 0.0), (2578, 0.0), (2579, 0.003495968387751365), (2580, 0.0027852810009710185), (2581, 0.006204513930740738), (2582, 0.024367918789155535), (2583, 0.0), (2584, 0.04663477444377429), (2585, 0.04408452028349387), (2586, 0.0), (2587, 0.007173979048322413), (2588, 0.0107293467354228), (2589, 0.0), (2590, 0.03223513878720308), (2591, 0.002798128953744205), (2592, 0.0034528183234817556), (2593, 0.0028775545929002042), (2594, 0.0), (2595, 0.018519602778645623), (2596, 0.0), (2597, 0.02304513320175487), (2598, 0.0029508157531602914), (2599, 0.0), (2600, 0.0), (2601, 0.0032526890078679095), (2602, 0.002587902231805874), (2603, 0.006789589601851097), (2604, 0.0), (2605, 0.0), (2606, 0.003140435913807375), (2607, 0.0027956077639614547), (2608, 0.004348768662169109), (2609, 0.023508028532998444), (2610, 0.008543343371040197), (2611, 0.0069353591554263214), (2612, 0.007807447978486894), (2613, 0.003674319923417325), (2614, 0.00677310197286083), (2615, 0.03332815207538716), (2616, 0.01950339673490588), (2617, 0.002749795442783286), (2618, 0.0), (2619, 0.029919074567534655), (2620, 0.0), (2621, 0.0027134868440834383), (2622, 0.004212471877429235), (2623, 0.02118729752998782), (2624, 0.0034127457424741126), (2625, 0.020696735039096574), (2626, 0.015316418303929767), (2627, 0.015922900564522502), (2628, 0.004082897301659849), (2629, 0.019382463212602247), (2630, 0.0148636749943578), (2631, 0.00471513093869693), (2632, 0.02252388351241162), (2633, 0.00848689527059655), (2634, 0.07265843018608895), (2635, 0.0), (2636, 0.006069182025095925), (2637, 0.031068849403189172), (2638, 0.02056634803761124), (2639, 0.0), (2640, 0.008458390827530223), (2641, 0.02130745838935485), (2642, 0.017439480167169636), (2643, 0.004033679682102176), (2644, 0.0), (2645, 0.01040374275832135), (2646, 0.0), (2647, 0.08151059346440581), (2648, 0.0), (2649, 0.02411853495644436), (2650, 0.0032404472678098932), (2651, 0.0029508437653931055), (2652, 0.0031530934196289918), (2653, 0.003009692393868188), (2654, 0.023364682341998247), (2655, 0.022627646397730065), (2656, 0.012537859259997479), (2657, 0.0), (2658, 0.0), (2659, 0.0), (2660, 0.01621057054443367), (2661, 0.02721819225311062), (2662, 0.0), (2663, 0.0), (2664, 0.0033250597198982365), (2665, 0.016424872819420122), (2666, 0.004564288149316208), (2667, 0.0), (2668, 0.013426592192008787), (2669, 0.0), (2670, 0.01669419915105305), (2671, 0.007357264175807514), (2672, 0.03048775162924099), (2673, 0.01075393813814132), (2674, 0.0028710219110177145), (2675, 0.005204899494700229), (2676, 0.0), (2677, 0.009759732060245574), (2678, 0.005079458709775017), (2679, 0.0029513109160531842), (2680, 0.04593917531047216), (2681, 0.0), (2682, 0.0347237386133746), (2683, 0.0), (2684, 0.0), (2685, 0.0322144571514662), (2686, 0.0), (2687, 0.003068500333150941), (2688, 0.0), (2689, 0.015881792193296787), (2690, 0.0), (2691, 0.044525662652113385), (2692, 0.002708340354961457), (2693, 0.0), (2694, 0.0041545418288425695), (2695, 0.0031227430972923026), (2696, 0.00362559477930074), (2697, 0.002553313925960134), (2698, 0.017635811091849023), (2699, 0.009345151200220128), (2700, 0.0), (2701, 0.0), (2702, 0.003564676469685448), (2703, 0.06400200376170104), (2704, 0.0), (2705, 0.0033770799169484528), (2706, 0.0076854466889961), (2707, 0.003660516926317055), (2708, 0.0), (2709, 0.0), (2710, 0.025001199077862725), (2711, 0.0), (2712, 0.008637365221985535), (2713, 0.00486405931892807), (2714, 0.0033008384944877857), (2715, 0.0), (2716, 0.0030041837126943134), (2717, 0.0), (2718, 0.0), (2719, 0.005269128993028802), (2720, 0.00947465466231033), (2721, 0.020672424209213728), (2722, 0.004378395629258415), (2723, 0.003344945962369607), (2724, 0.01159542959487429), (2725, 0.06258710361437123), (2726, 0.0), (2727, 0.024863830412388477), (2728, 0.0028389026277197485), (2729, 0.02548293852411652), (2730, 0.018407968472010483), (2731, 0.004186521892484498), (2732, 0.03457601248729754), (2733, 0.0), (2734, 0.003946295817661266), (2735, 0.002879674133472672), (2736, 0.0), (2737, 0.0), (2738, 0.009539989330864756), (2739, 0.032713517513589155), (2740, 0.009102079205506965), (2741, 0.002808218338636762), (2742, 0.02064480690330957), (2743, 0.05616173285692712), (2744, 0.0032324031193032483), (2745, 0.039678230174358314), (2746, 0.02921417341540323), (2747, 0.002702494147347184), (2748, 0.0033915374705299145), (2749, 0.013635145628095575), (2750, 0.0), (2751, 0.0), (2752, 0.0029830712399585937), (2753, 0.03399923220136938), (2754, 0.0), (2755, 0.008548139436592182), (2756, 0.028858908929671162), (2757, 0.06061233439555074), (2758, 0.002648851451467507), (2759, 0.0), (2760, 0.0023938771968250944), (2761, 0.00695662597374116), (2762, 0.0), (2763, 0.009697859869778482), (2764, 0.004443461763936371), (2765, 0.025669158942018468), (2766, 0.03510531889448015), (2767, 0.014601295965214058), (2768, 0.004433485072295915), (2769, 0.003681319111944153), (2770, 0.0), (2771, 0.014488288197873895), (2772, 0.0036945679333103562), (2773, 0.0), (2774, 0.003967529556795728), (2775, 0.004234093342921124), (2776, 0.003359122562331292), (2777, 0.02039320464204122), (2778, 0.003771289085810502), (2779, 0.017866095135764214), (2780, 0.0), (2781, 0.0), (2782, 0.003471843691294415), (2783, 0.0031387671690480184), (2784, 0.008262790769185326), (2785, 0.005684788572043589), (2786, 0.003339988697637289), (2787, 0.02114352356765453), (2788, 0.005054800493471568), (2789, 0.012453320886216432), (2790, 0.01575240190382637), (2791, 0.00910706876475361), (2792, 0.008564577482364088), (2793, 0.00995957238414811), (2794, 0.021401392677926408), (2795, 0.003938759321932916), (2796, 0.0035692840576985758), (2797, 0.003817494499553887), (2798, 0.013250991588937753), (2799, 0.011211376587770001), (2800, 0.002946674664553835), (2801, 0.004259204083698753), (2802, 0.0183004116306996), (2803, 0.0261476632412931), (2804, 0.0), (2805, 0.004341773996358747), (2806, 0.0), (2807, 0.026184639038385783), (2808, 0.007833261121955324), (2809, 0.026481550190311298), (2810, 0.022452813140886325), (2811, 0.0243501259731876), (2812, 0.00761854616942228), (2813, 0.004975707851026893), (2814, 0.03570775816498532), (2815, 0.0), (2816, 0.005137404107876816), (2817, 0.01597546161581337), (2818, 0.006952960022528585), (2819, 0.0), (2820, 0.024413149955242658), (2821, 0.003311044015262572), (2822, 0.0), (2823, 0.0), (2824, 0.0), (2825, 0.0), (2826, 0.013205966471190336), (2827, 0.0), (2828, 0.0), (2829, 0.004756980756892637), (2830, 0.019002972188193353), (2831, 0.003122479025906422), (2832, 0.00409308383565995), (2833, 0.019365417835273756), (2834, 0.010029277456948583), (2835, 0.0), (2836, 0.0), (2837, 0.0), (2838, 0.003985877564641997), (2839, 0.009937407435497725), (2840, 0.009016238619864673), (2841, 0.01565700711644204), (2842, 0.004292774668847148), (2843, 0.0), (2844, 0.0562681504840202), (2845, 0.0028706679058179336), (2846, 0.0036494308349159467), (2847, 0.0), (2848, 0.020841699191966594), (2849, 0.003297269955768575), (2850, 0.013870353938271072), (2851, 0.0), (2852, 0.024831287277023405), (2853, 0.003103269134115382), (2854, 0.00897807654005415), (2855, 0.004210531697962348), (2856, 0.0), (2857, 0.0038499245001993223), (2858, 0.004420734915980421), (2859, 0.007664223673341), (2860, 0.0), (2861, 0.004134030206121044), (2862, 0.0314264947189613), (2863, 0.0032158211191851607), (2864, 0.0), (2865, 0.0), (2866, 0.0), (2867, 0.015488403427958576), (2868, 0.002885556002047146), (2869, 0.0), (2870, 0.004228041327882241), (2871, 0.0), (2872, 0.0035901447341954197), (2873, 0.0214898335212327), (2874, 0.004608182995376763), (2875, 0.0), (2876, 0.0026048523055734237), (2877, 0.026649308908808164), (2878, 0.07739148681262588), (2879, 0.0037983305324465924), (2880, 0.0), (2881, 0.0035323512009498587), (2882, 0.0033891856611786226), (2883, 0.03431082782848983), (2884, 0.003600399363216927), (2885, 0.0), (2886, 0.002975600709124845), (2887, 0.003160255824607888), (2888, 0.020273252805440154), (2889, 0.004293482138353461), (2890, 0.003441559505741276), (2891, 0.0), (2892, 0.01718217838387924), (2893, 0.003536893217500392), (2894, 0.060818182016854155), (2895, 0.03034867411384406), (2896, 0.0), (2897, 0.0047425275897513405), (2898, 0.01699635395442865), (2899, 0.007599300755896045), (2900, 0.05469021812244391), (2901, 0.004004380151553313), (2902, 0.039129766064513294), (2903, 0.0034976294555999336), (2904, 0.013662691029645443), (2905, 0.0), (2906, 0.004371238183279581), (2907, 0.002892576614657276), (2908, 0.002506360545753723), (2909, 0.03833861953018357), (2910, 0.017710290555808673), (2911, 0.00841342444708857), (2912, 0.023036727638705512), (2913, 0.0), (2914, 0.003527263602153977), (2915, 0.0033917101071453577), (2916, 0.0034935097263327705), (2917, 0.013448923072252372), (2918, 0.0), (2919, 0.0849176343125908), (2920, 0.0216668485338044), (2921, 0.0), (2922, 0.0), (2923, 0.004202297119096551), (2924, 0.0036171118461689063), (2925, 0.0025041490829792413), (2926, 0.0032617875940448506), (2927, 0.0), (2928, 0.01802096599894401), (2929, 0.0044282758034297695), (2930, 0.0), (2931, 0.011804006518469214), (2932, 0.004123682089656896), (2933, 0.006865217416483339), (2934, 0.003141619120113041), (2935, 0.041555304060642104), (2936, 0.00353061467830737), (2937, 0.004478605088953569), (2938, 0.004648119739343579), (2939, 0.0), (2940, 0.008640519609909018), (2941, 0.0), (2942, 0.006995278313008701), (2943, 0.0031076863182050527), (2944, 0.020646643796916192), (2945, 0.003053002894654266), (2946, 0.018418428162066416), (2947, 0.0), (2948, 0.0), (2949, 0.025420234162748453), (2950, 0.0), (2951, 0.010939962819845743), (2952, 0.0), (2953, 0.003301281004256803), (2954, 0.036365094177631244), (2955, 0.014251221936341159), (2956, 0.0), (2957, 0.0416343333097405), (2958, 0.0), (2959, 0.02696394763880626), (2960, 0.0), (2961, 0.0030699875709782496), (2962, 0.01898179497407398), (2963, 0.005301381569134293), (2964, 0.019342616693354603), (2965, 0.0029627233993709005), (2966, 0.003791487316831491), (2967, 0.0), (2968, 0.015232941164841106), (2969, 0.006704789679920861), (2970, 0.003324405497519041), (2971, 0.0), (2972, 0.002939864733815205), (2973, 0.0), (2974, 0.0035016802474214324), (2975, 0.011464171316129755), (2976, 0.01176714094990922), (2977, 0.04021612010748546), (2978, 0.04495568979260875), (2979, 0.0), (2980, 0.00305884217622494), (2981, 0.011147162285698356), (2982, 0.0), (2983, 0.026089865562989797), (2984, 0.0), (2985, 0.010884434363997088), (2986, 0.003689168026590322), (2987, 0.0036006435791938246), (2988, 0.017610481318763648), (2989, 0.004345910099643477), (2990, 0.0), (2991, 0.014141536218995922), (2992, 0.004629515235440794), (2993, 0.0037618821696617766), (2994, 0.0), (2995, 0.002955934838720782), (2996, 0.03711016643800801), (2997, 0.002947932941349572), (2998, 0.0046822752750915065), (2999, 0.003101210114688215), (3000, 0.0031933389084897548), (3001, 0.0), (3002, 0.0), (3003, 0.003464695404267891), (3004, 0.003841523065720447), (3005, 0.0), (3006, 0.013998500594832715), (3007, 0.0033319474029845824), (3008, 0.059730488584511826), (3009, 0.0), (3010, 0.012583282534939772), (3011, 0.004794539083735102), (3012, 0.0034967530657008623), (3013, 0.026838257529907802), (3014, 0.017667924999949607), (3015, 0.003952239951568753), (3016, 0.0032018327998809405), (3017, 0.0), (3018, 0.019759507354945912), (3019, 0.0036307852552219322), (3020, 0.003786308800857977), (3021, 0.0), (3022, 0.05575470089180477), (3023, 0.0), (3024, 0.00258004560839849), (3025, 0.0), (3026, 0.020677530889239147), (3027, 0.011742392143174636), (3028, 0.007811967113944045), (3029, 0.0), (3030, 0.004225165457869683), (3031, 0.0038098969973203935), (3032, 0.003491059643296913), (3033, 0.00496230541141944), (3034, 0.0), (3035, 0.0029691641594807214), (3036, 0.017793583391472186), (3037, 0.003292168568888297), (3038, 0.0), (3039, 0.021410659172857515), (3040, 0.0043555954180910066), (3041, 0.0), (3042, 0.023134990516147348), (3043, 0.014870290450482871), (3044, 0.0204007029291589), (3045, 0.0), (3046, 0.007928777394877157), (3047, 0.05852204875128033), (3048, 0.014783182106498698), (3049, 0.0), (3050, 0.0028574937995330565), (3051, 0.004448906796620315), (3052, 0.004260087251918978), (3053, 0.004764736940493755), (3054, 0.0), (3055, 0.004244022583021061), (3056, 0.02244328381796003), (3057, 0.007583634980701489), (3058, 0.0), (3059, 0.0), (3060, 0.0), (3061, 0.0), (3062, 0.0034577985011518073), (3063, 0.0), (3064, 0.0033937332815845147), (3065, 0.0026491745878093787), (3066, 0.018485964375055827), (3067, 0.0030811307996193187), (3068, 0.0), (3069, 0.02476000695567009), (3070, 0.01393204415276096), (3071, 0.007571926559567227), (3072, 0.0036249907071495583), (3073, 0.00979751325926028), (3074, 0.0038265474155203955), (3075, 0.0030290860775877403), (3076, 0.00408176392497904), (3077, 0.020516962376197868), (3078, 0.0), (3079, 0.019051575093037273), (3080, 0.0), (3081, 0.0036705144055186986), (3082, 0.04321040017809741), (3083, 0.0046155771333558256), (3084, 0.003307933088033636), (3085, 0.013332054061172572), (3086, 0.06788363245035159), (3087, 0.0), (3088, 0.0), (3089, 0.0), (3090, 0.0), (3091, 0.0026105606707732642), (3092, 0.0), (3093, 0.003069430546262012), (3094, 0.03981993061176153), (3095, 0.0033484356346467495), (3096, 0.0027111623483098784), (3097, 0.00343913154640216), (3098, 0.0), (3099, 0.0), (3100, 0.009356878412124892), (3101, 0.014512470903050361), (3102, 0.0), (3103, 0.005245910711667441), (3104, 0.0), (3105, 0.0), (3106, 0.0), (3107, 0.0), (3108, 0.016246010084764746), (3109, 0.010668231394455625), (3110, 0.0), (3111, 0.007235345010413261), (3112, 0.0033537823657741996), (3113, 0.003181113524637415), (3114, 0.0), (3115, 0.0), (3116, 0.0278616225238237), (3117, 0.0), (3118, 0.0), (3119, 0.0042758306433645045), (3120, 0.0028875499015200323), (3121, 0.03795971339154941), (3122, 0.03156017534329855), (3123, 0.0038042870346446855), (3124, 0.02146232198446826), (3125, 0.008123945073985357), (3126, 0.0), (3127, 0.014512251767857653), (3128, 0.003931554270504926), (3129, 0.02912784747014661), (3130, 0.0), (3131, 0.0053120229393436415), (3132, 0.0), (3133, 0.004666895379502618), (3134, 0.0), (3135, 0.0), (3136, 0.009342529928852893), (3137, 0.005789517306976026), (3138, 0.0), (3139, 0.0336836957617744), (3140, 0.003925119123508885), (3141, 0.0447151472317614), (3142, 0.00686474562606098), (3143, 0.0), (3144, 0.007393835771829387), (3145, 0.006450584286078876), (3146, 0.00348863807903175), (3147, 0.002903525640861175), (3148, 0.0035312602556579627), (3149, 0.03920621955955901), (3150, 0.008458061727766052), (3151, 0.0077005974906730855), (3152, 0.010182899302341578), (3153, 0.0032116472577894584), (3154, 0.003817355941935714), (3155, 0.0031402308640319085), (3156, 0.009647812769982408), (3157, 0.003471496332683476), (3158, 0.0), (3159, 0.0038601020459895405), (3160, 0.00879878820345421), (3161, 0.0), (3162, 0.0), (3163, 0.024202084623487833), (3164, 0.004204664396952378), (3165, 0.0035822903004626505), (3166, 0.00432627794536274), (3167, 0.0027931348931816763), (3168, 0.015714574702522265), (3169, 0.0), (3170, 0.0029671287152275828), (3171, 0.0029668259152652444), (3172, 0.005781397999925431), (3173, 0.012936353356421846), (3174, 0.008062432748780539), (3175, 0.0), (3176, 0.0), (3177, 0.01325691229766684), (3178, 0.004931140464814037), (3179, 0.0), (3180, 0.0), (3181, 0.021736374410399748), (3182, 0.003177157723876678), (3183, 0.02720598586513489), (3184, 0.014108804879649404), (3185, 0.053827380351427354), (3186, 0.0035364059455297377), (3187, 0.0032821049389615588), (3188, 0.01000551251178413), (3189, 0.0), (3190, 0.0), (3191, 0.0), (3192, 0.022837216652987588), (3193, 0.0046641093601142835), (3194, 0.0321215388282657), (3195, 0.0030692896091660234), (3196, 0.003497376880243944), (3197, 0.0), (3198, 0.0032219413300558124), (3199, 0.006260203287306395), (3200, 0.01537979863606839), (3201, 0.008851275826346495), (3202, 0.0), (3203, 0.0), (3204, 0.0), (3205, 0.022159520324889003), (3206, 0.015893012150804443), (3207, 0.011007770908185912), (3208, 0.0), (3209, 0.0), (3210, 0.01324995954490576), (3211, 0.028643888548346375), (3212, 0.0), (3213, 0.0), (3214, 0.0029775805452008407), (3215, 0.0), (3216, 0.0031036821845095374), (3217, 0.0), (3218, 0.008618383289406875), (3219, 0.004075923605478919), (3220, 0.003048206349679898), (3221, 0.005553279339258536), (3222, 0.00827950016104163), (3223, 0.0076075819514318235), (3224, 0.0502531500874312), (3225, 0.0031960804880189534), (3226, 0.010303666942401448), (3227, 0.0031447423818833134), (3228, 0.009810547412665451), (3229, 0.014493999657964898), (3230, 0.009332901572397943), (3231, 0.0044462203052363335), (3232, 0.012201732997737028), (3233, 0.008316504707625207), (3234, 0.014263435221178997), (3235, 0.014003286163309606), (3236, 0.0), (3237, 0.007984643057616023), (3238, 0.01122985936446946), (3239, 0.003932204537955498), (3240, 0.010825813346879265), (3241, 0.04864385772961173), (3242, 0.0032745129715822012), (3243, 0.0029211445614624435), (3244, 0.014287333672960378), (3245, 0.0), (3246, 0.01735272669586419), (3247, 0.018696366270748815), (3248, 0.0034783718501392295), (3249, 0.0039008422830794495), (3250, 0.0), (3251, 0.0), (3252, 0.0025988363068671456), (3253, 0.023508030695720255), (3254, 0.010740437606936952), (3255, 0.0), (3256, 0.0), (3257, 0.003758114282318736), (3258, 0.0033914666527205713), (3259, 0.0052363051970923035), (3260, 0.007931511415192827), (3261, 0.027952869711275006), (3262, 0.0040131078615296524), (3263, 0.0), (3264, 0.019112885245625766), (3265, 0.010233553024035731), (3266, 0.0), (3267, 0.021008222190934876), (3268, 0.002976776535758198), (3269, 0.003373741297832), (3270, 0.004932834975638334), (3271, 0.008734770875331943), (3272, 0.0), (3273, 0.0034722698461648405), (3274, 0.003514133391947975), (3275, 0.015353111406367526), (3276, 0.004708098121686215), (3277, 0.026322599690379134), (3278, 0.002835961956976185), (3279, 0.0), (3280, 0.0046226001958666755), (3281, 0.0), (3282, 0.01703527104071602), (3283, 0.008234167358736295), (3284, 0.07077101105503593), (3285, 0.02579492770403296), (3286, 0.0), (3287, 0.0), (3288, 0.0), (3289, 0.003196327822554109), (3290, 0.017571583768764276), (3291, 0.004191255967573776), (3292, 0.0040714630867947285), (3293, 0.007651482508495272), (3294, 0.022897443477820426), (3295, 0.004518440349344672), (3296, 0.0035473288381760257), (3297, 0.023418788045919407), (3298, 0.003012777029166882), (3299, 0.008032928966804083), (3300, 0.0029309737489237606), (3301, 0.018630408223416616), (3302, 0.003800086728305455), (3303, 0.008226598927517405), (3304, 0.011894320892448795), (3305, 0.0), (3306, 0.007411275404935207), (3307, 0.0036229058900125724), (3308, 0.0036924116554965616), (3309, 0.0), (3310, 0.0), (3311, 0.007312665870008821), (3312, 0.005766882382535802), (3313, 0.045521737258891706), (3314, 0.01984915294594794), (3315, 0.0029794246429135796), (3316, 0.03021318835239186), (3317, 0.01068794190975628), (3318, 0.0028109565717557047), (3319, 0.0), (3320, 0.004663341456068273), (3321, 0.0045940007531173116), (3322, 0.004014057965681469), (3323, 0.0), (3324, 0.0), (3325, 0.005572385763726836), (3326, 0.0033033236433997614), (3327, 0.011704620869988417), (3328, 0.018828428178365757), (3329, 0.0028513134710104943), (3330, 0.008056484318016938), (3331, 0.0025998824949672013), (3332, 0.02250195024420009), (3333, 0.0), (3334, 0.0), (3335, 0.00315126000374118), (3336, 0.00727624823372928), (3337, 0.044530669165062375), (3338, 0.0), (3339, 0.0), (3340, 0.0), (3341, 0.01712240117954434), (3342, 0.01680822948639375), (3343, 0.004960097240530604), (3344, 0.01958914283137677), (3345, 0.01159319621979826), (3346, 0.00311060478808659), (3347, 0.011025080436280145), (3348, 0.0030183411190780767), (3349, 0.0032357950312216295), (3350, 0.021936532492353316), (3351, 0.0032551353537841046), (3352, 0.00299930694919505), (3353, 0.00324251306321045), (3354, 0.0039267289805949845), (3355, 0.0035881857651555117), (3356, 0.0037448531791612616), (3357, 0.06657152951251469), (3358, 0.0037864575098147304), (3359, 0.003629677898526464), (3360, 0.025543360406015535), (3361, 0.004700088965254819), (3362, 0.006401363758855834), (3363, 0.0038897600716155992), (3364, 0.02089591369195664), (3365, 0.01276485405897266), (3366, 0.0), (3367, 0.02070470416835083), (3368, 0.020074765875975425), (3369, 0.0028768770915393233), (3370, 0.0030274140175253605), (3371, 0.022899708699344445), (3372, 0.019655673000971912), (3373, 0.003510382054006537), (3374, 0.008022748491027718), (3375, 0.0), (3376, 0.0069031665322454566), (3377, 0.05902090439946828), (3378, 0.015633687730159683), (3379, 0.0030577913081272006), (3380, 0.0027686353475783808), (3381, 0.003081653723824745), (3382, 0.013706770695761292), (3383, 0.0), (3384, 0.01756448907129059), (3385, 0.0), (3386, 0.008191081604985282), (3387, 0.0), (3388, 0.013840038546760193), (3389, 0.007434931592601028), (3390, 0.012515663744507004), (3391, 0.02250998176694549), (3392, 0.00872810157277943), (3393, 0.006952691013054953), (3394, 0.0), (3395, 0.009202002658910805), (3396, 0.0035974851983942586), (3397, 0.008911789238898071), (3398, 0.010330900796072934), (3399, 0.007552602416818648), (3400, 0.01959209095454777), (3401, 0.0), (3402, 0.0030392989282134308), (3403, 0.011432504913129554), (3404, 0.0), (3405, 0.008513752956505694), (3406, 0.0032915402664346646), (3407, 0.007589234190209066), (3408, 0.003606767385409549), (3409, 0.024439401574025358), (3410, 0.0065052749928671445), (3411, 0.00435614515346532), (3412, 0.007884220130503786), (3413, 0.028575936603270367), (3414, 0.014607120757635851), (3415, 0.0), (3416, 0.0), (3417, 0.00343510080777269), (3418, 0.0028304387352820547), (3419, 0.0035993046792827154), (3420, 0.013791175599733876), (3421, 0.009087807221712952), (3422, 0.0), (3423, 0.003568716307227509), (3424, 0.016319731166926775), (3425, 0.0036138483332792647), (3426, 0.009318152675265453), (3427, 0.0), (3428, 0.014417975291236378), (3429, 0.0), (3430, 0.01506664895442222), (3431, 0.002504565640751735), (3432, 0.0), (3433, 0.002936729551918954), (3434, 0.003318089014642875), (3435, 0.008005441772173882), (3436, 0.025517585572781276), (3437, 0.0032650730807626486), (3438, 0.015994250206949275), (3439, 0.0), (3440, 0.0), (3441, 0.0030932789386802725), (3442, 0.0), (3443, 0.0), (3444, 0.005473044622212157), (3445, 0.01916703999147702), (3446, 0.005099140955096881), (3447, 0.007899371629952148), (3448, 0.022952714339487045), (3449, 0.003370265006715409), (3450, 0.009388759102524739), (3451, 0.0), (3452, 0.0029083065558067984), (3453, 0.011017694765182528), (3454, 0.029935090961135537), (3455, 0.0028637544686089434), (3456, 0.03408785618180477), (3457, 0.005293307292550171), (3458, 0.012341652534357064), (3459, 0.004511602577892332), (3460, 0.026420938694638563), (3461, 0.0052924932745365425), (3462, 0.0), (3463, 0.00512182355721551), (3464, 0.02005270814468386), (3465, 0.004716068487812072), (3466, 0.020932838747142985), (3467, 0.0), (3468, 0.010795710714037367), (3469, 0.005560312378680092), (3470, 0.0), (3471, 0.002479845496971115), (3472, 0.0), (3473, 0.02347952557375401), (3474, 0.00283403855237296), (3475, 0.0), (3476, 0.0), (3477, 0.008016081316573824), (3478, 0.003118902964838291), (3479, 0.004165207904483756), (3480, 0.0), (3481, 0.004178717111579003), (3482, 0.0), (3483, 0.03691093940111665), (3484, 0.0041291315660581815), (3485, 0.0), (3486, 0.0), (3487, 0.0228743446443415), (3488, 0.0), (3489, 0.0), (3490, 0.009619316712125323), (3491, 0.04948761243780344), (3492, 0.02201258607583529), (3493, 0.0364880798612652), (3494, 0.0), (3495, 0.0), (3496, 0.0033478363148601556), (3497, 0.0034077214976137656), (3498, 0.0029799759336262706), (3499, 0.0030639643737556464), (3500, 0.017363456839920823), (3501, 0.0031703328728545418), (3502, 0.006009715461682903), (3503, 0.0029907139054719837), (3504, 0.007743050810595545), (3505, 0.0), (3506, 0.05508800659592138), (3507, 0.00514706903752749), (3508, 0.0), (3509, 0.026819992908667153), (3510, 0.0), (3511, 0.0032830639200999794), (3512, 0.004782554993035581), (3513, 0.0), (3514, 0.0032560213408810703), (3515, 0.03864390483647079), (3516, 0.019686040092180314), (3517, 0.013600934274626927), (3518, 0.019854610088069533), (3519, 0.0), (3520, 0.0), (3521, 0.00384233184168583), (3522, 0.0), (3523, 0.02447681878791078), (3524, 0.003669552741832394), (3525, 0.013559284267690444), (3526, 0.008273102941728925), (3527, 0.01934605161563345), (3528, 0.0), (3529, 0.0), (3530, 0.0), (3531, 0.0), (3532, 0.0), (3533, 0.0), (3534, 0.03963269159970923), (3535, 0.0), (3536, 0.008387908937340066), (3537, 0.003868514818006612), (3538, 0.014433092276203197), (3539, 0.023146177459779618), (3540, 0.003637699496594333), (3541, 0.03506770301557137), (3542, 0.0031910956070425466), (3543, 0.0), (3544, 0.0037964952395570695), (3545, 0.0), (3546, 0.00603129491359495), (3547, 0.0), (3548, 0.0025648181559857755), (3549, 0.005134917097140799), (3550, 0.04459812763751488), (3551, 0.07402395917453795), (3552, 0.005072564134093952), (3553, 0.0030911104350677308), (3554, 0.016893694608738286), (3555, 0.0), (3556, 0.0027887012747958686), (3557, 0.007927399696562592), (3558, 0.0028794051270302017), (3559, 0.0), (3560, 0.0035043680405534563), (3561, 0.004227981189019893), (3562, 0.004782485147370087), (3563, 0.01649737204335464), (3564, 0.018171171863849683), (3565, 0.003086685042581298), (3566, 0.0240819809655553), (3567, 0.02606085005267394), (3568, 0.0047617256451601905), (3569, 0.042790350356361084), (3570, 0.0), (3571, 0.0031892535469292007), (3572, 0.024617970827528615), (3573, 0.0), (3574, 0.00769325392392872), (3575, 0.019220296979355577), (3576, 0.0), (3577, 0.00999050485926775), (3578, 0.006266921180603598), (3579, 0.006900351836228959), (3580, 0.0), (3581, 0.0), (3582, 0.0), (3583, 0.0), (3584, 0.023880284297178634), (3585, 0.0), (3586, 0.0311427076622412), (3587, 0.045437996362836394), (3588, 0.0), (3589, 0.019063118985340397), (3590, 0.003313046777600714), (3591, 0.0), (3592, 0.04410476562138235), (3593, 0.003481625961122267), (3594, 0.004945503852527543), (3595, 0.0), (3596, 0.0030866700622204308), (3597, 0.0), (3598, 0.004395243712246807), (3599, 0.008440706836752548), (3600, 0.0), (3601, 0.0033262525652250677), (3602, 0.009849252487145117), (3603, 0.0), (3604, 0.0), (3605, 0.0), (3606, 0.003180032715995579), (3607, 0.0), (3608, 0.002031491572672744), (3609, 0.0), (3610, 0.02234691323632302), (3611, 0.003543765719032325), (3612, 0.022048132666937677), (3613, 0.0038469510378770417), (3614, 0.0028230338258300896), (3615, 0.0029370331553953697), (3616, 0.06472051412781932), (3617, 0.016172014060772493), (3618, 0.019186762440611797), (3619, 0.019061170565415522), (3620, 0.0037978563638446754), (3621, 0.0036700299193606874), (3622, 0.0), (3623, 0.0032174036141179156), (3624, 0.003089994622494927), (3625, 0.0), (3626, 0.01388718407389685), (3627, 0.0028857724296393146), (3628, 0.0), (3629, 0.0026785501617599765), (3630, 0.0), (3631, 0.022921483806997735), (3632, 0.0), (3633, 0.054893104358540015), (3634, 0.002637010034465863), (3635, 0.004216772418188397), (3636, 0.0032141490745650975), (3637, 0.02070909907439253), (3638, 0.022567768094774045), (3639, 0.0035694837348399597), (3640, 0.04567000933580914), (3641, 0.027772138526716904), (3642, 0.014244350926475252), (3643, 0.029213337749280286), (3644, 0.02843129537863088), (3645, 0.0023508474324239275), (3646, 0.0076439667773968364), (3647, 0.003068592309356255), (3648, 0.026526410506041945), (3649, 0.0), (3650, 0.005030964307557458), (3651, 0.009247792059167538), (3652, 0.0), (3653, 0.0031792976035286535), (3654, 0.019036732951568852), (3655, 0.01575276310972613), (3656, 0.03212823368091708), (3657, 0.002631989308164962), (3658, 0.004172225972405491), (3659, 0.0), (3660, 0.0030076594475486012), (3661, 0.05255300939735866), (3662, 0.013948703025498535), (3663, 0.0), (3664, 0.0), (3665, 0.021987255577050478), (3666, 0.0032383879267195615), (3667, 0.008565087701627285), (3668, 0.0068424790852245915), (3669, 0.0026431191681467524), (3670, 0.003145559492577508), (3671, 0.0), (3672, 0.004431883777774772), (3673, 0.033893904968438505), (3674, 0.004191184857420459), (3675, 0.0037178581577643273), (3676, 0.0), (3677, 0.029642719553139314), (3678, 0.041486455516831104), (3679, 0.0), (3680, 0.0035268618259616706), (3681, 0.005511849448859512), (3682, 0.0), (3683, 0.0), (3684, 0.0043090233440100075), (3685, 0.0), (3686, 0.0), (3687, 0.003895532241110505), (3688, 0.0), (3689, 0.008361674366011597), (3690, 0.04034916441508609), (3691, 0.0029677739530874106), (3692, 0.0033581328202139937), (3693, 0.0), (3694, 0.0033753621873477816), (3695, 0.03527780805403369), (3696, 0.012584280927122545), (3697, 0.015374535197666855), (3698, 0.011219965622614897), (3699, 0.003185625903409266), (3700, 0.021120659509772224), (3701, 0.008287620614440334), (3702, 0.0), (3703, 0.0208303211349734), (3704, 0.003370444565819502), (3705, 0.0028222386558042654), (3706, 0.028040785461460268), (3707, 0.0031743270585535745), (3708, 0.0), (3709, 0.00483938109728819), (3710, 0.0), (3711, 0.01837835498326982), (3712, 0.014191697904956994), (3713, 0.01249124292217168), (3714, 0.003409056245483052), (3715, 0.0), (3716, 0.0), (3717, 0.0), (3718, 0.03983604674098306), (3719, 0.0030442169030810403), (3720, 0.004791463724454456), (3721, 0.0), (3722, 0.005104962968484485), (3723, 0.0), (3724, 0.005264654825063164), (3725, 0.002904059144476636), (3726, 0.0), (3727, 0.0030923571860954806), (3728, 0.0033351530422135365), (3729, 0.0036145219761217857), (3730, 0.01637773118615341), (3731, 0.004234273608778228), (3732, 0.00933238246589492), (3733, 0.0029704544216799045), (3734, 0.0029416615366461025), (3735, 0.0), (3736, 0.013988456871277751), (3737, 0.026565682302454076), (3738, 0.01426570240443111), (3739, 0.0081728897383897), (3740, 0.0), (3741, 0.039381386160581205), (3742, 0.031341382196498235), (3743, 0.010274844531200436), (3744, 0.0), (3745, 0.02982564490156249), (3746, 0.0048876896383291705), (3747, 0.0), (3748, 0.01296278754259704), (3749, 0.020406082428860727), (3750, 0.006773773794763036), (3751, 0.010725401705644169), (3752, 0.008436223826773007), (3753, 0.0), (3754, 0.015233760913554027), (3755, 0.0027564604171305762), (3756, 0.0025511964989179733), (3757, 0.0033643937625620246), (3758, 0.0), (3759, 0.03513607364101394), (3760, 0.0), (3761, 0.0), (3762, 0.00406327346044924), (3763, 0.040107366730437126), (3764, 0.0), (3765, 0.012675711685686302), (3766, 0.0037193815443390087), (3767, 0.002865024621472687), (3768, 0.0), (3769, 0.0), (3770, 0.0032614861430467473), (3771, 0.026909786338927752), (3772, 0.0035492937243557653), (3773, 0.00979707539160755), (3774, 0.014944008025876029), (3775, 0.029457116816293087), (3776, 0.017609847339661335), (3777, 0.00854130472514993), (3778, 0.008397028143856653), (3779, 0.0037661707384836424), (3780, 0.008631488439351477), (3781, 0.00334175382141515), (3782, 0.01670624651320629), (3783, 0.01471012184347263), (3784, 0.007694636089654337), (3785, 0.0), (3786, 0.004763991197793553), (3787, 0.0), (3788, 0.00936343820593371), (3789, 0.0), (3790, 0.0), (3791, 0.0), (3792, 0.0031717634510045932), (3793, 0.0), (3794, 0.0), (3795, 0.0027899395454695766), (3796, 0.0), (3797, 0.003451354519503334), (3798, 0.0), (3799, 0.017740771696050553), (3800, 0.0), (3801, 0.0027943139131985837), (3802, 0.04520786857261071), (3803, 0.02379871589355764), (3804, 0.003479161418448419), (3805, 0.0), (3806, 0.008450524290911593), (3807, 0.003102542521197222), (3808, 0.0), (3809, 0.0031955246723689283), (3810, 0.005059376551454358), (3811, 0.0029402234214291525), (3812, 0.0), (3813, 0.0034030369716822138), (3814, 0.0), (3815, 0.0), (3816, 0.0), (3817, 0.005523239430648615), (3818, 0.004923889940833124), (3819, 0.007632832805753909), (3820, 0.0), (3821, 0.006779618541167319), (3822, 0.0090769267330366), (3823, 0.1290891370290792), (3824, 0.009560556603884593), (3825, 0.00896577965654806), (3826, 0.007771768300059552), (3827, 0.0030580044461464414), (3828, 0.003944461863605372), (3829, 0.002899199318640463), (3830, 0.0), (3831, 0.04513192650045093), (3832, 0.0038075193032337893), (3833, 0.0), (3834, 0.01071774610158661), (3835, 0.030058539151184862), (3836, 0.0), (3837, 0.0), (3838, 0.0), (3839, 0.0028767700003281584), (3840, 0.06423002735645326), (3841, 0.016232638702991357), (3842, 0.0), (3843, 0.0), (3844, 0.012552409539072001), (3845, 0.0032531602129549585), (3846, 0.0), (3847, 0.0), (3848, 0.0039569091129820705), (3849, 0.0), (3850, 0.0), (3851, 0.0), (3852, 0.004326230545331065), (3853, 0.0), (3854, 0.007475672189066438), (3855, 0.015358877502041804), (3856, 0.0), (3857, 0.008978876841838384), (3858, 0.02169699599297407), (3859, 0.0), (3860, 0.0), (3861, 0.0), (3862, 0.003257359885800901), (3863, 0.002802634976885234), (3864, 0.0), (3865, 0.004427943307799924), (3866, 0.02540498834265), (3867, 0.003543080240546108), (3868, 0.00773502993125847), (3869, 0.02196129821514919), (3870, 0.015662852681836273), (3871, 0.0), (3872, 0.0), (3873, 0.014045904079865928), (3874, 0.003813901079579254), (3875, 0.010606397542904634), (3876, 0.002862941955331097), (3877, 0.04491050701827425), (3878, 0.0356066133411345), (3879, 0.0), (3880, 0.002721055226939054), (3881, 0.009552511427750552), (3882, 0.0032825081968886434), (3883, 0.0035551792811209294), (3884, 0.04056073797817826), (3885, 0.0), (3886, 0.004768344990843857), (3887, 0.0), (3888, 0.003085986308096969), (3889, 0.0033824915970271413), (3890, 0.0126245087153892), (3891, 0.004701929329736454), (3892, 0.00405445514419483), (3893, 0.0033693407996165945), (3894, 0.0070898559501418055), (3895, 0.00273025957279625), (3896, 0.0), (3897, 0.005264251842324269), (3898, 0.002959720679384027), (3899, 0.009474272244359327), (3900, 0.0029991046437834235), (3901, 0.0037613895224844576), (3902, 0.0032451320617755937), (3903, 0.07562763792877823), (3904, 0.003335987909919128), (3905, 0.04538714554064768), (3906, 0.0030686063365154104), (3907, 0.010302570616351404), (3908, 0.010148731797333773), (3909, 0.004632420329504872), (3910, 0.0027381907122803442), (3911, 0.020402702684804264), (3912, 0.014257767840290316), (3913, 0.0028793614442597054), (3914, 0.00869239121973387), (3915, 0.01854591697006717), (3916, 0.0), (3917, 0.007776416341259331), (3918, 0.0), (3919, 0.04816931812632377), (3920, 0.008373449594504588), (3921, 0.011442635252068241), (3922, 0.0038501950780790504), (3923, 0.0), (3924, 0.014344384589296629), (3925, 0.03773960156628715), (3926, 0.004973097479125492), (3927, 0.006728719833715684), (3928, 0.00675268389508739), (3929, 0.0), (3930, 0.015510598546428764), (3931, 0.0), (3932, 0.005753309918087559), (3933, 0.0), (3934, 0.0), (3935, 0.0036751512895674427), (3936, 0.0), (3937, 0.046720351400286256), (3938, 0.0), (3939, 0.03168699564586392), (3940, 0.0), (3941, 0.0029227290728740542), (3942, 0.0387207000685179), (3943, 0.0), (3944, 0.004002335868255893), (3945, 0.00908190529082594), (3946, 0.0), (3947, 0.0), (3948, 0.0), (3949, 0.0), (3950, 0.0), (3951, 0.00943265013674013), (3952, 0.003576700453642523), (3953, 0.0028377552317985512), (3954, 0.0029435499449329415), (3955, 0.004954858207014782), (3956, 0.0027798646975774077), (3957, 0.006663239992050492), (3958, 0.0), (3959, 0.008372906869377566), (3960, 0.009164760976816514), (3961, 0.0034424956808831713), (3962, 0.003502839032962319), (3963, 0.0049279527852144865), (3964, 0.0), (3965, 0.020748954065344462), (3966, 0.004630656001601957), (3967, 0.003447811536335137), (3968, 0.014655264736133024), (3969, 0.005216031529516954), (3970, 0.009497522292287635), (3971, 0.0), (3972, 0.015984429805736007), (3973, 0.0033206712419332706), (3974, 0.0028071891581518795), (3975, 0.018190394990619238), (3976, 0.0), (3977, 0.04459072667375526), (3978, 0.002974867532530259), (3979, 0.0), (3980, 0.03301686419435169), (3981, 0.0), (3982, 0.0), (3983, 0.00605627048521748), (3984, 0.0032800588961045), (3985, 0.0), (3986, 0.016286472284682454), (3987, 0.12317879489414249), (3988, 0.0), (3989, 0.0), (3990, 0.004304974116129958), (3991, 0.0), (3992, 0.003525528272296626), (3993, 0.012894072311834693), (3994, 0.004825054580408897), (3995, 0.0), (3996, 0.0), (3997, 0.0), (3998, 0.06130381750172154), (3999, 0.003840345061209935), (4000, 0.013029358661124936), (4001, 0.04800600358702721), (4002, 0.02102131518123017), (4003, 0.0), (4004, 0.0031629890001061488), (4005, 0.014036027960121385), (4006, 0.004962194546038537), (4007, 0.00706000508226506), (4008, 0.0), (4009, 0.004587693927660514), (4010, 0.0), (4011, 0.017576661139460683), (4012, 0.004686015518408138), (4013, 0.00880132480720064), (4014, 0.003155697405687552), (4015, 0.014860028487767737), (4016, 0.0031103088694240198), (4017, 0.004232380721223287), (4018, 0.011894775007965637), (4019, 0.004043101590632963), (4020, 0.00305977827293021), (4021, 0.0), (4022, 0.0), (4023, 0.029340117245101542), (4024, 0.03705351421793717), (4025, 0.013537760387554412), (4026, 0.0), (4027, 0.0), (4028, 0.0), (4029, 0.0), (4030, 0.003650556319504973), (4031, 0.0058041416769714135), (4032, 0.021020094560253968), (4033, 0.03590246698048042), (4034, 0.0), (4035, 0.0), (4036, 0.0030474418649285755), (4037, 0.03360555164336022), (4038, 0.008642491691342461), (4039, 0.0), (4040, 0.0), (4041, 0.0), (4042, 0.0188585838220102), (4043, 0.0), (4044, 0.0), (4045, 0.0), (4046, 0.0034191529354558113), (4047, 0.0), (4048, 0.0034143750708749473), (4049, 0.003165342144399268), (4050, 0.0), (4051, 0.0034795912726381987), (4052, 0.00329629913946199), (4053, 0.002830062964851145), (4054, 0.003307121893365227), (4055, 0.02760215501063648), (4056, 0.01698232187206152), (4057, 0.018276322148248064), (4058, 0.0), (4059, 0.007559900804928786), (4060, 0.0030986773730592733), (4061, 0.0351346579325542), (4062, 0.009791412189546551), (4063, 0.0), (4064, 0.00550799920996515), (4065, 0.0), (4066, 0.002738986774726999), (4067, 0.0), (4068, 0.008212768951171326), (4069, 0.027752418201671316), (4070, 0.009932066211245599), (4071, 0.0), (4072, 0.0), (4073, 0.0), (4074, 0.04146795472795396), (4075, 0.0036392436278560067), (4076, 0.06662951339768446), (4077, 0.05096280038637285), (4078, 0.011115033718064661), (4079, 0.0032331843927972145), (4080, 0.0027964887648429058), (4081, 0.003136158188565447), (4082, 0.004405987616721347), (4083, 0.0032561633544203905), (4084, 0.01794507039890161), (4085, 0.0029684854940281663), (4086, 0.0), (4087, 0.014279604491816264), (4088, 0.010265329536787625), (4089, 0.0032474640998472284), (4090, 0.0), (4091, 0.01646196954056914), (4092, 0.003529534387032157), (4093, 0.0), (4094, 0.0), (4095, 0.002646873082017193), (4096, 0.019263742838891894), (4097, 0.015282923559625074), (4098, 0.0031970064968857917), (4099, 0.004963807821973741), (4100, 0.01629211882855304), (4101, 0.07269497860564844), (4102, 0.003960045930919276), (4103, 0.031080115776473696), (4104, 0.002764554246010065), (4105, 0.0), (4106, 0.008890416841825888), (4107, 0.0038511777134003456), (4108, 0.08038586012095122), (4109, 0.00449257516228681), (4110, 0.008813224561167803), (4111, 0.003338838088602902), (4112, 0.004846421477927262), (4113, 0.0034641851509957786), (4114, 0.0), (4115, 0.027892917513114658), (4116, 0.02764224073278885), (4117, 0.044055057088472016), (4118, 0.010708541478886217), (4119, 0.02217019651828883), (4120, 0.005534455009264155), (4121, 0.005647164454266297), (4122, 0.0), (4123, 0.0032931519751273823), (4124, 0.0076492769458540825), (4125, 0.0), (4126, 0.0036292753604257573), (4127, 0.0), (4128, 0.0), (4129, 0.0030188724081331945), (4130, 0.0034089333190234212), (4131, 0.0), (4132, 0.027291355005842854), (4133, 0.003400808897424746), (4134, 0.0), (4135, 0.008198678354711886), (4136, 0.018856365343831227), (4137, 0.008158217224181967), (4138, 0.00345707294409313), (4139, 0.0030117803853457097), (4140, 0.003407757715368411), (4141, 0.002780828458768079), (4142, 0.021829920695308543), (4143, 0.049325605805858014), (4144, 0.018267337798407845), (4145, 0.021984588356624944), (4146, 0.0), (4147, 0.0037976597768829283), (4148, 0.0), (4149, 0.0), (4150, 0.011370651829752804), (4151, 0.005358691053180426), (4152, 0.007712805045332287), (4153, 0.0), (4154, 0.0028182742587298747), (4155, 0.007723005651841665), (4156, 0.00708627029991862), (4157, 0.004865560505308296), (4158, 0.0042631973620682094), (4159, 0.0), (4160, 0.003496870978879718), (4161, 0.00335531506060502), (4162, 0.0), (4163, 0.0036159949527126145), (4164, 0.019840944087624914), (4165, 0.009237444744966199), (4166, 0.0), (4167, 0.0), (4168, 0.010244685706061882), (4169, 0.041873823070679925), (4170, 0.0), (4171, 0.005713294731452085), (4172, 0.004123230430004651), (4173, 0.0), (4174, 0.007440680783308352), (4175, 0.013987218660676854), (4176, 0.00743336037774478), (4177, 0.0), (4178, 0.026622795302160527), (4179, 0.0), (4180, 0.0), (4181, 0.01104140219286534), (4182, 0.00996593134942899), (4183, 0.003025026712082657), (4184, 0.01005780609591357), (4185, 0.0), (4186, 0.01988758719320121), (4187, 0.0035388940120240865), (4188, 0.0), (4189, 0.008269043535417929), (4190, 0.0), (4191, 0.0), (4192, 0.01263623371822422), (4193, 0.0), (4194, 0.018350202772082554), (4195, 0.0), (4196, 0.0), (4197, 0.003179542215418692), (4198, 0.0), (4199, 0.0), (4200, 0.03570621390058248), (4201, 0.03572573820274594), (4202, 0.004361106882863962), (4203, 0.009370555855341151), (4204, 0.0), (4205, 0.016090330181692574), (4206, 0.023599482549750417), (4207, 0.0), (4208, 0.0), (4209, 0.016096389049222608), (4210, 0.005036145843472604), (4211, 0.0), (4212, 0.0), (4213, 0.0029657314510818534), (4214, 0.0), (4215, 0.0), (4216, 0.0), (4217, 0.00479556909151768), (4218, 0.004856686517091651), (4219, 0.0), (4220, 0.002751414689877947), (4221, 0.004169961119664133), (4222, 0.004182886404338591), (4223, 0.0), (4224, 0.0), (4225, 0.017923689370339908), (4226, 0.054787057423007386), (4227, 0.0), (4228, 0.018489878029816716), (4229, 0.0), (4230, 0.0039962614075012), (4231, 0.003327029367033391), (4232, 0.0027114443093154894), (4233, 0.0), (4234, 0.0), (4235, 0.0), (4236, 0.0), (4237, 0.0), (4238, 0.0), (4239, 0.0), (4240, 0.05783287680057246), (4241, 0.020335366096542497), (4242, 0.010042988059209675), (4243, 0.0035506184678927273), (4244, 0.0035730684398013243), (4245, 0.051859899238469044), (4246, 0.0029530650297517774), (4247, 0.011545387139498393), (4248, 0.0), (4249, 0.0032180497546240934), (4250, 0.0), (4251, 0.0), (4252, 0.004777102072728809), (4253, 0.0), (4254, 0.0029284975145719896), (4255, 0.034782873931342745), (4256, 0.0), (4257, 0.007615373489482767), (4258, 0.0), (4259, 0.003464373666809099), (4260, 0.0), (4261, 0.0), (4262, 0.00839277405085247), (4263, 0.0034351818466676082), (4264, 0.0), (4265, 0.010509294819347714), (4266, 0.013254956737385904), (4267, 0.04051650271859721), (4268, 0.003106299368459714), (4269, 0.008671190625192898), (4270, 0.0), (4271, 0.006143734611033394), (4272, 0.019506632221174932), (4273, 0.01915180761688197), (4274, 0.0), (4275, 0.0), (4276, 0.0), (4277, 0.0028567689603242797), (4278, 0.0), (4279, 0.004748042108971602), (4280, 0.08001137805223853), (4281, 0.005738528739346734), (4282, 0.04529579125816738), (4283, 0.008240392794984699), (4284, 0.00793192337887625), (4285, 0.02425921590468167), (4286, 0.003297518058553952), (4287, 0.0032222080851119763), (4288, 0.0063463001547074014), (4289, 0.023666436418682085), (4290, 0.008962560046780269), (4291, 0.0), (4292, 0.014115777540071352), (4293, 0.003480307172644233), (4294, 0.0), (4295, 0.0035609532294354944), (4296, 0.0027166908714084566), (4297, 0.043917465603083045), (4298, 0.0038263060918838176), (4299, 0.0030447009222248963), (4300, 0.0), (4301, 0.0023139765131080466), (4302, 0.0), (4303, 0.0), (4304, 0.0027992339559062074), (4305, 0.0093056490393157), (4306, 0.0038559582133403897), (4307, 0.0), (4308, 0.0034203110323720214), (4309, 0.024746811357595253), (4310, 0.0), (4311, 0.002533934409176069), (4312, 0.07370017522119729), (4313, 0.02425692957444173), (4314, 0.0), (4315, 0.0), (4316, 0.0), (4317, 0.0), (4318, 0.003295700271784548), (4319, 0.0), (4320, 0.025290179776134195), (4321, 0.002969325503195794), (4322, 0.0), (4323, 0.0), (4324, 0.0), (4325, 0.012944372948740967), (4326, 0.044253309770153175), (4327, 0.0), (4328, 0.009276720838785148), (4329, 0.0), (4330, 0.00808852313500702), (4331, 0.0), (4332, 0.010773350037628972), (4333, 0.019213162371615602), (4334, 0.00322354300159359), (4335, 0.0), (4336, 0.06327237551431096), (4337, 0.0), (4338, 0.0684567307272217), (4339, 0.03399710309411241), (4340, 0.024606049873155015), (4341, 0.0), (4342, 0.004575323516336874), (4343, 0.0027587145455399563), (4344, 0.011154595565988032), (4345, 0.06213457905604447), (4346, 0.023983160046869192), (4347, 0.0), (4348, 0.007434244150141934), (4349, 0.003066845769124956), (4350, 0.002811195800521244), (4351, 0.005324578277322296), (4352, 0.0), (4353, 0.004311848439498283), (4354, 0.0032626975419158327), (4355, 0.013994079363819863), (4356, 0.012216433432163946), (4357, 0.003324618220409937), (4358, 0.0), (4359, 0.0028474585515036897), (4360, 0.0), (4361, 0.003244887372974054), (4362, 0.003053879231619918), (4363, 0.008466828206975686), (4364, 0.0), (4365, 0.0), (4366, 0.009006700951216274), (4367, 0.0), (4368, 0.00909815097964791), (4369, 0.003588224214464352), (4370, 0.0), (4371, 0.0033445581254646496), (4372, 0.07692460567180297), (4373, 0.0037376841079188234), (4374, 0.021895196658038907), (4375, 0.0), (4376, 0.01536033273059349), (4377, 0.0), (4378, 0.0), (4379, 0.008375808512123372), (4380, 0.03230375391811194), (4381, 0.003023647473826627), (4382, 0.0030158621387512984), (4383, 0.014004433575565967), (4384, 0.0), (4385, 0.0), (4386, 0.0026899129133601363), (4387, 0.007882514592525171), (4388, 0.005105937313493276), (4389, 0.0), (4390, 0.01620723403302142), (4391, 0.0031519493341381744), (4392, 0.0), (4393, 0.0), (4394, 0.008021871812292247), (4395, 0.0176094040009979), (4396, 0.014696464605366243), (4397, 0.0034711027731904273), (4398, 0.003603955546259262), (4399, 0.012332372979186428), (4400, 0.003975890862578275), (4401, 0.0034846447413191903), (4402, 0.007475036793462952), (4403, 0.06697767802601402), (4404, 0.0), (4405, 0.0), (4406, 0.005251811894964031), (4407, 0.004079595603193775), (4408, 0.0), (4409, 0.003100445326000392), (4410, 0.0), (4411, 0.0026719630344041517), (4412, 0.003653525837240148), (4413, 0.0), (4414, 0.003762952052974569), (4415, 0.0), (4416, 0.0036712454752375365), (4417, 0.0), (4418, 0.0040962249441475465), (4419, 0.0032514524591087733), (4420, 0.0032887250074594182), (4421, 0.01456810026230729), (4422, 0.003223059074535135), (4423, 0.0040443496649533615), (4424, 0.0), (4425, 0.0), (4426, 0.0), (4427, 0.0031153951776453632), (4428, 0.02879011198811009), (4429, 0.0027080096622037865), (4430, 0.0032654590083762685), (4431, 0.013955259898424367), (4432, 0.03051334970842146), (4433, 0.0), (4434, 0.0), (4435, 0.017156043921262517), (4436, 0.016155375841738227), (4437, 0.0), (4438, 0.004760160953332694), (4439, 0.028669251810524116), (4440, 0.0), (4441, 0.014231935709896965), (4442, 0.021377609279968273), (4443, 0.0038207160852499625), (4444, 0.010589614635321022), (4445, 0.02575837803216703), (4446, 0.0034213783064756757), (4447, 0.0), (4448, 0.04101853110321463), (4449, 0.005825797062555022), (4450, 0.013280900101643298), (4451, 0.0), (4452, 0.015784975514065894), (4453, 0.0), (4454, 0.005728169348898323), (4455, 0.0), (4456, 0.0), (4457, 0.0), (4458, 0.0037197674134023667), (4459, 0.009553267200068468), (4460, 0.005628106996981001), (4461, 0.003002524280418609), (4462, 0.005610953940084809), (4463, 0.01111871619051521), (4464, 0.017744635327649354), (4465, 0.0035744878744599458), (4466, 0.014531927047730887), (4467, 0.019544269254552254), (4468, 0.06285109577310583), (4469, 0.003896859971043343), (4470, 0.003215548909346771), (4471, 0.003307381345985272), (4472, 0.017497319926041012), (4473, 0.007040649125442588), (4474, 0.003283946038559475), (4475, 0.002804662300303856), (4476, 0.0026688445842579065), (4477, 0.009444441265465517), (4478, 0.0), (4479, 0.0028725440551912464), (4480, 0.0), (4481, 0.004743905132765241), (4482, 0.01485950542426954), (4483, 0.0), (4484, 0.004158370913286285), (4485, 0.0), (4486, 0.0051464221515957025), (4487, 0.0030727718823421223), (4488, 0.012099070058984914), (4489, 0.0033078801844236153), (4490, 0.0036987724754744566), (4491, 0.0), (4492, 0.005333684270715357), (4493, 0.04889568034519416), (4494, 0.06695266193780525), (4495, 0.02715758121143096), (4496, 0.0), (4497, 0.003265335387325678), (4498, 0.0), (4499, 0.0), (4500, 0.0), (4501, 0.018908440795944115), (4502, 0.002848574900237422), (4503, 0.01825532675765713), (4504, 0.027754056210090056), (4505, 0.003301342273572581), (4506, 0.0), (4507, 0.01961207816636663), (4508, 0.01627243655563565), (4509, 0.0), (4510, 0.0), (4511, 0.008040451391166983), (4512, 0.0), (4513, 0.0), (4514, 0.0), (4515, 0.00552502056870376), (4516, 0.003576437908280982), (4517, 0.035072382025959845), (4518, 0.0), (4519, 0.0), (4520, 0.0030875061593834212), (4521, 0.02336037740762597), (4522, 0.0033988942113240238), (4523, 0.007733229551827826), (4524, 0.005925038033264922), (4525, 0.012779662006816406), (4526, 0.0), (4527, 0.0), (4528, 0.0427750247224513), (4529, 0.004181802058842596), (4530, 0.003050258325010743), (4531, 0.02006012393336834), (4532, 0.0), (4533, 0.017474904074782277), (4534, 0.013573195942403624), (4535, 0.0034908856506986486), (4536, 0.0029797710021729974), (4537, 0.0), (4538, 0.0), (4539, 0.03347835062494589), (4540, 0.003351251951224703), (4541, 0.008109805615736734), (4542, 0.0), (4543, 0.0), (4544, 0.0038907702339153805), (4545, 0.0033751324305544153), (4546, 0.004031497281325459), (4547, 0.0), (4548, 0.004654324252979538), (4549, 0.005507977074292631), (4550, 0.007836965102851468), (4551, 0.014441387463095482), (4552, 0.0), (4553, 0.008758796338394584), (4554, 0.003707427743121455), (4555, 0.004700628187960362), (4556, 0.0), (4557, 0.0), (4558, 0.04004045985396414), (4559, 0.0), (4560, 0.0), (4561, 0.0), (4562, 0.0), (4563, 0.0031982013758010486), (4564, 0.004780719661940975), (4565, 0.0), (4566, 0.04643457536355074), (4567, 0.0029808545454233478), (4568, 0.00928169602715899), (4569, 0.0), (4570, 0.0), (4571, 0.004955996471437774), (4572, 0.003827798943239244), (4573, 0.003023507427814764), (4574, 0.0033394682962152463), (4575, 0.026826893681147483), (4576, 0.04297167901157586), (4577, 0.0379083924787596), (4578, 0.0), (4579, 0.0033617801170917564), (4580, 0.0), (4581, 0.0), (4582, 0.0), (4583, 0.0), (4584, 0.0036667158356522758), (4585, 0.0), (4586, 0.016240545626583773), (4587, 0.020706247950735356), (4588, 0.0), (4589, 0.015273470600076073), (4590, 0.02120459936314778), (4591, 0.0029007423201264982), (4592, 0.00494974414097315), (4593, 0.014606625410668306), (4594, 0.021320511851538465), (4595, 0.010838915704190308), (4596, 0.008752226972735939), (4597, 0.0), (4598, 0.00244686476401007), (4599, 0.0), (4600, 0.004543783985499756), (4601, 0.014377745354801767), (4602, 0.014412148390710389), (4603, 0.0029093038554294723), (4604, 0.008127680717402734), (4605, 0.003464414411608047), (4606, 0.003948514024711095), (4607, 0.019074692001929537), (4608, 0.0027677213829958294), (4609, 0.0), (4610, 0.002617587616113724), (4611, 0.0041572225094831375), (4612, 0.01006383501882313), (4613, 0.01586016473922023), (4614, 0.0029790997956703554), (4615, 0.013594575891562079), (4616, 0.002881094167775429), (4617, 0.00426566859706337), (4618, 0.019495866125882395), (4619, 0.0034411854740234366), (4620, 0.012002012440029556), (4621, 0.005188393036935287), (4622, 0.0), (4623, 0.0), (4624, 0.01368352276261654), (4625, 0.0032383905757731703), (4626, 0.0025216015454811607), (4627, 0.0026762159725113965), (4628, 0.0), (4629, 0.0409735666448242), (4630, 0.0), (4631, 0.0), (4632, 0.0036770028392198867), (4633, 0.040969947960932056), (4634, 0.007543278584573563), (4635, 0.029246410872582417), (4636, 0.002630162405800721), (4637, 0.003700882721156188), (4638, 0.002845061427187933), (4639, 0.0), (4640, 0.0031246637568951587), (4641, 0.003046786200190991), (4642, 0.0), (4643, 0.003208194921867736), (4644, 0.0), (4645, 0.0), (4646, 0.01910211352371321), (4647, 0.004489759432023842), (4648, 0.0), (4649, 0.007424039212708998), (4650, 0.0035943347218571112), (4651, 0.0), (4652, 0.017630613933514533), (4653, 0.0), (4654, 0.0), (4655, 0.0), (4656, 0.010801517715917931), (4657, 0.003354380260741646), (4658, 0.012545208569267875), (4659, 0.016167395883507102), (4660, 0.02232067038820991), (4661, 0.0027646355630951323), (4662, 0.033586043337021164), (4663, 0.0), (4664, 0.009245387933676082), (4665, 0.0), (4666, 0.0), (4667, 0.0), (4668, 0.003073159524683695), (4669, 0.0033968950316131184), (4670, 0.0029875988290949313), (4671, 0.0), (4672, 0.0), (4673, 0.0030207962000510366), (4674, 0.018525944610719318), (4675, 0.020594466450015954), (4676, 0.016929147933346867), (4677, 0.00315236363558586), (4678, 0.0245015356121678), (4679, 0.011472257083378979), (4680, 0.0033347062465802057), (4681, 0.0), (4682, 0.009635628827492157), (4683, 0.0), (4684, 0.014241595858447734), (4685, 0.007936696021447658), (4686, 0.02893151828822027), (4687, 0.007904525861611219), (4688, 0.0), (4689, 0.004530582964675092), (4690, 0.0), (4691, 0.0), (4692, 0.003893230734671147), (4693, 0.003029606529439375), (4694, 0.0036646122375655617), (4695, 0.005232666874147752), (4696, 0.0040860094810172476), (4697, 0.0), (4698, 0.0), (4699, 0.003518993873025534), (4700, 0.0), (4701, 0.015655742823666805), (4702, 0.04584675721823608), (4703, 0.0), (4704, 0.004260793840636839), (4705, 0.004459212294014092), (4706, 0.003465060631226165), (4707, 0.0), (4708, 0.0), (4709, 0.0), (4710, 0.0039423569163631374), (4711, 0.0), (4712, 0.0028096212714502043), (4713, 0.003610479401371405), (4714, 0.0), (4715, 0.0031269420187190478), (4716, 0.0), (4717, 0.020161386498444248), (4718, 0.003497941721804814), (4719, 0.0060406089998778474), (4720, 0.0), (4721, 0.0), (4722, 0.033640105337074164), (4723, 0.003813372071506542), (4724, 0.003844681884573321), (4725, 0.0), (4726, 0.0), (4727, 0.0), (4728, 0.0), (4729, 0.002995864239202657), (4730, 0.0), (4731, 0.003531247194060825), (4732, 0.008817289879681623), (4733, 0.028629533914733878), (4734, 0.0033705642789518524), (4735, 0.0036906882904359233), (4736, 0.010010825400189844), (4737, 0.0), (4738, 0.0), (4739, 0.00636008091330972), (4740, 0.0), (4741, 0.0), (4742, 0.0), (4743, 0.0030431692849133066), (4744, 0.002528345982530772), (4745, 0.0), (4746, 0.0), (4747, 0.011528185372570585), (4748, 0.007001300431344074), (4749, 0.004185669144913711), (4750, 0.0), (4751, 0.0), (4752, 0.01696256373669339), (4753, 0.0035564045449858746), (4754, 0.0), (4755, 0.004995241774998501), (4756, 0.003237296760348775), (4757, 0.003275296375089035), (4758, 0.0), (4759, 0.0)]\n"
          ]
        }
      ]
    },
    {
      "cell_type": "code",
      "source": [
        "len(recomendation_score)"
      ],
      "metadata": {
        "colab": {
          "base_uri": "https://localhost:8080/"
        },
        "id": "mOFcfWuKjuqZ",
        "outputId": "b19152b5-8742-43d2-8572-b2b82547da1f"
      },
      "execution_count": null,
      "outputs": [
        {
          "output_type": "execute_result",
          "data": {
            "text/plain": [
              "4760"
            ]
          },
          "metadata": {},
          "execution_count": 116
        }
      ]
    },
    {
      "cell_type": "markdown",
      "source": [
        "Get ALL Movies Sort Based ON Recomendation Score wrt Favourite Movie"
      ],
      "metadata": {
        "id": "Q_5qy98Jjxwk"
      }
    },
    {
      "cell_type": "code",
      "source": [
        "#sorting the movies based on aimilarity score\n",
        "sorted_similar_movies=sorted(recomendation_score,key=lambda x:x[1], reverse=True)\n",
        "print(sorted_similar_movies)"
      ],
      "metadata": {
        "colab": {
          "base_uri": "https://localhost:8080/"
        },
        "id": "2JEQebiNj6hN",
        "outputId": "3cc31d3f-5396-4774-8d85-68edc10378b1"
      },
      "execution_count": null,
      "outputs": [
        {
          "output_type": "stream",
          "name": "stdout",
          "text": [
            "[(12, 1.0000000000000002), (109, 0.2703988428021723), (251, 0.2558709081964983), (111, 0.1717256231198212), (112, 0.16422505723706288), (353, 0.14944504251289237), (950, 0.1371035139824308), (1748, 0.13194182692316095), (3823, 0.1290891370290792), (2027, 0.12655432850751955), (3987, 0.12317879489414249), (1533, 0.12220009955331856), (1410, 0.1217549241099622), (3, 0.12113761972627259), (2502, 0.11498163219140066), (1728, 0.11354787113688038), (1937, 0.11224356527811516), (1475, 0.11211382014273256), (287, 0.11103078888892323), (595, 0.10989125671281569), (1250, 0.10730475808720988), (2070, 0.10728829492459034), (1754, 0.10436451244125716), (613, 0.10377226288757162), (767, 0.10335953763339839), (609, 0.10176577049833248), (684, 0.09932738284053746), (2305, 0.09913885078554319), (949, 0.09891695124124568), (2482, 0.0970711587313872), (106, 0.0965561329518462), (387, 0.09061835549730556), (317, 0.0905693534152036), (1707, 0.09026322635711319), (481, 0.08693279512222804), (2919, 0.0849176343125908), (467, 0.08290499675382132), (1860, 0.08280876490358034), (2483, 0.08178710988845284), (2647, 0.08151059346440581), (981, 0.0809718628879715), (4108, 0.08038586012095122), (4280, 0.08001137805223853), (2540, 0.07925903676571619), (1179, 0.07883541855445006), (374, 0.0783986518305037), (43, 0.07758568608701157), (371, 0.07753485078511825), (2878, 0.07739148681262588), (1358, 0.07726906668990002), (4372, 0.07692460567180297), (1638, 0.07603687817564023), (3903, 0.07562763792877823), (1968, 0.07543032485770326), (220, 0.07417583575148032), (1257, 0.07405850620700831), (3551, 0.07402395917453795), (4312, 0.07370017522119729), (468, 0.07296506264459938), (4101, 0.07269497860564844), (2634, 0.07265843018608895), (2567, 0.07175204688926248), (623, 0.07170353567749449), (37, 0.07079490708952084), (3284, 0.07077101105503593), (1338, 0.0703916311774763), (2043, 0.0699743603196003), (2199, 0.06971581633304388), (2102, 0.06948664668515767), (1351, 0.06880240422933846), (4338, 0.0684567307272217), (3086, 0.06788363245035159), (1216, 0.067248962059176), (4403, 0.06697767802601402), (4494, 0.06695266193780525), (4076, 0.06662951339768446), (3357, 0.06657152951251469), (2463, 0.06598534966100442), (3616, 0.06472051412781932), (1866, 0.06471332139367174), (3840, 0.06423002735645326), (280, 0.0640626446665274), (2703, 0.06400200376170104), (11, 0.06369899650805283), (1969, 0.06349463641407027), (1185, 0.06335124847045703), (4336, 0.06327237551431096), (1656, 0.06303890223945832), (4468, 0.06285109577310583), (2725, 0.06258710361437123), (1241, 0.06246547242037298), (4345, 0.06213457905604447), (1925, 0.06201687972881793), (2244, 0.0617506878027659), (1523, 0.06165122107153334), (734, 0.06133905017522438), (3998, 0.06130381750172154), (2894, 0.060818182016854155), (677, 0.06071716229816479), (2757, 0.06061233439555074), (963, 0.06015391635732273), (3008, 0.059730488584511826), (1730, 0.05972030152272371), (3377, 0.05902090439946828), (3047, 0.05852204875128033), (1371, 0.05822381077722953), (4240, 0.05783287680057246), (2291, 0.05722205399306972), (227, 0.05692610319981061), (2022, 0.05690743542313645), (2277, 0.05686384720094821), (1224, 0.05672998810780427), (643, 0.05670923040165918), (2844, 0.0562681504840202), (2743, 0.05616173285692712), (2275, 0.0559107079289916), (3022, 0.05575470089180477), (2136, 0.05535002520708733), (3506, 0.05508800659592138), (1294, 0.05497973244212674), (1293, 0.054979151155807274), (3633, 0.054893104358540015), (1793, 0.05485049445167839), (4226, 0.054787057423007386), (2137, 0.054699204946988565), (2900, 0.05469021812244391), (934, 0.05453588599212131), (1122, 0.054525559856294634), (281, 0.05448988935178306), (1502, 0.05412156338529015), (3185, 0.053827380351427354), (530, 0.05372247344249988), (1194, 0.05357425880299578), (2294, 0.053364639865335156), (2229, 0.053349036285343175), (1233, 0.052847184352453884), (2472, 0.05280555353601768), (3661, 0.05255300939735866), (1948, 0.05254858976188152), (2111, 0.052461016952291835), (946, 0.05238201555069489), (1649, 0.05232650495465124), (883, 0.05214052683931482), (1245, 0.05191443294996056), (4245, 0.051859899238469044), (1349, 0.05173589146640752), (658, 0.05121740909701034), (2374, 0.05113739373185634), (641, 0.05104085017876834), (4077, 0.05096280038637285), (1225, 0.05092019154740531), (2000, 0.05077179267759363), (2414, 0.05051605750883627), (805, 0.05047439267044447), (3224, 0.0502531500874312), (1009, 0.05016496251635222), (1131, 0.05007517229788849), (841, 0.049950944189481164), (1107, 0.04982958673636639), (3491, 0.04948761243780344), (4143, 0.049325605805858014), (2180, 0.04910760846760997), (198, 0.04897380880817198), (744, 0.048969752825583496), (4493, 0.04889568034519416), (1418, 0.04882691007530267), (3241, 0.04864385772961173), (1219, 0.048613945038918534), (1239, 0.04848202636480471), (108, 0.04847154267342692), (2474, 0.04846015631075453), (66, 0.048174049193627076), (3919, 0.04816931812632377), (130, 0.04801596871794352), (4001, 0.04800600358702721), (67, 0.047960647120655925), (283, 0.047876176640982), (490, 0.04779665662786163), (2520, 0.04766483380702787), (1886, 0.0476490405964923), (152, 0.047513554020240885), (2413, 0.04735908991527301), (792, 0.04717927330156113), (852, 0.04707059717256955), (282, 0.047054725867984204), (846, 0.046793067621124104), (1321, 0.0467798441913425), (3937, 0.046720351400286256), (1511, 0.04664976470345272), (2584, 0.04663477444377429), (342, 0.04652864794462086), (916, 0.046435883706195856), (4566, 0.04643457536355074), (1901, 0.046271776117530174), (50, 0.04619838477580379), (428, 0.04608448603569267), (2680, 0.04593917531047216), (4702, 0.04584675721823608), (3640, 0.04567000933580914), (3313, 0.045521737258891706), (3587, 0.045437996362836394), (3905, 0.04538714554064768), (1013, 0.04533792656444591), (552, 0.0453352001890499), (406, 0.0453052820685936), (4282, 0.04529579125816738), (101, 0.045285759028946486), (3802, 0.04520786857261071), (3831, 0.04513192650045093), (598, 0.04497256752907915), (2978, 0.04495568979260875), (3877, 0.04491050701827425), (1471, 0.04478161606887151), (3141, 0.0447151472317614), (3550, 0.04459812763751488), (700, 0.04459497614832365), (3977, 0.04459072667375526), (3337, 0.044530669165062375), (2691, 0.044525662652113385), (216, 0.044280969693521494), (4326, 0.044253309770153175), (430, 0.04425210743604052), (518, 0.04425165945617287), (3592, 0.04410476562138235), (2585, 0.04408452028349387), (4117, 0.044055057088472016), (769, 0.04398273243306931), (4297, 0.043917465603083045), (662, 0.04377524924062188), (2065, 0.043594519915947774), (1234, 0.04346620872286015), (1186, 0.04328320679190112), (1535, 0.04327526851105454), (2430, 0.04322241357703065), (3082, 0.04321040017809741), (4576, 0.04297167901157586), (1084, 0.042942730769692086), (1044, 0.04294241466516263), (1253, 0.04284498563134851), (3569, 0.042790350356361084), (4528, 0.0427750247224513), (85, 0.042644993821338004), (165, 0.042633417270775985), (782, 0.042485845930233045), (1794, 0.04237466052423765), (167, 0.04233747199093763), (1881, 0.04229723163232427), (35, 0.04226843963291241), (269, 0.04222327574966956), (570, 0.04222256665731419), (853, 0.04221038034066281), (249, 0.04215279858043014), (1443, 0.04213881630889832), (911, 0.041914411559618135), (4169, 0.041873823070679925), (1435, 0.04184516665346468), (1263, 0.04181001605653464), (550, 0.041787552089478416), (1537, 0.041751233640860655), (1896, 0.041667373239733005), (2957, 0.0416343333097405), (2159, 0.0416233006041452), (856, 0.04161984995912963), (589, 0.04159204307419351), (2935, 0.041555304060642104), (3678, 0.041486455516831104), (4074, 0.04146795472795396), (261, 0.041448369687092604), (2415, 0.04129512081052595), (1939, 0.041024870089997466), (4448, 0.04101853110321463), (4629, 0.0409735666448242), (4633, 0.040969947960932056), (38, 0.04074592864750176), (687, 0.040725903222886245), (1178, 0.040667916607685976), (125, 0.040611473085948424), (3884, 0.04056073797817826), (4267, 0.04051650271859721), (303, 0.04049982310870292), (2014, 0.040399888369516634), (3690, 0.04034916441508609), (2114, 0.04034739745905672), (204, 0.0403194177493908), (1928, 0.040308473108943636), (1985, 0.04024367065491288), (26, 0.040227867473162135), (2977, 0.04021612010748546), (1246, 0.040206371159094256), (449, 0.04016070231802496), (3763, 0.040107366730437126), (839, 0.04007947590700812), (2570, 0.04005429013341878), (4558, 0.04004045985396414), (2122, 0.0399782371203783), (3718, 0.03983604674098306), (3094, 0.03981993061176153), (2745, 0.039678230174358314), (1213, 0.039660887114425857), (3534, 0.03963269159970923), (343, 0.03957501698197658), (2315, 0.03954911715263053), (96, 0.039530912714389736), (407, 0.039482368974143846), (1534, 0.03947291845879933), (3741, 0.039381386160581205), (3149, 0.03920621955955901), (2902, 0.039129766064513294), (469, 0.03905010258698999), (3942, 0.0387207000685179), (2047, 0.038649953909365715), (419, 0.03864438935668759), (3515, 0.03864390483647079), (1924, 0.03862371190850747), (2098, 0.03862011957128746), (500, 0.03849777896647006), (257, 0.0384216515257894), (2134, 0.0383794263871977), (1764, 0.038349730261783094), (2909, 0.03833861953018357), (266, 0.038284541990679155), (1675, 0.03824991652825918), (357, 0.038178324930032745), (1658, 0.03798805683573939), (3121, 0.03795971339154941), (653, 0.037958478355927756), (4577, 0.0379083924787596), (313, 0.03780826506863897), (600, 0.03775224261287021), (599, 0.03774508761096585), (3925, 0.03773960156628715), (446, 0.03764803538421748), (191, 0.03763654714157948), (403, 0.03749934037768908), (2996, 0.03711016643800801), (2259, 0.03706517980174619), (452, 0.037061460012375744), (4024, 0.03705351421793717), (1259, 0.037025164993092434), (731, 0.03700639591100043), (440, 0.03698156805599497), (3483, 0.03691093940111665), (453, 0.03690911303088821), (1995, 0.036895127664869305), (1536, 0.03688904925183009), (1815, 0.03674487981768523), (939, 0.03659692998861993), (441, 0.036560259920920574), (1629, 0.03651212685870708), (279, 0.036507243005168354), (2528, 0.03650560018751569), (3493, 0.0364880798612652), (1192, 0.036434489288035866), (660, 0.03641563511779624), (2954, 0.036365094177631244), (683, 0.03618958636958527), (783, 0.03614490466149059), (178, 0.036094945805691656), (52, 0.03609138047583116), (1570, 0.03608502756866115), (909, 0.03606339422359205), (416, 0.03599253337517733), (91, 0.03598420796984925), (1997, 0.03594353916871173), (2083, 0.03590806005208479), (4033, 0.03590246698048042), (633, 0.035740205657982325), (2061, 0.035738222148135115), (1865, 0.03573219844021015), (4201, 0.03572573820274594), (2814, 0.03570775816498532), (4200, 0.03570621390058248), (3878, 0.0356066133411345), (2067, 0.03558416248495888), (887, 0.03552444635621201), (1218, 0.035504960296465306), (389, 0.03547212280876649), (48, 0.03532160991496436), (3695, 0.03527780805403369), (1986, 0.03526111760265324), (3759, 0.03513607364101394), (4061, 0.0351346579325542), (2766, 0.03510531889448015), (4517, 0.035072382025959845), (3541, 0.03506770301557137), (1508, 0.034935603292712995), (115, 0.03479818140948222), (1666, 0.03479579244400327), (614, 0.034787418515711946), (4255, 0.034782873931342745), (597, 0.03477609034737211), (246, 0.03474493732248883), (871, 0.03473710548623358), (2682, 0.0347237386133746), (837, 0.0347065678736054), (2155, 0.03462663425753829), (678, 0.03460477142381511), (184, 0.03458682196832946), (2732, 0.03457601248729754), (915, 0.034523759854615456), (1434, 0.03446271412558249), (1284, 0.034432435576992104), (1548, 0.03443096651820418), (1719, 0.03441646202859319), (1798, 0.034413954667361496), (2883, 0.03431082782848983), (1430, 0.034132335123342114), (3456, 0.03408785618180477), (222, 0.03405027040604287), (2753, 0.03399923220136938), (4339, 0.03399710309411241), (3673, 0.033893904968438505), (3139, 0.0336836957617744), (4722, 0.033640105337074164), (1215, 0.03361981107541638), (1312, 0.03360960127031507), (4037, 0.03360555164336022), (4662, 0.033586043337021164), (923, 0.0335724118879843), (2226, 0.03355113243365982), (4539, 0.03347835062494589), (988, 0.03347031042476808), (548, 0.03343455959806742), (237, 0.03338937044690583), (2615, 0.03332815207538716), (2072, 0.03321739477933019), (2392, 0.03310496489065128), (384, 0.03310102743986552), (3980, 0.03301686419435169), (1356, 0.03284009118031651), (803, 0.032730862618943354), (2739, 0.032713517513589155), (1994, 0.03266103802537374), (1306, 0.032652523359701355), (1478, 0.03258866441408843), (1160, 0.03256780514065377), (1060, 0.032535361074451326), (735, 0.0324867639729385), (386, 0.0324808351327661), (451, 0.032391919287561355), (1123, 0.03234343539509545), (4380, 0.03230375391811194), (2590, 0.03223513878720308), (2685, 0.0322144571514662), (676, 0.032157234953646016), (2242, 0.03213441580964904), (3656, 0.03212823368091708), (3194, 0.0321215388282657), (31, 0.03200586043802463), (2250, 0.031987438714246856), (878, 0.03182773891966602), (1514, 0.031754688061465364), (2112, 0.031738823158422136), (1760, 0.031723697048957306), (3939, 0.03168699564586392), (3122, 0.03156017534329855), (183, 0.03146809325703607), (2862, 0.0314264947189613), (2572, 0.03142073500611347), (327, 0.03141127725473528), (3742, 0.031341382196498235), (2011, 0.031200012140453093), (3586, 0.0311427076622412), (732, 0.031120865791935456), (4103, 0.031080115776473696), (2637, 0.031068849403189172), (326, 0.031050517384828953), (1237, 0.030892598248558854), (804, 0.030861003456617325), (800, 0.030840783745786714), (685, 0.03078084558685381), (815, 0.03065418591685995), (2402, 0.030617287996925195), (2236, 0.030599721097966083), (2350, 0.03057142624828891), (4432, 0.03051334970842146), (2672, 0.03048775162924099), (1222, 0.030404269355315285), (2895, 0.03034867411384406), (2339, 0.030314721286060085), (436, 0.030310756730498465), (1496, 0.03022609159699396), (3316, 0.03021318835239186), (2525, 0.030185929950472458), (1755, 0.030123347335478216), (1631, 0.03011595168919283), (3835, 0.030058539151184862), (859, 0.030005056774114528), (104, 0.029997891229383993), (3454, 0.029935090961135537), (2619, 0.029919074567534655), (336, 0.02988723299968647), (1048, 0.02988242234116381), (607, 0.029858838546467936), (3745, 0.02982564490156249), (1121, 0.02980649418545232), (2406, 0.02978202487647614), (2218, 0.02967296636314967), (1691, 0.029671907430012273), (3677, 0.029642719553139314), (2230, 0.029507750893657148), (415, 0.02948091101840257), (3775, 0.029457116816293087), (286, 0.02944381173368431), (2382, 0.029392470892020947), (338, 0.029346568775067604), (4023, 0.029340117245101542), (2571, 0.029293244914960256), (232, 0.02928642076563688), (2036, 0.02928086845013672), (4635, 0.029246410872582417), (2746, 0.02921417341540323), (3643, 0.029213337749280286), (3129, 0.02912784747014661), (854, 0.028935695946106003), (4686, 0.02893151828822027), (699, 0.028926330839906096), (2756, 0.028858908929671162), (2550, 0.028846303815365116), (4428, 0.02879011198811009), (65, 0.028696362795461137), (496, 0.028695234007813424), (4439, 0.028669251810524116), (1592, 0.02866130491962916), (3211, 0.028643888548346375), (4733, 0.028629533914733878), (2303, 0.02859553898676872), (3413, 0.028575936603270367), (780, 0.028508581538733854), (922, 0.028446192710515183), (3644, 0.02843129537863088), (302, 0.02835106252192577), (215, 0.028250842766423583), (36, 0.028249319398135953), (23, 0.02823167032214344), (24, 0.028206339828311024), (1124, 0.02808705489799553), (3706, 0.028040785461460268), (967, 0.027992862278456588), (1399, 0.027979361743909605), (3261, 0.027952869711275006), (4115, 0.027892917513114658), (3116, 0.0278616225238237), (829, 0.027852537795451236), (1039, 0.027821205720628656), (3641, 0.027772138526716904), (4504, 0.027754056210090056), (4069, 0.027752418201671316), (4116, 0.02764224073278885), (1, 0.02761127168417841), (4055, 0.02760215501063648), (2487, 0.027566747887963067), (1087, 0.027454511574392052), (573, 0.02740258674416552), (1308, 0.027349225587638575), (4132, 0.027291355005842854), (2661, 0.02721819225311062), (3183, 0.02720598586513489), (4495, 0.02715758121143096), (1579, 0.027119088163172503), (2010, 0.027096714528102507), (89, 0.02702958074334822), (719, 0.027002220517684868), (1682, 0.02698526727505787), (2959, 0.02696394763880626), (3771, 0.026909786338927752), (3013, 0.026838257529907802), (751, 0.02683205354548385), (1447, 0.026829293371248855), (4575, 0.026826893681147483), (566, 0.026821535338441553), (3509, 0.026819992908667153), (1689, 0.026782018142844186), (2015, 0.026770324717211812), (928, 0.026753867272650805), (4, 0.02675202353874699), (1701, 0.02670278854166693), (372, 0.026690475858865064), (299, 0.026686497877965183), (868, 0.026676913353223166), (830, 0.026652565349954912), (2877, 0.026649308908808164), (1862, 0.026645043451637138), (2175, 0.026641646957010903), (150, 0.026626804117224553), (485, 0.026624712796056937), (4178, 0.026622795302160527), (3737, 0.026565682302454076), (3648, 0.026526410506041945), (2809, 0.026481550190311298), (2522, 0.026478672044452124), (571, 0.026455117208688806), (879, 0.02645201941766423), (3460, 0.026420938694638563), (2319, 0.026339435915845), (3277, 0.026322599690379134), (802, 0.026230513028337725), (2807, 0.026184639038385783), (1247, 0.026166702942317963), (587, 0.026165003379438966), (1828, 0.026161718670093554), (2803, 0.0261476632412931), (2983, 0.026089865562989797), (1086, 0.02606955069047529), (3567, 0.02606085005267394), (1864, 0.026057139996173463), (2241, 0.025995775510637913), (1964, 0.02589448690724426), (1373, 0.025858010659910224), (1698, 0.02580719011160165), (1267, 0.025801988465346502), (3285, 0.02579492770403296), (1988, 0.025776469275528815), (4445, 0.02575837803216703), (1368, 0.02575234411793577), (2765, 0.025669158942018468), (2224, 0.025625077137857732), (955, 0.02561616969057845), (789, 0.02554666066195003), (3360, 0.025543360406015535), (3436, 0.025517585572781276), (2729, 0.02548293852411652), (2949, 0.025420234162748453), (3866, 0.02540498834265), (969, 0.025358429293402353), (2073, 0.025320764354567836), (4320, 0.025290179776134195), (1619, 0.02523607780495427), (484, 0.025223220110316216), (2097, 0.025194804654685748), (2237, 0.02513615451546701), (2710, 0.025001199077862725), (1621, 0.02499509409182742), (1501, 0.024967332112138477), (1442, 0.02490735778758556), (2727, 0.024863830412388477), (737, 0.024858443021003276), (2852, 0.024831287277023405), (328, 0.02479200235416749), (3069, 0.02476000695567009), (4309, 0.024746811357595253), (337, 0.024687957214694523), (3572, 0.024617970827528615), (4340, 0.024606049873155015), (1071, 0.02452252930717825), (377, 0.024512954676869696), (4678, 0.0245015356121678), (3523, 0.02447681878791078), (3409, 0.024439401574025358), (2820, 0.024413149955242658), (2017, 0.024376788498814812), (2582, 0.024367918789155535), (2811, 0.0243501259731876), (631, 0.024348116002150366), (2239, 0.02430070066055683), (1915, 0.024276240733725724), (4285, 0.02425921590468167), (4313, 0.02425692957444173), (148, 0.024220949891049316), (775, 0.02421788186483656), (3163, 0.024202084623487833), (1895, 0.02415083036422861), (2649, 0.02411853495644436), (3566, 0.0240819809655553), (168, 0.024032607978831645), (1042, 0.023996836719489746), (4346, 0.023983160046869192), (3584, 0.023880284297178634), (396, 0.023874797676523493), (1731, 0.023839217659899173), (3803, 0.02379871589355764), (413, 0.023743823250339344), (2387, 0.023739348121071594), (4289, 0.023666436418682085), (322, 0.023606146658938374), (4206, 0.023599482549750417), (2211, 0.023560374205423697), (1354, 0.023548240886989605), (455, 0.02353727449042819), (994, 0.023528787426514212), (3253, 0.023508030695720255), (2609, 0.023508028532998444), (3473, 0.02347952557375401), (348, 0.02344177849737421), (3297, 0.023418788045919407), (1335, 0.02338329001663394), (2654, 0.023364682341998247), (4521, 0.02336037740762597), (231, 0.02331689653846588), (25, 0.023259076964837564), (1173, 0.023200840702979716), (2085, 0.023166803136530748), (3539, 0.023146177459779618), (3042, 0.023134990516147348), (2201, 0.02311157575731109), (2499, 0.023099376308560855), (2597, 0.02304513320175487), (2912, 0.023036727638705512), (3448, 0.022952714339487045), (3631, 0.022921483806997735), (3371, 0.022899708699344445), (3294, 0.022897443477820426), (3487, 0.0228743446443415), (3192, 0.022837216652987588), (1193, 0.0227657441794488), (368, 0.02271139366500817), (1630, 0.02266415525523143), (2655, 0.022627646397730065), (3638, 0.022567768094774045), (2265, 0.02255441701112218), (1273, 0.02253724390881992), (2632, 0.02252388351241162), (608, 0.022520915826171384), (3391, 0.02250998176694549), (3332, 0.02250195024420009), (1967, 0.022492234726001613), (2553, 0.022487307786233493), (2810, 0.022452813140886325), (1605, 0.022445232217495625), (3056, 0.02244328381796003), (2082, 0.02242633978907795), (2210, 0.022408404816504246), (3610, 0.02234691323632302), (4660, 0.02232067038820991), (1419, 0.022262169314169408), (2193, 0.02224019297428096), (1770, 0.02222811015470612), (1227, 0.02221311134172236), (993, 0.02220179902210189), (4119, 0.02217019651828883), (3205, 0.022159520324889003), (1952, 0.022141421876738683), (1464, 0.02212079726912098), (2367, 0.022079463793625284), (3612, 0.022048132666937677), (1830, 0.02201388238538303), (3492, 0.02201258607583529), (1599, 0.021996792981417088), (1792, 0.021993931416584893), (3665, 0.021987255577050478), (4145, 0.021984588356624944), (79, 0.02197098229609355), (136, 0.021970036790986767), (3869, 0.02196129821514919), (3350, 0.021936532492353316), (1052, 0.02192297334500572), (1005, 0.02189527089434044), (4374, 0.021895196658038907), (758, 0.02189421467393676), (1506, 0.021893434423287297), (818, 0.02187255763098246), (1452, 0.02185025070738088), (4142, 0.021829920695308543), (1462, 0.021821676695490844), (2286, 0.02182061287457365), (913, 0.021810435456295935), (1097, 0.021806708471439125), (1547, 0.021797743795049146), (1046, 0.021775366886438892), (1389, 0.02176844470395088), (3181, 0.021736374410399748), (1168, 0.021736139903043485), (3858, 0.02169699599297407), (1133, 0.021678967186255758), (241, 0.021672313668011606), (2920, 0.0216668485338044), (1398, 0.021665345125048325), (230, 0.021654190947913366), (1041, 0.021651532583195205), (1720, 0.02163887655328634), (1807, 0.021618255848810518), (893, 0.02161672326707969), (1965, 0.021592491840078176), (823, 0.021572410743705004), (334, 0.021571125368206538), (2403, 0.02157062217092956), (1718, 0.021552474451234593), (1869, 0.021540443977972206), (1432, 0.021533206112840087), (339, 0.02151773877972121), (1278, 0.021506895296037987), (212, 0.021505161785156435), (2873, 0.0214898335212327), (2478, 0.021484804643442493), (1395, 0.021484600615312887), (718, 0.021463245169798754), (3124, 0.02146232198446826), (1422, 0.021459049967429894), (1126, 0.02145320219792426), (3039, 0.021410659172857515), (2794, 0.021401392677926408), (4442, 0.021377609279968273), (1847, 0.02134334715007833), (4594, 0.021320511851538465), (2641, 0.02130745838935485), (4590, 0.02120459936314778), (2623, 0.02118729752998782), (1771, 0.021181168574181432), (2574, 0.02117800481362402), (1933, 0.021177322343499595), (2787, 0.02114352356765453), (3700, 0.021120659509772224), (2301, 0.021099590362021317), (145, 0.021073827581850297), (2271, 0.021043301802857697), (670, 0.02104248987939023), (812, 0.021024631514117816), (4002, 0.02102131518123017), (4032, 0.021020094560253968), (3267, 0.021008222190934876), (523, 0.020968469982683556), (3466, 0.020932838747142985), (1503, 0.020913252823482546), (3364, 0.02089591369195664), (1769, 0.02089002716848029), (2848, 0.020841699191966594), (2338, 0.020839777709010174), (3703, 0.0208303211349734), (702, 0.02080354502012207), (2505, 0.020784819950305677), (97, 0.020781330554004645), (1992, 0.020773324081653777), (2300, 0.02075824590906634), (3965, 0.020748954065344462), (1019, 0.020719390141002665), (1509, 0.02071286342178356), (3637, 0.02070909907439253), (4587, 0.020706247950735356), (3367, 0.02070470416835083), (2625, 0.020696735039096574), (3026, 0.020677530889239147), (2721, 0.020672424209213728), (2944, 0.020646643796916192), (2742, 0.02064480690330957), (4675, 0.020594466450015954), (2638, 0.02056634803761124), (2177, 0.02053481472164312), (3077, 0.020516962376197868), (3749, 0.020406082428860727), (3911, 0.020402702684804264), (3044, 0.0204007029291589), (2777, 0.02039320464204122), (1757, 0.020364275046235253), (1608, 0.02036002647562442), (807, 0.020355301688337785), (1849, 0.020350781194398516), (4241, 0.020335366096542497), (2146, 0.020331722320682998), (56, 0.0203090354116849), (1716, 0.020300063975883208), (1495, 0.02029385999203201), (288, 0.020284866284282305), (2888, 0.020273252805440154), (1105, 0.02024334742068861), (1314, 0.02022689274440228), (1474, 0.02018638520930105), (4717, 0.020161386498444248), (3368, 0.020074765875975425), (239, 0.02006925361301633), (4531, 0.02006012393336834), (3464, 0.02005270814468386), (1465, 0.019997811049273045), (2104, 0.019987532252361107), (1169, 0.019983435502211017), (733, 0.019957384103746464), (4186, 0.01988758719320121), (3518, 0.019854610088069533), (3314, 0.01984915294594794), (4164, 0.019840944087624914), (1078, 0.019812805784671643), (3018, 0.019759507354945912), (675, 0.019739732295462945), (3516, 0.019686040092180314), (3372, 0.019655673000971912), (1526, 0.019648901971775646), (4507, 0.01961207816636663), (274, 0.01960507096832589), (3400, 0.01959209095454777), (3344, 0.01958914283137677), (918, 0.01958061999639467), (4467, 0.019544269254552254), (4272, 0.019506632221174932), (2616, 0.01950339673490588), (4618, 0.019495866125882395), (2039, 0.01947532739792955), (987, 0.01941194923020589), (1344, 0.01938476407166123), (2629, 0.019382463212602247), (2833, 0.019365417835273756), (584, 0.01936530742782722), (3527, 0.01934605161563345), (1950, 0.01934269566860637), (2964, 0.019342616693354603), (908, 0.01932931057138796), (2359, 0.019324566967931948), (2444, 0.019299933605911184), (4096, 0.019263742838891894), (2048, 0.019262991509180396), (680, 0.019250044775652713), (3575, 0.019220296979355577), (4333, 0.019213162371615602), (3618, 0.019186762440611797), (2167, 0.019167750430985755), (3445, 0.01916703999147702), (4273, 0.01915180761688197), (2386, 0.01913436823639599), (3264, 0.019112885245625766), (4646, 0.01910211352371321), (308, 0.01909335134212235), (1740, 0.019091676247410972), (4607, 0.019074692001929537), (3589, 0.019063118985340397), (3619, 0.019061170565415522), (3079, 0.019051575093037273), (529, 0.019037753919474102), (3654, 0.019036732951568852), (2830, 0.019002972188193353), (2962, 0.01898179497407398), (1297, 0.018936655320025288), (1487, 0.01891221287802794), (4501, 0.018908440795944115), (2541, 0.018869252051439744), (4042, 0.0188585838220102), (4136, 0.018856365343831227), (696, 0.018838163940029233), (3328, 0.018828428178365757), (254, 0.018819696408999827), (588, 0.018809175652375974), (1364, 0.018795248506423074), (2480, 0.018758188787977338), (1692, 0.018720730345614667), (3247, 0.018696366270748815), (1788, 0.018675674660545663), (472, 0.0186349764105434), (3301, 0.018630408223416616), (1008, 0.01861647068343629), (1016, 0.01856861996625806), (3915, 0.01854591697006717), (4674, 0.018525944610719318), (2595, 0.018519602778645623), (568, 0.018500407537554782), (323, 0.018491382639488997), (4228, 0.018489878029816716), (3066, 0.018485964375055827), (1669, 0.018434208525635234), (1871, 0.018427641463196795), (1197, 0.01841996112512466), (2946, 0.018418428162066416), (2730, 0.018407968472010483), (306, 0.01837845489419708), (3711, 0.01837835498326982), (4194, 0.018350202772082554), (561, 0.01830649133374302), (2802, 0.0183004116306996), (569, 0.018276955544842204), (4057, 0.018276322148248064), (4144, 0.018267337798407845), (4503, 0.01825532675765713), (897, 0.018238605247862187), (1840, 0.018227888768474906), (1472, 0.018223690376341795), (3975, 0.018190394990619238), (3564, 0.018171171863849683), (622, 0.018143199641439747), (2565, 0.0181128416850442), (488, 0.018102563442145746), (170, 0.018073304660992093), (651, 0.018068873392624373), (2195, 0.018053216792406422), (2928, 0.01802096599894401), (689, 0.0180016651083807), (646, 0.017997777136776853), (2508, 0.01798308011035338), (1670, 0.017971172833708415), (898, 0.017969204672717922), (45, 0.017957231150843907), (4084, 0.01794507039890161), (262, 0.01793737490965113), (4225, 0.017923689370339908), (1883, 0.017911619579437543), (1054, 0.017866270756889988), (2779, 0.017866095135764214), (2523, 0.0178646856166912), (1229, 0.01782578030712675), (1576, 0.01781019406150106), (512, 0.017806996914016774), (1973, 0.017799084384824537), (1500, 0.017799005488084982), (3036, 0.017793583391472186), (169, 0.0177840753974361), (1914, 0.017782218154175442), (4464, 0.017744635327649354), (3799, 0.017740771696050553), (2910, 0.017710290555808673), (828, 0.01767951924498914), (1319, 0.017673774337287056), (1617, 0.017671251908847316), (3014, 0.017667924999949607), (1653, 0.017651484060017236), (904, 0.01763613095894404), (2698, 0.017635811091849023), (1662, 0.01763451933854648), (4652, 0.017630613933514533), (2988, 0.017610481318763648), (3776, 0.017609847339661335), (2074, 0.0176096426742053), (4395, 0.0176094040009979), (4011, 0.017576661139460683), (3290, 0.017571583768764276), (3384, 0.01756448907129059), (2466, 0.0175353499181675), (4472, 0.017497319926041012), (4533, 0.017474904074782277), (228, 0.017469169000525107), (1463, 0.017452179229596798), (1421, 0.01744992863024215), (2642, 0.017439480167169636), (1597, 0.01743645367509849), (862, 0.017377569504987464), (3500, 0.017363456839920823), (3246, 0.01735272669586419), (1714, 0.01729885523491852), (356, 0.0172656958583887), (1357, 0.017247186862568736), (1722, 0.01724231596022382), (1938, 0.017235438383797656), (511, 0.017231899854815887), (1175, 0.017231669630969827), (225, 0.01723042193084736), (604, 0.017212447841277907), (1375, 0.01720395720417059), (186, 0.01719502765961794), (2892, 0.01718217838387924), (1876, 0.017172674503187543), (1981, 0.017171286982076837), (4435, 0.017156043921262517), (591, 0.017128056288113327), (3341, 0.01712240117954434), (875, 0.01711797096652454), (1742, 0.017114994519565573), (956, 0.017087953274118863), (2510, 0.01707483136360453), (370, 0.017046928512712025), (2023, 0.017045567647136804), (3282, 0.01703527104071602), (2898, 0.01699635395442865), (4056, 0.01698232187206152), (4752, 0.01696256373669339), (2512, 0.016952064822318196), (285, 0.016950171213243822), (4676, 0.016929147933346867), (2552, 0.016923232826094047), (400, 0.016917816975778145), (1161, 0.016894298291270086), (3554, 0.016893694608738286), (534, 0.016863942714441332), (936, 0.01683959514074788), (3342, 0.01680822948639375), (895, 0.016783141308098853), (935, 0.016755531830292415), (98, 0.01671930487692676), (3782, 0.01670624651320629), (2670, 0.01669419915105305), (2213, 0.01668972856527864), (75, 0.016681072762512753), (1114, 0.016672109146246193), (2485, 0.016670109308952647), (1790, 0.016636477938430316), (289, 0.01659149474624599), (1782, 0.01655532605143857), (1482, 0.016538374356049452), (2208, 0.01653047018882389), (957, 0.01652830980342543), (1481, 0.016525859358205407), (3563, 0.01649737204335464), (92, 0.016470340263459123), (4091, 0.01646196954056914), (2247, 0.016458773963226276), (1681, 0.01644839579263421), (2665, 0.016424872819420122), (480, 0.016422784406920774), (620, 0.016399540352889312), (3730, 0.01637773118615341), (1341, 0.01637153236860535), (102, 0.01636808453963284), (162, 0.016360127822743032), (555, 0.01633546126044572), (3424, 0.016319731166926775), (1056, 0.016300653175939275), (4100, 0.01629211882855304), (3986, 0.016286472284682454), (1775, 0.01627425136663769), (4508, 0.01627243655563565), (86, 0.016272043311459178), (157, 0.016261704363826835), (2031, 0.01625573276904396), (3108, 0.016246010084764746), (4586, 0.016240545626583773), (3841, 0.016232638702991357), (2068, 0.016224852010337257), (1255, 0.016223467251727124), (2660, 0.01621057054443367), (4390, 0.01620723403302142), (753, 0.016177472990068997), (3617, 0.016172014060772493), (4659, 0.016167395883507102), (4436, 0.016155375841738227), (4209, 0.016096389049222608), (725, 0.016095540271515513), (4205, 0.016090330181692574), (679, 0.016083612418831394), (307, 0.016015874094620044), (1010, 0.01600304206720773), (902, 0.015999011534464137), (657, 0.015997027849560374), (3438, 0.015994250206949275), (572, 0.015988847031859304), (3972, 0.015984429805736007), (1507, 0.015981378256673843), (2817, 0.01597546161581337), (2283, 0.015965995490991723), (603, 0.01593523773962837), (1031, 0.01592925077312187), (2627, 0.015922900564522502), (477, 0.015911341354586377), (748, 0.01589780243319786), (3206, 0.015893012150804443), (2013, 0.015892823256029413), (2689, 0.015881792193296787), (1586, 0.015866852048822325), (267, 0.015860281730659984), (4613, 0.01586016473922023), (1301, 0.01581387474291169), (1380, 0.015800562872579898), (654, 0.01579059683287957), (4452, 0.015784975514065894), (891, 0.015781632117576803), (3655, 0.01575276310972613), (2790, 0.01575240190382637), (3168, 0.015714574702522265), (457, 0.01567122797263741), (881, 0.015666756424550368), (3870, 0.015662852681836273), (2841, 0.01565700711644204), (4701, 0.015655742823666805), (298, 0.01565039008647734), (2412, 0.01564184679845433), (3378, 0.015633687730159683), (910, 0.015630032117643168), (1047, 0.015609571467055713), (88, 0.015605734813605115), (796, 0.0155379840473106), (2447, 0.015524710030508856), (3930, 0.015510598546428764), (2867, 0.015488403427958576), (128, 0.015482025798426816), (1604, 0.015463609767787073), (149, 0.015454976287604966), (1012, 0.015450495734251654), (2034, 0.015419170609017247), (2493, 0.015402324217463856), (843, 0.015391023515866348), (3200, 0.01537979863606839), (3697, 0.015374535197666855), (1080, 0.01537109937658932), (4376, 0.01536033273059349), (3855, 0.015358877502041804), (3275, 0.015353111406367526), (2626, 0.015316418303929767), (927, 0.01529858748607918), (4097, 0.015282923559625074), (4589, 0.015273470600076073), (3754, 0.015233760913554027), (2968, 0.015232941164841106), (1037, 0.015224351092798552), (1365, 0.015212002772888825), (2320, 0.015169914714481723), (2264, 0.015169241334036186), (703, 0.015166956050283207), (2427, 0.015157481099316817), (1577, 0.015112836728790973), (3430, 0.01506664895442222), (1908, 0.015061670867174755), (347, 0.015032778582534868), (1804, 0.015027521821772064), (938, 0.015017565544190335), (1374, 0.014992878453743813), (1184, 0.014985739563877335), (272, 0.01497757002127267), (1571, 0.014965194262118571), (2046, 0.014963372142945047), (2246, 0.014953896815247555), (1705, 0.014944239033690743), (3774, 0.014944008025876029), (1614, 0.014929535180921627), (1022, 0.01491352530606901), (107, 0.014898178525239954), (439, 0.014893877571494837), (3043, 0.014870290450482871), (2630, 0.0148636749943578), (4015, 0.014860028487767737), (4482, 0.01485950542426954), (2400, 0.014857314750294191), (2503, 0.014856550177402485), (1420, 0.014834725833151808), (1383, 0.014828093914111605), (1217, 0.014823519846888062), (527, 0.014816378401615721), (960, 0.014811168904916431), (3048, 0.014783182106498698), (2337, 0.014775259166202447), (1664, 0.014771408369323658), (1328, 0.014716801577747615), (3783, 0.01471012184347263), (4396, 0.014696464605366243), (84, 0.01466923917967405), (813, 0.014656033855405322), (3968, 0.014655264736133024), (618, 0.014626213689294969), (1734, 0.014622957168616743), (1594, 0.014610116857990947), (3414, 0.014607120757635851), (4593, 0.014606625410668306), (1498, 0.014603754204976366), (2767, 0.014601295965214058), (1627, 0.014595490998329875), (995, 0.014592037905343101), (1588, 0.014581818581944034), (4421, 0.01456810026230729), (797, 0.0145647493515322), (888, 0.014558457186575575), (4466, 0.014531927047730887), (72, 0.01453005133200358), (432, 0.014525646409160509), (3101, 0.014512470903050361), (3127, 0.014512251767857653), (62, 0.014502675131805169), (1340, 0.01450047925582651), (2428, 0.014496507710338481), (3229, 0.014493999657964898), (2771, 0.014488288197873895), (1135, 0.014473145574851794), (1109, 0.014469578857200585), (1210, 0.01444172294207967), (4551, 0.014441387463095482), (2432, 0.014441148175698519), (3538, 0.014433092276203197), (2375, 0.014430985773008151), (223, 0.014426960098503758), (840, 0.014421150922430213), (3428, 0.014417975291236378), (4602, 0.014412148390710389), (757, 0.014389517422437624), (138, 0.014385370356178763), (4601, 0.014377745354801767), (253, 0.014361682061983499), (3924, 0.014344384589296629), (1557, 0.014340311826095686), (1801, 0.014339420757249014), (2234, 0.014333397242839243), (1118, 0.014311879969691436), (1805, 0.014311723276366619), (706, 0.014308103459409346), (3244, 0.014287333672960378), (2398, 0.014285167683522474), (4087, 0.014279604491816264), (3738, 0.01426570240443111), (3234, 0.014263435221178997), (3912, 0.014257767840290316), (2955, 0.014251221936341159), (3642, 0.014244350926475252), (4684, 0.014241595858447734), (4441, 0.014231935709896965), (3712, 0.014191697904956994), (553, 0.014185485508173005), (1991, 0.014157305744662885), (1518, 0.014147301916818903), (2991, 0.014141536218995922), (142, 0.014126814039528835), (714, 0.014120770326342284), (4292, 0.014115777540071352), (791, 0.014111452001638247), (3184, 0.014108804879649404), (1611, 0.014103527742627435), (263, 0.014095860787595286), (1637, 0.014090292064402227), (1106, 0.014071710602248929), (1409, 0.014053003195276725), (312, 0.014052254887991148), (3873, 0.014045904079865928), (4005, 0.014036027960121385), (4383, 0.014004433575565967), (3235, 0.014003286163309606), (2096, 0.014001083398178574), (3006, 0.013998500594832715), (4355, 0.013994079363819863), (3736, 0.013988456871277751), (4175, 0.013987218660676854), (1873, 0.013969503267997806), (2327, 0.013968428485787642), (1709, 0.013963845368952593), (4431, 0.013955259898424367), (3662, 0.013948703025498535), (493, 0.01394684288110823), (3070, 0.01393204415276096), (417, 0.013916381809715364), (193, 0.013888386458921674), (3626, 0.01388718407389685), (74, 0.013878229749959194), (1918, 0.013875102229251368), (2850, 0.013870353938271072), (188, 0.013864589836838014), (22, 0.013856887106378266), (930, 0.0138505099385464), (3388, 0.013840038546760193), (2513, 0.013814788835293718), (1902, 0.013807114974554982), (3420, 0.013791175599733876), (1821, 0.013784305828257067), (1573, 0.013748537227097736), (20, 0.013739614614758039), (562, 0.013732280962636408), (354, 0.013710517641035811), (3382, 0.013706770695761292), (4624, 0.01368352276261654), (2297, 0.013679256175385986), (884, 0.013666597904946527), (2904, 0.013662691029645443), (291, 0.013656258035960794), (1982, 0.01364334884200345), (2749, 0.013635145628095575), (1288, 0.013631602790373768), (774, 0.013610639884225131), (567, 0.01360903537866832), (1584, 0.013603102535452043), (3517, 0.013600934274626927), (4615, 0.013594575891562079), (1607, 0.013590514784800993), (980, 0.013576215622603416), (4534, 0.013573195942403624), (3525, 0.013559284267690444), (4025, 0.013537760387554412), (1379, 0.013518401615846018), (2321, 0.013495817303115578), (1063, 0.013483996682524783), (2917, 0.013448923072252372), (1494, 0.013443098204082786), (214, 0.013431655777864442), (2668, 0.013426592192008787), (577, 0.013418206261354782), (1254, 0.013373857330910857), (1552, 0.013343037486565542), (3085, 0.013332054061172572), (1993, 0.01332455735186026), (1688, 0.013306343171113238), (4450, 0.013280900101643298), (2161, 0.013263096625821641), (3177, 0.01325691229766684), (2396, 0.013255212024099012), (4266, 0.013254956737385904), (741, 0.013251434687977022), (2798, 0.013250991588937753), (3210, 0.01324995954490576), (848, 0.013247508720558094), (1413, 0.013243297582219109), (820, 0.013234222364643233), (2826, 0.013205966471190336), (545, 0.013161191854095372), (182, 0.013153188070041733), (226, 0.013134024371508212), (2492, 0.013130804598647287), (1139, 0.013126469684088364), (1163, 0.013112673270386387), (1191, 0.013100598081543288), (1090, 0.01306781146139055), (749, 0.013056978557134996), (1304, 0.013053470102514926), (1483, 0.013033939332961614), (4000, 0.013029358661124936), (1831, 0.012988048563681392), (3748, 0.01296278754259704), (532, 0.012959015244307068), (4325, 0.012944372948740967), (7, 0.012940759564003205), (3173, 0.012936353356421846), (1562, 0.012926510469908621), (234, 0.012894284802672908), (3993, 0.012894072311834693), (973, 0.012856198256641815), (727, 0.012820525928655315), (1296, 0.012818844429770276), (779, 0.012806782811080646), (119, 0.012802383485778814), (1408, 0.012793366759069901), (127, 0.012790244332192299), (4525, 0.012779662006816406), (1017, 0.012767762077750247), (3365, 0.01276485405897266), (2125, 0.012763690817875388), (1802, 0.01276070901363439), (329, 0.012742770667316904), (2461, 0.01273629915892726), (76, 0.01272596019269285), (1030, 0.012715360343879952), (3765, 0.012675711685686302), (2422, 0.0126668178313784), (4192, 0.01263623371822422), (3890, 0.0126245087153892), (723, 0.012609620319361917), (1919, 0.012590873507943967), (3696, 0.012584280927122545), (3010, 0.012583282534939772), (3844, 0.012552409539072001), (64, 0.012548065808263953), (4658, 0.012545208569267875), (2656, 0.012537859259997479), (3390, 0.012515663744507004), (1033, 0.012507930316609595), (984, 0.01249487384952818), (3713, 0.01249124292217168), (2789, 0.012453320886216432), (798, 0.01245279571887434), (1001, 0.012436827751831091), (1002, 0.0124331583455561), (221, 0.01240691264106274), (2118, 0.012405817644909889), (962, 0.012373399700985329), (3458, 0.012341652534357064), (4399, 0.012332372979186428), (1372, 0.012322202891646743), (57, 0.012284635653788971), (659, 0.012235910620074595), (4356, 0.012216433432163946), (1780, 0.012208792293572421), (3232, 0.012201732997737028), (463, 0.012173902400029874), (1519, 0.012147093663200504), (15, 0.012116041462444547), (1650, 0.012100219826084491), (4488, 0.012099070058984914), (73, 0.012082186971333363), (1477, 0.012035987244741154), (4620, 0.012002012440029556), (1796, 0.011985220807089822), (524, 0.011970945291438698), (759, 0.011959779588812853), (1680, 0.01192990981366868), (294, 0.01192903711356971), (124, 0.011915332754306854), (4018, 0.011894775007965637), (3304, 0.011894320892448795), (2377, 0.011893021527251246), (1827, 0.011878487427543216), (1639, 0.011814386522831745), (2931, 0.011804006518469214), (2976, 0.01176714094990922), (3027, 0.011742392143174636), (2285, 0.011741887395534627), (1414, 0.011718775389689792), (3327, 0.011704620869988417), (1466, 0.011677393764577477), (594, 0.011663539431842968), (2376, 0.011626427709428047), (2724, 0.01159542959487429), (3345, 0.01159319621979826), (1199, 0.01158770130006654), (421, 0.011586937282729423), (4247, 0.011545387139498393), (4747, 0.011528185372570585), (2240, 0.011527342149803003), (1553, 0.011516636408707526), (4679, 0.011472257083378979), (2975, 0.011464171316129755), (2439, 0.011457813062600297), (3921, 0.011442635252068241), (1136, 0.011439977268898992), (3403, 0.011432504913129554), (366, 0.01138094883391707), (242, 0.011373047926168486), (4150, 0.011370651829752804), (874, 0.011253256763703394), (3238, 0.01122985936446946), (3698, 0.011219965622614897), (2799, 0.011211376587770001), (1069, 0.011207345296660513), (1050, 0.011190735252775386), (1332, 0.011160565341448034), (2384, 0.011156226076665892), (4344, 0.011154595565988032), (2981, 0.011147162285698356), (4463, 0.01111871619051521), (4078, 0.011115033718064661), (2157, 0.01104541606850145), (4181, 0.01104140219286534), (1554, 0.011028665018322585), (3347, 0.011025080436280145), (3453, 0.011017694765182528), (1786, 0.011016934729070737), (3207, 0.011007770908185912), (1091, 0.01096629211125866), (2951, 0.010939962819845743), (977, 0.010926292101847927), (982, 0.0109236726618011), (1829, 0.010903465435154103), (1265, 0.010886903099433786), (2287, 0.010886758619560837), (2985, 0.010884434363997088), (1799, 0.01087602844570024), (2221, 0.010848261252055957), (635, 0.010841614407322134), (4595, 0.010838915704190308), (3240, 0.010825813346879265), (4656, 0.010801517715917931), (3468, 0.010795710714037367), (1305, 0.010787872913745902), (1724, 0.01078550000523354), (6, 0.01077747308300411), (4332, 0.010773350037628972), (1679, 0.01075948070146423), (2673, 0.01075393813814132), (3254, 0.010740437606936952), (2588, 0.0107293467354228), (3751, 0.010725401705644169), (2509, 0.010723475441740352), (3834, 0.01071774610158661), (4118, 0.010708541478886217), (2252, 0.010699285473652469), (341, 0.010692227023183308), (3317, 0.01068794190975628), (1659, 0.010676883748868556), (3109, 0.010668231394455625), (412, 0.010660803317111021), (17, 0.0106406160606909), (2441, 0.010637065139017859), (1812, 0.010607887653559874), (3875, 0.010606397542904634), (4444, 0.010589614635321022), (691, 0.010546584815387658), (1835, 0.010510183007735017), (1271, 0.010509773172447348), (4265, 0.010509294819347714), (297, 0.010505699684030603), (418, 0.010503743343222125), (55, 0.010466627243461398), (1276, 0.01040926846960711), (2645, 0.01040374275832135), (1396, 0.010384831401338316), (1949, 0.010384756061396648), (309, 0.010378920645641145), (2106, 0.010355146046819069), (2456, 0.010338622536520205), (1244, 0.010332276852343683), (3398, 0.010330900796072934), (1208, 0.01030639040489786), (3226, 0.010303666942401448), (3907, 0.010302570616351404), (788, 0.010286106279473569), (809, 0.01028369940701695), (118, 0.01027801778998817), (3743, 0.010274844531200436), (4088, 0.010265329536787625), (4168, 0.010244685706061882), (3265, 0.010233553024035731), (2290, 0.010221885307638595), (159, 0.010212906572585405), (219, 0.010191777556899633), (3152, 0.010182899302341578), (2551, 0.010177888927899122), (811, 0.010155424254112965), (3908, 0.010148731797333773), (1111, 0.010147562962243664), (768, 0.010130316101793211), (1945, 0.010092968190910004), (4612, 0.01006383501882313), (4184, 0.01005780609591357), (4242, 0.010042988059209675), (2834, 0.010029277456948583), (1522, 0.01002765164114181), (4736, 0.010010825400189844), (3188, 0.01000551251178413), (3577, 0.00999050485926775), (39, 0.009970997897445981), (4182, 0.00996593134942899), (2793, 0.00995957238414811), (2839, 0.009937407435497725), (785, 0.009936122735774227), (1129, 0.00993398755851099), (4070, 0.009932066211245599), (2280, 0.009922774546760736), (135, 0.009921697972994357), (82, 0.009902379015732952), (2568, 0.009887020840327786), (1517, 0.009886580352357358), (460, 0.009884081014851089), (259, 0.009873379423366711), (3602, 0.009849252487145117), (3228, 0.009810547412665451), (1329, 0.009799299847270484), (3073, 0.00979751325926028), (3773, 0.00979707539160755), (4062, 0.009791412189546551), (2498, 0.009781438911687748), (1459, 0.009774555565828298), (2677, 0.009759732060245574), (1648, 0.009744940624572752), (2763, 0.009697859869778482), (2095, 0.009674076204417872), (3156, 0.009647812769982408), (4682, 0.009635628827492157), (1996, 0.009624803094602173), (3490, 0.009619316712125323), (2062, 0.009615325533230573), (93, 0.009594109978147622), (1113, 0.009586274365621468), (1810, 0.009576719706438848), (1668, 0.009561072862111934), (3824, 0.009560556603884593), (1067, 0.009553771752660013), (4459, 0.009553267200068468), (3881, 0.009552511427750552), (310, 0.009540790809710929), (2738, 0.009539989330864756), (713, 0.009536669261370595), (1825, 0.009498985331684962), (3970, 0.009497522292287635), (53, 0.00949194436742811), (2720, 0.00947465466231033), (3899, 0.009474272244359327), (1700, 0.009463830276011416), (1256, 0.00945782302099543), (1412, 0.009451765676175599), (4477, 0.009444441265465517), (3951, 0.00943265013674013), (929, 0.00941318462968873), (1818, 0.009410132590408416), (1787, 0.009405264156840695), (1029, 0.009397030869737998), (3450, 0.009388759102524739), (2205, 0.009376281449477547), (763, 0.009374799654315497), (4203, 0.009370555855341151), (3788, 0.00936343820593371), (648, 0.009361390271333325), (3100, 0.009356878412124892), (2699, 0.009345151200220128), (1307, 0.009344960200055092), (2160, 0.009344230591976874), (3136, 0.009342529928852893), (3230, 0.009332901572397943), (3732, 0.00933238246589492), (448, 0.00933094832870441), (1451, 0.009327605690662426), (2215, 0.009320817909556453), (3426, 0.009318152675265453), (710, 0.00930574873799407), (4305, 0.0093056490393157), (508, 0.009295236710275889), (2119, 0.009292349846468354), (4568, 0.00928169602715899), (2560, 0.009278149199505337), (4328, 0.009276720838785148), (847, 0.009270202847243192), (1746, 0.009267759802896944), (2093, 0.009264194819566635), (770, 0.009252012057784684), (3651, 0.009247792059167538), (4664, 0.009245387933676082), (2071, 0.00923817770074601), (4165, 0.009237444744966199), (3395, 0.009202002658910805), (1291, 0.009198367548535022), (2110, 0.009190661807984505), (1823, 0.009187699494525931), (243, 0.009186988315260512), (2207, 0.009170593428329387), (540, 0.009164954713334818), (3960, 0.009164760976816514), (1887, 0.009161110053303709), (1974, 0.00915425697029838), (122, 0.00914754020729721), (824, 0.009147358968236312), (1066, 0.009145780190652545), (2135, 0.009134647975682274), (1987, 0.009115280744356946), (1236, 0.009109692435338355), (2791, 0.00910706876475361), (1270, 0.009103671304722996), (2740, 0.009102079205506965), (4368, 0.00909815097964791), (3421, 0.009087807221712952), (3945, 0.00908190529082594), (3822, 0.0090769267330366), (1858, 0.009045625089846918), (2436, 0.009035234781353204), (1134, 0.00902918802866039), (701, 0.009023997059083862), (330, 0.009016423630742629), (2840, 0.009016238619864673), (997, 0.009008887373210255), (4366, 0.009006700951216274), (3857, 0.008978876841838384), (2854, 0.00897807654005415), (3825, 0.00896577965654806), (4290, 0.008962560046780269), (2058, 0.008961222644213236), (2005, 0.008929158248612084), (3397, 0.008911789238898071), (1817, 0.008911626291191334), (4106, 0.008890416841825888), (1095, 0.008874378124384326), (1733, 0.008863793760127612), (3201, 0.008851275826346495), (123, 0.00884453307903598), (1043, 0.008834158419899584), (2145, 0.008819266260628332), (4732, 0.008817289879681623), (4110, 0.008813224561167803), (740, 0.008812047307216131), (2037, 0.008809932055852517), (4013, 0.00880132480720064), (3160, 0.00879878820345421), (4553, 0.008758796338394584), (4596, 0.008752226972735939), (192, 0.008743422825469305), (3271, 0.008734770875331943), (277, 0.008728856110682094), (3392, 0.00872810157277943), (2494, 0.008715698298498204), (1907, 0.00870163324860028), (2539, 0.008695640568538802), (3914, 0.00869239121973387), (4269, 0.008671190625192898), (1140, 0.008655752587632806), (4038, 0.008642491691342461), (2940, 0.008640519609909018), (2712, 0.008637365221985535), (3780, 0.008631488439351477), (3218, 0.008618383289406875), (762, 0.008607321880844438), (692, 0.008582654438013529), (1951, 0.008576948821249965), (2168, 0.00857177214690483), (1687, 0.008571217995144974), (2418, 0.008569002392170202), (3667, 0.008565087701627285), (2792, 0.008564577482364088), (202, 0.008562482770260508), (2755, 0.008548139436592182), (2610, 0.008543343371040197), (3777, 0.00854130472514993), (483, 0.008535376607213091), (1893, 0.008526433332299119), (3405, 0.008513752956505694), (1643, 0.008487058237773824), (2633, 0.00848689527059655), (1402, 0.008476984265396975), (1300, 0.008470051090255042), (4363, 0.008466828206975686), (177, 0.008465350739224987), (2640, 0.008458390827530223), (3150, 0.008458061727766052), (3806, 0.008450524290911593), (211, 0.00844981705891535), (1781, 0.008449284700880168), (1660, 0.008446433794467896), (1006, 0.008445731663339352), (3599, 0.008440706836752548), (3752, 0.008436223826773007), (890, 0.0084310981673625), (717, 0.008430277802878408), (2531, 0.008424997025654753), (1851, 0.008416143727120635), (2546, 0.00841558897569528), (2911, 0.00841342444708857), (3778, 0.008397028143856653), (551, 0.008395599889341543), (4262, 0.00839277405085247), (2016, 0.008392222242752188), (3536, 0.008387908937340066), (4379, 0.008375808512123372), (3920, 0.008373449594504588), (3959, 0.008372906869377566), (3689, 0.008361674366011597), (2053, 0.008346098486228363), (1957, 0.00834253844674758), (2126, 0.00833694064876126), (1214, 0.008326690303888589), (2334, 0.008320653938891047), (3233, 0.008316504707625207), (640, 0.00831314334858183), (1768, 0.008311503362126427), (726, 0.008303217604545807), (3701, 0.008287620614440334), (3222, 0.00827950016104163), (3526, 0.008273102941728925), (4189, 0.008269043535417929), (2784, 0.008262790769185326), (1077, 0.008258736079508899), (4283, 0.008240392794984699), (3283, 0.008234167358736295), (850, 0.008229817903409428), (3303, 0.008226598927517405), (1137, 0.008224217378047499), (832, 0.008219693235242128), (2045, 0.008215614409885818), (4068, 0.008212768951171326), (2318, 0.008199114820726687), (4135, 0.008198678354711886), (538, 0.008191395450207625), (3386, 0.008191081604985282), (738, 0.008180518601957875), (3739, 0.0081728897383897), (295, 0.00816893925440344), (864, 0.00816863164522756), (1510, 0.008161107448603414), (4137, 0.008158217224181967), (1574, 0.008157843985001764), (209, 0.008157245550242987), (2109, 0.008148911568159365), (319, 0.008136519950589482), (2169, 0.008136270403093332), (504, 0.008132869789195198), (4604, 0.008127680717402734), (3125, 0.008123945073985357), (1223, 0.008115282687590295), (4541, 0.008109805615736734), (1170, 0.008093097692631645), (4330, 0.00808852313500702), (2524, 0.008071595206617467), (3174, 0.008062432748780539), (3330, 0.008056484318016938), (2324, 0.008048194584473435), (4511, 0.008040451391166983), (1678, 0.008037828388852395), (2534, 0.008035976853059741), (3299, 0.008032928966804083), (346, 0.00803280311231185), (3374, 0.008022748491027718), (4394, 0.008021871812292247), (105, 0.008017450440994636), (3477, 0.008016081316573824), (894, 0.008008074444779283), (3435, 0.008005441772173882), (1059, 0.008002163347224669), (1453, 0.007989873357374687), (1411, 0.00798836380033325), (3237, 0.007984643057616023), (787, 0.007981775673255002), (2416, 0.007967409395952193), (4685, 0.007936696021447658), (4284, 0.00793192337887625), (3260, 0.007931511415192827), (3046, 0.007928777394877157), (3557, 0.007927399696562592), (870, 0.007904699366033385), (4687, 0.007904525861611219), (3447, 0.007899371629952148), (2029, 0.007892379610414139), (3412, 0.007884220130503786), (4387, 0.007882514592525171), (2103, 0.00787162276641635), (1035, 0.007853420239259758), (292, 0.007843236165807777), (4550, 0.007836965102851468), (2808, 0.007833261121955324), (1467, 0.007812043021824223), (3028, 0.007811967113944045), (1645, 0.007809638193231824), (2612, 0.007807447978486894), (2268, 0.007807374732527336), (3917, 0.007776416341259331), (3826, 0.007771768300059552), (2131, 0.007765826404795419), (18, 0.0077516642350473315), (1446, 0.007746901936134354), (3504, 0.007743050810595545), (3868, 0.00773502993125847), (4523, 0.007733229551827826), (2143, 0.0077290753190522345), (4155, 0.007723005651841665), (1877, 0.007714105963941549), (4152, 0.007712805045332287), (3151, 0.0077005974906730855), (29, 0.007698301312453289), (3784, 0.007694636089654337), (3574, 0.00769325392392872), (2706, 0.0076854466889961), (1132, 0.007682763671965354), (644, 0.007679468222233777), (2859, 0.007664223673341), (2388, 0.007658202376563813), (1710, 0.007657655207232808), (3293, 0.007651482508495272), (4124, 0.0076492769458540825), (3646, 0.0076439667773968364), (408, 0.007643059622956298), (1404, 0.007641546204260207), (3819, 0.007632832805753909), (966, 0.00763273935199186), (388, 0.007631467245181814), (2812, 0.00761854616942228), (4257, 0.007615373489482767), (3223, 0.0076075819514318235), (2899, 0.007599300755896045), (742, 0.007598954218600877), (507, 0.007590663829555821), (3407, 0.007589234190209066), (3057, 0.007583634980701489), (3071, 0.007571926559567227), (4059, 0.007559900804928786), (1620, 0.0075590158932229085), (1206, 0.007557051081177649), (3399, 0.007552602416818648), (4634, 0.007543278584573563), (1555, 0.007525626432444253), (410, 0.007520894520807867), (866, 0.0075152440162308785), (2446, 0.007508397211115391), (1456, 0.007503489262672462), (1642, 0.007481868235517525), (2317, 0.007479890691543735), (2562, 0.007476743234564169), (3854, 0.007475672189066438), (4402, 0.007475036793462952), (899, 0.00745196531611459), (324, 0.007450903211080308), (590, 0.007450742496053784), (4174, 0.007440680783308352), (669, 0.007438203856578264), (3389, 0.007434931592601028), (4348, 0.007434244150141934), (907, 0.00743415032073119), (4176, 0.00743336037774478), (4649, 0.007424039212708998), (1875, 0.007423540981865196), (3306, 0.007411275404935207), (3144, 0.007393835771829387), (1360, 0.007357421246023399), (2671, 0.007357264175807514), (2055, 0.007326753032364491), (1595, 0.007315792204373143), (3311, 0.007312665870008821), (1220, 0.007296355928141016), (3336, 0.00727624823372928), (1000, 0.007271083331053422), (722, 0.0072638166273311724), (885, 0.007250983448888715), (1808, 0.007250002474678934), (3111, 0.007235345010413261), (1762, 0.00721176874520005), (1539, 0.007208419555633382), (1392, 0.007187492540984843), (2587, 0.007173979048322413), (1394, 0.007162263638009481), (495, 0.0071500051985783145), (33, 0.00714420743471645), (166, 0.007139439011287569), (0, 0.007136304069748529), (2555, 0.007093386858470886), (3894, 0.0070898559501418055), (4156, 0.00708627029991862), (4007, 0.00706000508226506), (924, 0.007041555374389207), (4473, 0.007040649125442588), (4748, 0.007001300431344074), (2942, 0.006995278313008701), (2761, 0.00695662597374116), (2818, 0.006952960022528585), (3393, 0.006952691013054953), (2611, 0.0069353591554263214), (60, 0.0069152862987202895), (1565, 0.0069099119883386205), (3376, 0.0069031665322454566), (3579, 0.006900351836228959), (1743, 0.006881030365160724), (1352, 0.006866868964902992), (2933, 0.006865217416483339), (3142, 0.00686474562606098), (1971, 0.0068519960953272105), (3668, 0.0068424790852245915), (1845, 0.006836215472775669), (175, 0.006826177550810543), (2076, 0.006818051241136765), (547, 0.006815708641535579), (195, 0.006794875648198539), (2603, 0.006789589601851097), (2127, 0.006786480787567332), (3821, 0.006779618541167319), (3750, 0.006773773794763036), (2614, 0.00677310197286083), (3928, 0.00675268389508739), (2481, 0.006732091843544775), (3927, 0.006728719833715684), (844, 0.006723426687930116), (2969, 0.006704789679920861), (442, 0.006703046547358042), (2563, 0.006685859721830779), (3957, 0.006663239992050492), (1369, 0.0066165259826719055), (2526, 0.006614276234293667), (156, 0.006567105729464045), (2547, 0.006538284446156845), (1377, 0.006521127425966374), (3410, 0.0065052749928671445), (510, 0.0064618647615655896), (3145, 0.006450584286078876), (1144, 0.006445117056234786), (3362, 0.006401363758855834), (4739, 0.00636008091330972), (4288, 0.0063463001547074014), (2440, 0.00633489039627104), (3578, 0.006266921180603598), (3199, 0.006260203287306395), (948, 0.006251690809975308), (2581, 0.006204513930740738), (4271, 0.006143734611033394), (2363, 0.006135863025270456), (2636, 0.006069182025095925), (3983, 0.00605627048521748), (1277, 0.00604526726119543), (4719, 0.0060406089998778474), (3546, 0.00603129491359495), (3502, 0.006009715461682903), (2351, 0.00592646048903406), (4524, 0.005925038033264922), (1343, 0.005902356843780728), (153, 0.00583558726558707), (4449, 0.005825797062555022), (2032, 0.005818296880870763), (491, 0.005804540715390548), (4031, 0.0058041416769714135), (3137, 0.005789517306976026), (3172, 0.005781397999925431), (3312, 0.005766882382535802), (3932, 0.005753309918087559), (293, 0.005747952450711762), (1758, 0.00574144473398682), (4281, 0.005738528739346734), (4454, 0.005728169348898323), (4171, 0.005713294731452085), (2012, 0.005709994202752057), (380, 0.005703951484318637), (1381, 0.005697763903288981), (2785, 0.005684788572043589), (2486, 0.005668852587218739), (2079, 0.005667981909242657), (4121, 0.005647164454266297), (424, 0.005637563569148996), (425, 0.005632672355737967), (4460, 0.005628106996981001), (681, 0.005621263736818787), (4462, 0.005610953940084809), (2470, 0.005607719059284613), (1011, 0.005607339032583743), (2532, 0.005605298223027669), (2518, 0.005605136911678934), (666, 0.005587157980749865), (3325, 0.005572385763726836), (3469, 0.005560312378680092), (250, 0.0055559275134531485), (3221, 0.005553279339258536), (747, 0.005535611041928955), (4120, 0.005534455009264155), (4515, 0.00552502056870376), (3817, 0.005523239430648615), (3681, 0.005511849448859512), (4064, 0.00550799920996515), (4549, 0.005507977074292631), (1725, 0.0054890762975696875), (3444, 0.005473044622212157), (1486, 0.0054680218203943904), (2233, 0.005448743907329441), (1583, 0.0054396302921005946), (2458, 0.005410845577763612), (704, 0.005368675597798594), (1640, 0.0053626540646975335), (4151, 0.005358691053180426), (1150, 0.00535531753082642), (1390, 0.0053417912999785995), (420, 0.005339005605381018), (4492, 0.005333684270715357), (1520, 0.005329960673722755), (2263, 0.0053288853361379215), (4351, 0.005324578277322296), (3131, 0.0053120229393436415), (2443, 0.005309125673144049), (1282, 0.005308105928443007), (2963, 0.005301381569134293), (3457, 0.005293307292550171), (3461, 0.0052924932745365425), (10, 0.005291212559045092), (2086, 0.005288128626386026), (392, 0.005274140968811832), (361, 0.005270555810781333), (2147, 0.005270145912378426), (2719, 0.005269128993028802), (3724, 0.005264654825063164), (3897, 0.005264251842324269), (1426, 0.005260370851682729), (1436, 0.005253440358849654), (301, 0.00525215678374138), (4406, 0.005251811894964031), (2330, 0.005249609047989688), (765, 0.005247443497269021), (3103, 0.005245910711667441), (3259, 0.0052363051970923035), (1859, 0.005235494681951817), (4695, 0.005232666874147752), (1578, 0.0052293850587856105), (781, 0.0052289229832158295), (1104, 0.00522602004776524), (344, 0.005222041496766205), (3969, 0.005216031529516954), (1336, 0.005213370939470713), (2675, 0.005204899494700229), (4621, 0.005188393036935287), (201, 0.005180264038130034), (1613, 0.00516449898595942), (1841, 0.005164102192371066), (1702, 0.005160547828989214), (1155, 0.005149617067207317), (3507, 0.00514706903752749), (1195, 0.005146711753635706), (2511, 0.005146484052953579), (4486, 0.0051464221515957025), (615, 0.005143284868546565), (189, 0.00514158565115877), (2816, 0.005137404107876816), (3549, 0.005134917097140799), (2222, 0.005128500350624373), (3463, 0.00512182355721551), (1636, 0.0051157071983008885), (1961, 0.005114982894885202), (137, 0.005111859444452657), (971, 0.005110638285880052), (2431, 0.005110110225951211), (778, 0.005109709137141442), (4388, 0.005105937313493276), (3722, 0.005104962968484485), (3446, 0.005099140955096881), (1726, 0.005095030741753961), (1525, 0.005090741088113912), (1564, 0.0050851137330642044), (1431, 0.0050842031125159755), (2678, 0.005079458709775017), (110, 0.005074467856750098), (3552, 0.005072564134093952), (1266, 0.005065503679211967), (1704, 0.005061256758613457), (3810, 0.005059376551454358), (2421, 0.005058866680883164), (2788, 0.005054800493471568), (1322, 0.005054348573086612), (1587, 0.005054067079784028), (1425, 0.005050970838500686), (919, 0.005045713084081648), (28, 0.005041126630383581), (2278, 0.005037109764265255), (4210, 0.005036145843472604), (83, 0.005031422164856527), (3650, 0.005030964307557458), (131, 0.005030360326520627), (945, 0.005027491679753262), (1751, 0.0050234721315995465), (1461, 0.0050206747803927575), (611, 0.005010956020658708), (736, 0.004998411009138102), (1515, 0.004997471393543467), (4755, 0.004995241774998501), (1346, 0.004993484561023402), (2501, 0.00498899969232093), (2299, 0.0049874510362219885), (560, 0.004980135074684705), (2813, 0.004975707851026893), (2198, 0.004974578999628057), (3926, 0.004973097479125492), (264, 0.0049719529593271975), (4099, 0.004963807821973741), (3033, 0.00496230541141944), (4006, 0.004962194546038537), (931, 0.004961691383731603), (305, 0.004960300562212926), (3343, 0.004960097240530604), (4571, 0.004955996471437774), (3955, 0.004954858207014782), (1262, 0.00495188484727859), (4592, 0.00494974414097315), (3594, 0.004945503852527543), (525, 0.004938536657043149), (610, 0.004936589703116689), (3270, 0.004932834975638334), (1238, 0.004931272633989741), (3178, 0.004931140464814037), (3963, 0.0049279527852144865), (3818, 0.004923889940833124), (1852, 0.004896256031359992), (1857, 0.004887966966616871), (3746, 0.0048876896383291705), (2128, 0.004882496710048253), (1551, 0.004879915788364513), (1888, 0.0048773910838086085), (2329, 0.0048700650621534315), (4157, 0.004865560505308296), (1130, 0.004865284854450005), (2713, 0.00486405931892807), (4218, 0.004856686517091651), (2504, 0.004847713859152047), (4112, 0.004846421477927262), (3709, 0.00483938109728819), (2322, 0.004836526636366425), (2178, 0.004829464980345747), (3994, 0.004825054580408897), (790, 0.004812353163276644), (345, 0.004812143976050788), (773, 0.004803147555185809), (1146, 0.0048007804084309845), (2003, 0.0047967814110617315), (1347, 0.0047958060094828), (2245, 0.004795647414569368), (4217, 0.00479556909151768), (3011, 0.004794539083735102), (3720, 0.004791463724454456), (1493, 0.004786823947238544), (2056, 0.004784578117194788), (3512, 0.004782554993035581), (3562, 0.004782485147370087), (4564, 0.004780719661940975), (521, 0.004780419561489902), (4252, 0.004777102072728809), (585, 0.004776387364282879), (179, 0.004772480800167162), (3886, 0.004768344990843857), (486, 0.004768110459334482), (3053, 0.004764736940493755), (3786, 0.004763991197793553), (427, 0.004762456016793774), (3568, 0.0047617256451601905), (1632, 0.0047604916135449964), (4438, 0.004760160953332694), (2829, 0.004756980756892637), (4279, 0.004748042108971602), (4481, 0.004743905132765241), (2897, 0.0047425275897513405), (284, 0.004735132841356097), (498, 0.004733478117001255), (2409, 0.004728889776571815), (3465, 0.004716068487812072), (1274, 0.004715294004929045), (2631, 0.00471513093869693), (1738, 0.004713518781826418), (171, 0.004713064682811977), (260, 0.004709371178122053), (3276, 0.004708098121686215), (3891, 0.004701929329736454), (4555, 0.004700628187960362), (3361, 0.004700088965254819), (2094, 0.004698483169760633), (4012, 0.004686015518408138), (2998, 0.0046822752750915065), (1756, 0.004682136320532113), (2311, 0.004670604173005656), (1824, 0.00466713072121774), (3133, 0.004666895379502618), (3193, 0.0046641093601142835), (3320, 0.004663341456068273), (1723, 0.0046610411168254645), (2139, 0.004659939968519154), (661, 0.004657730188557653), (4548, 0.004654324252979538), (2938, 0.004648119739343579), (974, 0.004647984299987035), (1903, 0.004644619125527406), (426, 0.004644069284233836), (810, 0.00463886154921051), (492, 0.004635631069354096), (3909, 0.004632420329504872), (3966, 0.004630656001601957), (2992, 0.004629515235440794), (1778, 0.004624690780036214), (3280, 0.0046226001958666755), (690, 0.004619578767403122), (3083, 0.0046155771333558256), (2874, 0.004608182995376763), (454, 0.004608084287286754), (549, 0.004606657440119962), (240, 0.004595724214401563), (9, 0.004594743340940757), (3321, 0.0045940007531173116), (978, 0.004592492435439526), (1068, 0.004591740380295047), (335, 0.004590167143596016), (4009, 0.004587693927660514), (2497, 0.004585649019377198), (2491, 0.0045777624138838725), (4342, 0.004575323516336874), (409, 0.004571197586487243), (2666, 0.004564288149316208), (1984, 0.0045634848701932), (94, 0.004559586983703623), (411, 0.004557323555430794), (1157, 0.004555656409947363), (80, 0.00454938836373475), (1524, 0.0045473245281030025), (821, 0.004547239886323903), (4600, 0.004543783985499756), (14, 0.0045433665812068405), (776, 0.004531708712466089), (1568, 0.0045309640875122546), (4689, 0.004530582964675092), (2529, 0.004527421123070037), (1990, 0.004523506531398018), (3295, 0.004518440349344672), (352, 0.004512699964948512), (3459, 0.004511602577892332), (1784, 0.004508561388707879), (1935, 0.004506852163577057), (2379, 0.00450115309543602), (583, 0.004501152778015054), (1626, 0.004498910099791061), (1171, 0.004497580641858845), (2490, 0.0044953083468098134), (4109, 0.00449257516228681), (4647, 0.004489759432023842), (1809, 0.004487218045556741), (2937, 0.004478605088953569), (1816, 0.004475709401528269), (2262, 0.004473124979753764), (2514, 0.004460753698843987), (4705, 0.004459212294014092), (664, 0.004450686997263392), (3051, 0.004448906796620315), (3231, 0.0044462203052363335), (2764, 0.004443461763936371), (2768, 0.004433485072295915), (3672, 0.004431883777774772), (2929, 0.0044282758034297695), (3865, 0.004427943307799924), (1025, 0.0044245748281116935), (2156, 0.00442118529998865), (2858, 0.004420734915980421), (1384, 0.004419011267798691), (497, 0.00441840675181707), (4082, 0.004405987616721347), (882, 0.0044012548582720214), (1468, 0.0044010215718316105), (3598, 0.004395243712246807), (2722, 0.004378395629258415), (2189, 0.0043781042221397335), (2906, 0.004371238183279581), (4202, 0.004361106882863962), (756, 0.004359941782425362), (3411, 0.00435614515346532), (3040, 0.0043555954180910066), (2608, 0.004348768662169109), (2989, 0.004345910099643477), (2805, 0.004341773996358747), (2251, 0.004339536647867507), (1018, 0.004329716347300743), (3166, 0.00432627794536274), (3852, 0.004326230545331065), (2349, 0.0043183899503941294), (1145, 0.004312837318738506), (4353, 0.004311848439498283), (2407, 0.004311277240256407), (3684, 0.0043090233440100075), (1772, 0.004308551054884423), (3990, 0.004304974116129958), (1559, 0.004297110973198466), (2889, 0.004293482138353461), (2842, 0.004292774668847148), (1521, 0.0042882035108966305), (1850, 0.004282556400645143), (2537, 0.004278516272390113), (3119, 0.0042758306433645045), (1546, 0.004271381030722194), (4617, 0.00426566859706337), (4158, 0.0042631973620682094), (4704, 0.004260793840636839), (2, 0.0042603051915136225), (3052, 0.004260087251918978), (2801, 0.004259204083698753), (3055, 0.004244022583021061), (2404, 0.004242139015125494), (2020, 0.004235214843439516), (3731, 0.004234273608778228), (2775, 0.004234093342921124), (1120, 0.004233095175033202), (4017, 0.004232380721223287), (2870, 0.004228041327882241), (3561, 0.004227981189019893), (3030, 0.004225165457869683), (627, 0.004223243674077329), (3635, 0.004216772418188397), (2622, 0.004212471877429235), (2855, 0.004210531697962348), (2204, 0.004208963372740395), (947, 0.0042071735343642315), (3164, 0.004204664396952378), (2923, 0.004202297119096551), (970, 0.004194971562379042), (1910, 0.004194532814467079), (639, 0.004192636196411368), (3291, 0.004191255967573776), (3674, 0.004191184857420459), (2731, 0.004186521892484498), (4749, 0.004185669144913711), (4222, 0.004182886404338591), (4529, 0.004181802058842596), (1279, 0.0041803218759054045), (3481, 0.004178717111579003), (78, 0.004173605314063736), (3658, 0.004172225972405491), (2296, 0.0041708627745851105), (2484, 0.004170176689084584), (2310, 0.004170045166445932), (4221, 0.004169961119664133), (575, 0.004165283029516306), (3479, 0.004165207904483756), (58, 0.004163191025917083), (4484, 0.004158370913286285), (4611, 0.0041572225094831375), (2694, 0.0041545418288425695), (2861, 0.004134030206121044), (3484, 0.0041291315660581815), (1221, 0.004127881840743939), (2932, 0.004123682089656896), (4172, 0.004123230430004651), (2559, 0.004099999115314894), (4418, 0.0040962249441475465), (2832, 0.00409308383565995), (2075, 0.004086689054196778), (4696, 0.0040860094810172476), (2628, 0.004082897301659849), (3076, 0.00408176392497904), (4407, 0.004079595603193775), (3219, 0.004075923605478919), (2448, 0.004073189085524528), (3292, 0.0040714630867947285), (1530, 0.004066151960292722), (3762, 0.00406327346044924), (381, 0.004055285408633794), (3892, 0.00405445514419483), (4423, 0.0040443496649533615), (4019, 0.004043101590632963), (2425, 0.004042202146972874), (2643, 0.004033679682102176), (4546, 0.004031497281325459), (2255, 0.0040238997658456795), (1695, 0.004018766572112728), (2257, 0.004015523538920798), (3322, 0.004014057965681469), (889, 0.0040139164868187955), (3262, 0.0040131078615296524), (2901, 0.004004380151553313), (3944, 0.004002335868255893), (4230, 0.0039962614075012), (2154, 0.003994979863898436), (2838, 0.003985877564641997), (4400, 0.003975890862578275), (2774, 0.003967529556795728), (2530, 0.003964090946783756), (4102, 0.003960045930919276), (3848, 0.0039569091129820705), (3015, 0.003952239951568753), (2078, 0.003948793651949226), (4606, 0.003948514024711095), (2734, 0.003946295817661266), (2306, 0.003946006053178611), (3828, 0.003944461863605372), (4710, 0.0039423569163631374), (2795, 0.003938759321932916), (3239, 0.003932204537955498), (3128, 0.003931554270504926), (2423, 0.0039305805291634304), (668, 0.003928096618591723), (3354, 0.0039267289805949845), (3140, 0.003925119123508885), (526, 0.003921959690603892), (1711, 0.003911165785156758), (3249, 0.0039008422830794495), (2326, 0.003898759324011629), (4469, 0.003896859971043343), (3687, 0.003895532241110505), (4692, 0.003893230734671147), (4544, 0.0038907702339153805), (3363, 0.0038897600716155992), (3537, 0.003868514818006612), (2557, 0.003868141858225182), (2438, 0.003863212784745298), (3159, 0.0038601020459895405), (4306, 0.0038559582133403897), (4107, 0.0038511777134003456), (3922, 0.0038501950780790504), (2857, 0.0038499245001993223), (3613, 0.0038469510378770417), (4724, 0.003844681884573321), (3521, 0.00384233184168583), (3004, 0.003841523065720447), (2266, 0.003840356821268356), (3999, 0.003840345061209935), (4572, 0.003827798943239244), (3074, 0.0038265474155203955), (4298, 0.0038263060918838176), (4443, 0.0038207160852499625), (2797, 0.003817494499553887), (3154, 0.003817355941935714), (3874, 0.003813901079579254), (4723, 0.003813372071506542), (2488, 0.0038116335423940867), (3031, 0.0038098969973203935), (3832, 0.0038075193032337893), (2188, 0.0038063604621520497), (3123, 0.0038042870346446855), (402, 0.003802122298681552), (3302, 0.003800086728305455), (369, 0.0037999291201321196), (2879, 0.0037983305324465924), (3620, 0.0037978563638446754), (4147, 0.0037976597768829283), (3544, 0.0037964952395570695), (2459, 0.003796205415431211), (1655, 0.0037938847922203423), (2966, 0.003791487316831491), (3358, 0.0037864575098147304), (3020, 0.003786308800857977), (1593, 0.0037797135781787354), (1064, 0.003778648249659982), (2778, 0.003771289085810502), (3779, 0.0037661707384836424), (2454, 0.003766157781141161), (4414, 0.003762952052974569), (2993, 0.0037618821696617766), (3901, 0.0037613895224844576), (3257, 0.003758114282318736), (1264, 0.0037569436787936814), (1429, 0.003749461559108344), (777, 0.003748564161393673), (3356, 0.0037448531791612616), (4373, 0.0037376841079188234), (489, 0.0037309799531230993), (2434, 0.0037285822021061463), (4458, 0.0037197674134023667), (3766, 0.0037193815443390087), (3675, 0.0037178581577643273), (4554, 0.003707427743121455), (4637, 0.003700882721156188), (4490, 0.0036987724754744566), (1049, 0.0036982940916677936), (2772, 0.0036945679333103562), (3308, 0.0036924116554965616), (4735, 0.0036906882904359233), (2986, 0.003689168026590322), (2769, 0.003681319111944153), (431, 0.0036781903260160167), (4632, 0.0036770028392198867), (3935, 0.0036751512895674427), (2613, 0.003674319923417325), (4416, 0.0036712454752375365), (3081, 0.0036705144055186986), (2378, 0.003670469359835242), (3621, 0.0036700299193606874), (3524, 0.003669552741832394), (1053, 0.0036684276508119717), (4584, 0.0036667158356522758), (2089, 0.003664840557868294), (4694, 0.0036646122375655617), (1187, 0.0036644044574782927), (2707, 0.003660516926317055), (1885, 0.0036544075386167256), (4412, 0.003653525837240148), (2417, 0.0036517643005836236), (4030, 0.003650556319504973), (2846, 0.0036494308349159467), (937, 0.003643885892789991), (4075, 0.0036392436278560067), (3540, 0.003637699496594333), (2142, 0.003637523275500645), (3019, 0.0036307852552219322), (3359, 0.003629677898526464), (4126, 0.0036292753604257573), (2696, 0.00362559477930074), (3072, 0.0036249907071495583), (3307, 0.0036229058900125724), (1947, 0.003620622096924263), (2269, 0.0036198344089612604), (2924, 0.0036171118461689063), (4163, 0.0036159949527126145), (3729, 0.0036145219761217857), (3425, 0.0036138483332792647), (860, 0.0036136747118935618), (4713, 0.003610479401371405), (443, 0.003607423725450227), (3408, 0.003606767385409549), (4398, 0.003603955546259262), (2987, 0.0036006435791938246), (2884, 0.003600399363216927), (3419, 0.0035993046792827154), (1275, 0.003598747235889521), (3396, 0.0035974851983942586), (4650, 0.0035943347218571112), (2872, 0.0035901447341954197), (4369, 0.003588224214464352), (3355, 0.0035881857651555117), (925, 0.0035862072988941526), (3165, 0.0035822903004626505), (2187, 0.003579527066667631), (3952, 0.003576700453642523), (4516, 0.003576437908280982), (4465, 0.0035744878744599458), (721, 0.0035735924003440327), (4244, 0.0035730684398013243), (3639, 0.0035694837348399597), (2796, 0.0035692840576985758), (3423, 0.003568716307227509), (985, 0.0035677855502437173), (2702, 0.003564676469685448), (4295, 0.0035609532294354944), (876, 0.0035599497786733035), (1497, 0.0035594998242072058), (739, 0.003558942115362852), (4753, 0.0035564045449858746), (3883, 0.0035551792811209294), (4243, 0.0035506184678927273), (3772, 0.0035492937243557653), (3296, 0.0035473288381760257), (2223, 0.0035462085401634486), (2346, 0.003546156242783315), (3611, 0.003543765719032325), (2051, 0.0035435672247599954), (3867, 0.003543080240546108), (2302, 0.0035425172250714188), (2437, 0.0035400979417831873), (1909, 0.003540059632118126), (4187, 0.0035388940120240865), (1843, 0.003537484985861024), (2893, 0.003536893217500392), (3186, 0.0035364059455297377), (998, 0.003535680401285893), (999, 0.00353278669330076), (2881, 0.0035323512009498587), (2411, 0.0035316421597594693), (3148, 0.0035312602556579627), (4731, 0.003531247194060825), (2936, 0.00353061467830737), (478, 0.003529792854033084), (4092, 0.003529534387032157), (2914, 0.003527263602153977), (3680, 0.0035268618259616706), (3992, 0.003525528272296626), (1148, 0.0035214395864317924), (235, 0.0035203171933581557), (4699, 0.003518993873025534), (576, 0.0035158843405036226), (3274, 0.003514133391947975), (3373, 0.003510382054006537), (533, 0.003507973603722572), (1023, 0.0035058529658664544), (1489, 0.003504592232935765), (3560, 0.0035043680405534563), (3962, 0.003502839032962319), (2974, 0.0035016802474214324), (4718, 0.003497941721804814), (2903, 0.0034976294555999336), (3196, 0.003497376880243944), (4160, 0.003496870978879718), (3012, 0.0034967530657008623), (2579, 0.003495968387751365), (596, 0.0034945706037789945), (2916, 0.0034935097263327705), (1499, 0.0034913711315961993), (3032, 0.003491059643296913), (4535, 0.0034908856506986486), (3146, 0.00348863807903175), (2356, 0.0034865776598371886), (4401, 0.0034846447413191903), (3593, 0.003481625961122267), (4293, 0.003480307172644233), (458, 0.00348008176971803), (4051, 0.0034795912726381987), (3804, 0.003479161418448419), (3248, 0.0034783718501392295), (729, 0.003477920273546288), (444, 0.0034751296530818), (3273, 0.0034722698461648405), (2209, 0.0034722461715359634), (2782, 0.003471843691294415), (3157, 0.003471496332683476), (4397, 0.0034711027731904273), (41, 0.003470459608705998), (4706, 0.003465060631226165), (3003, 0.003464695404267891), (4605, 0.003464414411608047), (4259, 0.003464373666809099), (4113, 0.0034641851509957786), (1923, 0.003463828274405781), (2108, 0.0034617368086585936), (1890, 0.0034607590997542993), (3062, 0.0034577985011518073), (4138, 0.00345707294409313), (2535, 0.003456821625457033), (688, 0.0034550198068866063), (1960, 0.003453214677320768), (2592, 0.0034528183234817556), (3797, 0.003451354519503334), (3967, 0.003447811536335137), (2040, 0.003445644489963755), (857, 0.0034441387083011927), (2176, 0.0034430081570832427), (3961, 0.0034424956808831713), (715, 0.0034416760995542263), (1580, 0.0034415828177876123), (2890, 0.003441559505741276), (4619, 0.0034411854740234366), (3097, 0.00343913154640216), (2049, 0.0034384113807493424), (4263, 0.0034351818466676082), (3417, 0.00343510080777269), (1454, 0.0034257001186716782), (476, 0.0034236324222453743), (450, 0.003422327947008532), (2410, 0.0034215220425020897), (4446, 0.0034213783064756757), (1479, 0.003420765739773171), (2464, 0.0034205961236859045), (4308, 0.0034203110323720214), (4046, 0.0034191529354558113), (2390, 0.003419094762415322), (4048, 0.0034143750708749473), (2624, 0.0034127457424741126), (3714, 0.003409056245483052), (4130, 0.0034089333190234212), (318, 0.0034084306681940618), (4140, 0.003407757715368411), (3497, 0.0034077214976137656), (896, 0.0034071657380344814), (673, 0.003403531297131667), (3813, 0.0034030369716822138), (1243, 0.003401854110542413), (4133, 0.003400808897424746), (1905, 0.003400315895347289), (2293, 0.0033996621807859226), (4522, 0.0033988942113240238), (4669, 0.0033968950316131184), (350, 0.003395418265636706), (499, 0.003394191998438494), (3064, 0.0033937332815845147), (2915, 0.0033917101071453577), (2748, 0.0033915374705299145), (3258, 0.0033914666527205713), (2214, 0.003391104728849088), (2882, 0.0033891856611786226), (2507, 0.0033880528693029624), (8, 0.003387170749461963), (3889, 0.0033824915970271413), (1897, 0.003381643885427175), (1325, 0.0033805129647195846), (2705, 0.0033770799169484528), (3694, 0.0033753621873477816), (4545, 0.0033751324305544153), (1959, 0.0033737693930068844), (3269, 0.003373741297832), (952, 0.0033714898593798425), (1015, 0.003371439394649711), (1874, 0.0033706278193192103), (794, 0.0033705853689788437), (4734, 0.0033705642789518524), (3704, 0.003370444565819502), (3449, 0.003370265006715409), (2477, 0.0033697279841796123), (3893, 0.0033693407996165945), (2116, 0.0033661702288361366), (3757, 0.0033643937625620246), (728, 0.003363933669145572), (2190, 0.0033618795417503164), (4579, 0.0033617801170917564), (210, 0.003361386243940123), (2776, 0.003359122562331292), (3692, 0.0033581328202139937), (1848, 0.0033574616971297857), (4161, 0.00335531506060502), (4657, 0.003354380260741646), (2475, 0.00335409649517155), (3112, 0.0033537823657741996), (1359, 0.0033514129971654746), (4540, 0.003351251951224703), (1708, 0.003349848923652709), (2162, 0.003349315235818895), (3095, 0.0033484356346467495), (991, 0.003347905474486977), (3496, 0.0033478363148601556), (2254, 0.003346873575280198), (395, 0.003346258663933021), (2723, 0.003344945962369607), (4371, 0.0033445581254646496), (3781, 0.00334175382141515), (2786, 0.003339988697637289), (4574, 0.0033394682962152463), (872, 0.0033389572573153245), (4111, 0.003338838088602902), (1683, 0.0033375017292360007), (2260, 0.003336416841926788), (3904, 0.003335987909919128), (21, 0.0033353023189919805), (3728, 0.0033351530422135365), (4680, 0.0033347062465802057), (1712, 0.0033337843083688055), (1141, 0.0033330768883255394), (3007, 0.0033319474029845824), (2391, 0.0033311477399697283), (1119, 0.0033299403375338502), (2393, 0.0033284131162620695), (4231, 0.003327029367033391), (1324, 0.003326942842518591), (826, 0.003326274975871223), (3601, 0.0033262525652250677), (2151, 0.00332532705791981), (2664, 0.0033250597198982365), (4357, 0.003324618220409937), (2970, 0.003324405497519041), (2105, 0.0033211629526614683), (3973, 0.0033206712419332706), (1779, 0.003320580267434981), (1572, 0.0033186436079732065), (3434, 0.003318089014642875), (1339, 0.003315132462257687), (3590, 0.003313046777600714), (612, 0.003311413777018339), (208, 0.003311216077220005), (2821, 0.003311044015262572), (206, 0.0033084709376862186), (2361, 0.0033082135939843443), (3084, 0.003307933088033636), (4489, 0.0033078801844236153), (68, 0.003307749027383721), (4471, 0.003307381345985272), (4054, 0.003307121893365227), (456, 0.003304426887905857), (3326, 0.0033033236433997614), (4505, 0.003301342273572581), (1853, 0.0033013089689959744), (2953, 0.003301281004256803), (2714, 0.0033008384944877857), (1685, 0.0032998397357407415), (1484, 0.0032991665767967623), (2288, 0.0032989763938522103), (2196, 0.003298221258746962), (4286, 0.003297518058553952), (2849, 0.003297269955768575), (4052, 0.00329629913946199), (4318, 0.003295700271784548), (4123, 0.0032931519751273823), (1822, 0.0032923726167957477), (3037, 0.003292168568888297), (3406, 0.0032915402664346646), (470, 0.003289449497678532), (4420, 0.0032887250074594182), (1400, 0.003287661529982252), (1916, 0.003286676703338715), (2394, 0.0032863903385908755), (1075, 0.0032855373307308774), (2385, 0.003284980917662726), (4474, 0.003283946038559475), (1007, 0.0032834213654885885), (3511, 0.0032830639200999794), (3882, 0.0032825081968886434), (3187, 0.0032821049389615588), (51, 0.003281444411273241), (3984, 0.0032800588961045), (2419, 0.003276718794730884), (4757, 0.003275296375089035), (3242, 0.0032745129715822012), (1188, 0.0032735988796505923), (716, 0.0032705889958969973), (173, 0.0032687635540384423), (429, 0.003268686659716773), (2088, 0.003267687503999132), (564, 0.0032675080408977792), (255, 0.0032660012569866908), (1439, 0.0032656074455030336), (4430, 0.0032654590083762685), (4497, 0.003265335387325678), (845, 0.0032651954093362396), (502, 0.0032651366738231267), (3437, 0.0032650730807626486), (1736, 0.003265045156871555), (4354, 0.0032626975419158327), (270, 0.003261862148245638), (2926, 0.0032617875940448506), (3770, 0.0032614861430467473), (580, 0.0032591201516582752), (3862, 0.003257359885800901), (4083, 0.0032561633544203905), (3514, 0.0032560213408810703), (482, 0.00325541227867134), (3351, 0.0032551353537841046), (2561, 0.003253872583113998), (3845, 0.0032531602129549585), (2601, 0.0032526890078679095), (4419, 0.0032514524591087733), (2545, 0.0032494058567165644), (2370, 0.0032493541745877525), (1513, 0.0032489622482658647), (543, 0.003248371372589346), (1983, 0.003248276009701897), (4089, 0.0032474640998472284), (34, 0.003245426053331771), (3902, 0.0032451320617755937), (1083, 0.0032450812017093), (4361, 0.003244887372974054), (2405, 0.0032438451751440277), (1727, 0.0032427983209775166), (3353, 0.00324251306321045), (2650, 0.0032404472678098932), (447, 0.003238570087833161), (4625, 0.0032383905757731703), (3666, 0.0032383879267195615), (4756, 0.003237296760348775), (3349, 0.0032357950312216295), (4079, 0.0032331843927972145), (2148, 0.0032327167267915406), (2744, 0.0032324031193032483), (637, 0.0032297532878942463), (2123, 0.0032282570123220796), (1703, 0.0032269908642858698), (1765, 0.003225760464147355), (4334, 0.00322354300159359), (4422, 0.003223059074535135), (4287, 0.0032222080851119763), (3198, 0.0032219413300558124), (606, 0.003220644947811881), (1382, 0.0032192754889952073), (806, 0.0032186259033837473), (4249, 0.0032180497546240934), (3623, 0.0032174036141179156), (120, 0.0032166019791740005), (2863, 0.0032158211191851607), (4470, 0.003215548909346771), (3636, 0.0032141490745650975), (1717, 0.003212118625441917), (1516, 0.0032120323895739006), (3153, 0.0032116472577894584), (4643, 0.003208194921867736), (743, 0.003204950536560165), (1946, 0.0032049462267093724), (176, 0.003204794528447536), (865, 0.0032024776312697873), (3016, 0.0032018327998809405), (1334, 0.003201713668042517), (509, 0.0031984892203459074), (4563, 0.0031982013758010486), (4098, 0.0031970064968857917), (3289, 0.003196327822554109), (3225, 0.0031960804880189534), (3809, 0.0031955246723689283), (71, 0.0031952044935508266), (1355, 0.003193908447583706), (3000, 0.0031933389084897548), (3542, 0.0031910956070425466), (652, 0.0031901515439720497), (3571, 0.0031892535469292007), (1174, 0.003188448357078191), (1936, 0.00318764529740141), (1931, 0.0031866296875186074), (3699, 0.003185625903409266), (933, 0.0031852549777600945), (1176, 0.0031836700060608337), (1337, 0.003182851978669795), (1182, 0.0031821190130763254), (593, 0.003181174339689713), (3113, 0.003181113524637415), (238, 0.0031810533489645978), (3606, 0.003180032715995579), (4197, 0.003179542215418692), (3653, 0.0031792976035286535), (2489, 0.003178459744784141), (750, 0.003177454165249937), (3182, 0.003177157723876678), (2292, 0.0031765729757316273), (3707, 0.0031743270585535745), (1942, 0.003173147792495096), (2397, 0.003172013284782442), (3792, 0.0031717634510045932), (3501, 0.0031703328728545418), (2295, 0.003168482910872189), (1440, 0.0031670442061098275), (2313, 0.0031665245377395157), (4049, 0.003165342144399268), (544, 0.003165027120451386), (1204, 0.003164427955261119), (4004, 0.0031629890001061488), (2091, 0.0031623062481164464), (579, 0.003161625142860491), (2887, 0.003160255824607888), (1476, 0.00315986068207197), (4014, 0.003155697405687552), (1138, 0.0031549809170056224), (1872, 0.0031545147412392486), (2652, 0.0031530934196289918), (4677, 0.00315236363558586), (4391, 0.0031519493341381744), (3335, 0.00315126000374118), (636, 0.0031498364913841942), (1922, 0.0031484475060947177), (1706, 0.003147301918004037), (2554, 0.0031463664060616355), (2144, 0.0031460004499838604), (3670, 0.003145559492577508), (3227, 0.0031447423818833134), (628, 0.0031445406498464513), (1232, 0.0031429549509010687), (2934, 0.003141619120113041), (2192, 0.00314089639339868), (2606, 0.003140435913807375), (3155, 0.0031402308640319085), (2783, 0.0031387671690480184), (2533, 0.0031369033660628726), (4081, 0.003136158188565447), (2284, 0.0031357236049767874), (378, 0.003132253310205046), (697, 0.0031319336539286677), (172, 0.0031287852858183115), (5, 0.0031281756116451503), (4715, 0.0031269420187190478), (1488, 0.0031267373990807165), (2340, 0.003126622077932639), (2344, 0.003125378564182016), (4640, 0.0031246637568951587), (1385, 0.0031228182155004953), (2695, 0.0031227430972923026), (2831, 0.003122479025906422), (2354, 0.003122005208276537), (114, 0.003121862066742826), (761, 0.003119358901498269), (2558, 0.0031193064043257192), (3478, 0.003118902964838291), (2495, 0.0031186199811234568), (986, 0.003116514920954788), (1378, 0.003116246823539828), (4427, 0.0031153951776453632), (479, 0.003115212904846066), (2212, 0.0031121344083854183), (3346, 0.00311060478808659), (4016, 0.0031103088694240198), (2943, 0.0031076863182050527), (1021, 0.003106679978764688), (1112, 0.0031064249848940465), (4268, 0.003106299368459714), (1612, 0.003105768951639118), (3216, 0.0031036821845095374), (2853, 0.003103269134115382), (3807, 0.003102542521197222), (1298, 0.003101616703742028), (2999, 0.003101210114688215), (4409, 0.003100445326000392), (4060, 0.0030986773730592733), (2289, 0.003097298016361809), (1102, 0.0030954417185067758), (1811, 0.0030938143470903507), (3441, 0.0030932789386802725), (3727, 0.0030923571860954806), (1891, 0.0030918340258908857), (2174, 0.0030914984930424114), (1634, 0.0030912029143987563), (3553, 0.0030911104350677308), (1252, 0.0030900866939998412), (3624, 0.003089994622494927), (1072, 0.0030891205291603756), (1438, 0.003088769435302029), (4520, 0.0030875061593834212), (2060, 0.003087225810727986), (3565, 0.003086685042581298), (3596, 0.0030866700622204308), (3888, 0.003085986308096969), (247, 0.003083808211900558), (466, 0.0030834831563307285), (464, 0.0030828756988961433), (2569, 0.003081841645802354), (3381, 0.003081653723824745), (3067, 0.0030811307996193187), (174, 0.0030806881625553653), (61, 0.00307922859937883), (1598, 0.0030788014858261726), (1550, 0.003075438257536661), (880, 0.003074109060205616), (867, 0.0030738126493386406), (1313, 0.003073380889412683), (4668, 0.003073159524683695), (4487, 0.0030727718823421223), (2173, 0.0030712196617589805), (2961, 0.0030699875709782496), (3093, 0.003069430546262012), (3195, 0.0030692896091660234), (3906, 0.0030686063365154104), (3647, 0.003068592309356255), (2687, 0.003068500333150941), (989, 0.003067668515185774), (1100, 0.0030672779232762295), (4349, 0.003066845769124956), (1110, 0.003065674458978273), (2069, 0.003064367468115693), (3499, 0.0030639643737556464), (1026, 0.0030604920964674037), (4020, 0.00305977827293021), (2980, 0.00305884217622494), (3827, 0.0030580044461464414), (3379, 0.0030577913081272006), (1286, 0.0030576083025711308), (2216, 0.0030566852261229545), (1882, 0.0030558516129422265), (4362, 0.003053879231619918), (2945, 0.003053002894654266), (1527, 0.003052376019920351), (2087, 0.003050499511905691), (4530, 0.003050258325010743), (3220, 0.003048206349679898), (4036, 0.0030474418649285755), (4641, 0.003046786200190991), (4299, 0.0030447009222248963), (3719, 0.0030442169030810403), (4743, 0.0030431692849133066), (799, 0.0030404477225415253), (3402, 0.0030392989282134308), (2279, 0.0030388849468488536), (1350, 0.0030380766297266946), (693, 0.003035598147988392), (1096, 0.0030342575963096634), (358, 0.0030333460032224585), (2008, 0.003033108436245841), (2401, 0.003031149890786068), (755, 0.0030310298713157537), (4693, 0.003029606529439375), (959, 0.0030293957078658504), (3075, 0.0030290860775877403), (1813, 0.003027969905320135), (522, 0.0030275120931322216), (3370, 0.0030274140175253605), (4183, 0.003025026712082657), (349, 0.0030249343924968223), (4381, 0.003023647473826627), (4573, 0.003023507427814764), (4673, 0.0030207962000510366), (1261, 0.0030197130040759785), (1671, 0.0030196210610125914), (4129, 0.0030188724081331945), (3348, 0.0030183411190780767), (817, 0.003018209580299199), (541, 0.003016757903308031), (4382, 0.0030158621387512984), (2080, 0.003013413665790145), (3298, 0.003012777029166882), (4139, 0.0030117803853457097), (87, 0.0030108184342049725), (2653, 0.003009692393868188), (19, 0.0030091881966334594), (2467, 0.003009115903692622), (3660, 0.0030076594475486012), (2716, 0.0030041837126943134), (4461, 0.003002524280418609), (3352, 0.00299930694919505), (3900, 0.0029991046437834235), (1248, 0.0029965972996247), (1117, 0.00299618230847751), (4729, 0.002995864239202657), (1582, 0.002994269759608059), (1020, 0.002992234035188593), (2117, 0.0029916863704510747), (3503, 0.0029907139054719837), (4670, 0.0029875988290949313), (1034, 0.002986828351574786), (2024, 0.002986639619511174), (487, 0.0029856515245692172), (2752, 0.0029830712399585937), (1027, 0.0029823888934372633), (2141, 0.0029810890839492127), (4567, 0.0029808545454233478), (1416, 0.002980457787558414), (3498, 0.0029799759336262706), (4536, 0.0029797710021729974), (3315, 0.0029794246429135796), (2309, 0.0029793391001536828), (4614, 0.0029790997956703554), (1854, 0.002977816887926147), (3214, 0.0029775805452008407), (3268, 0.002976776535758198), (2886, 0.002975600709124845), (1744, 0.0029753646458888804), (3978, 0.002974867532530259), (1929, 0.002973313507880254), (3733, 0.0029704544216799045), (2473, 0.002970338665767834), (4321, 0.002969325503195794), (2121, 0.002969236834214334), (3035, 0.0029691641594807214), (4085, 0.0029684854940281663), (3691, 0.0029677739530874106), (164, 0.0029677547288328916), (3170, 0.0029671287152275828), (3171, 0.0029668259152652444), (4213, 0.0029657314510818534), (505, 0.00296289063746112), (2965, 0.0029627233993709005), (1878, 0.0029613643618133663), (3898, 0.002959720679384027), (437, 0.0029594035236036806), (2995, 0.002955934838720782), (373, 0.0029558448212565155), (4246, 0.0029530650297517774), (2679, 0.0029513109160531842), (203, 0.0029510849447429667), (698, 0.002950865496736274), (2651, 0.0029508437653931055), (2598, 0.0029508157531602914), (434, 0.0029506324326627714), (2133, 0.0029500227439331673), (2997, 0.002947932941349572), (325, 0.002947252921172919), (1759, 0.00294691801417378), (2800, 0.002946674664553835), (1032, 0.002945817806204411), (197, 0.0029448929695835902), (116, 0.0029436260490727922), (578, 0.0029435984529171478), (3954, 0.0029435499449329415), (126, 0.0029426994755465162), (3734, 0.0029416615366461025), (1036, 0.0029415814840399097), (276, 0.0029407717827656444), (3811, 0.0029402234214291525), (2972, 0.002939864733815205), (1663, 0.002938226774070388), (1177, 0.002938008776189927), (2348, 0.002937744739556692), (2166, 0.002937321909821462), (3615, 0.0029370331553953697), (3433, 0.002936729551918954), (694, 0.0029329226490822295), (2004, 0.002931361197928757), (3300, 0.0029309737489237606), (236, 0.0029296277406795153), (4254, 0.0029284975145719896), (1203, 0.0029283799519838416), (1693, 0.002928377481256924), (154, 0.002927580278965006), (886, 0.002923984227074728), (903, 0.0029235531281772142), (3941, 0.0029227290728740542), (140, 0.002921559834717113), (941, 0.002921155800757914), (3243, 0.0029211445614624435), (1665, 0.002920249349327799), (975, 0.0029197645119849224), (2496, 0.002916713046080904), (900, 0.002916119940595416), (2099, 0.002915165673445343), (1884, 0.0029151345473369446), (2149, 0.0029141307700784156), (471, 0.0029125983238791364), (655, 0.002912513064373012), (4603, 0.0029093038554294723), (3452, 0.0029083065558067984), (229, 0.0029077256591733096), (944, 0.0029058128191405738), (1819, 0.0029056865993056023), (3725, 0.002904059144476636), (3147, 0.002903525640861175), (213, 0.0029028253521907023), (921, 0.0029027054624778123), (1433, 0.002901635184225078), (4591, 0.0029007423201264982), (838, 0.0029001357429744214), (1558, 0.0028992594481969335), (3829, 0.002899199318640463), (1183, 0.0028949567202661702), (2907, 0.002892576614657276), (1641, 0.002892216257398371), (2556, 0.0028920248255137333), (2129, 0.0028899881746590793), (399, 0.0028899834258684885), (3120, 0.0028875499015200323), (766, 0.00288583556365061), (3627, 0.0028857724296393146), (2868, 0.002885556002047146), (1920, 0.0028837729048265385), (1448, 0.002881881815998946), (4616, 0.002881094167775429), (2735, 0.002879674133472672), (3558, 0.0028794051270302017), (3913, 0.0028793614442597054), (2399, 0.002878984240113915), (2593, 0.0028775545929002042), (3369, 0.0028768770915393233), (3839, 0.0028767700003281584), (558, 0.00287598968240329), (355, 0.002875918599509987), (638, 0.002874566007081863), (1667, 0.002874397382387931), (1543, 0.0028734839972934345), (4479, 0.0028725440551912464), (1814, 0.0028717315750675675), (2674, 0.0028710219110177145), (2845, 0.0028706679058179336), (1079, 0.0028681163887428842), (2347, 0.002867103483889308), (2453, 0.0028665386723475046), (121, 0.0028665285268448153), (3767, 0.002865024621472687), (3455, 0.0028637544686089434), (3876, 0.002862941955331097), (359, 0.0028622284935099695), (2362, 0.0028589835137276982), (3050, 0.0028574937995330565), (4277, 0.0028567689603242797), (1672, 0.0028551626206310757), (1628, 0.0028537745560584175), (624, 0.0028527722337505254), (3329, 0.0028513134710104943), (863, 0.0028509300570665557), (1065, 0.002850656508825704), (4502, 0.002848574900237422), (4359, 0.0028474585515036897), (218, 0.002847407588096433), (465, 0.0028474058774587262), (4638, 0.002845061427187933), (199, 0.0028438568902815087), (2728, 0.0028389026277197485), (3953, 0.0028377552317985512), (3278, 0.002835961956976185), (3474, 0.00283403855237296), (1528, 0.002832837107550287), (1892, 0.0028321000384243277), (1538, 0.0028309907511537558), (3418, 0.0028304387352820547), (4053, 0.002830062964851145), (968, 0.0028252569237387274), (3614, 0.0028230338258300896), (3705, 0.0028222386558042654), (473, 0.002821690375186249), (1826, 0.002820299247662149), (4154, 0.0028182742587298747), (1387, 0.0028155595227153576), (2323, 0.002814565319462352), (1366, 0.002813380811425791), (563, 0.00281237381185862), (515, 0.00281133319695816), (4350, 0.002811195800521244), (3318, 0.0028109565717557047), (581, 0.002810624431165357), (1690, 0.002810016739841649), (4712, 0.0028096212714502043), (2741, 0.002808218338636762), (3974, 0.0028071891581518795), (2457, 0.0028055758733518707), (4475, 0.002804662300303856), (1625, 0.0028045497483885646), (1739, 0.0028043528827080607), (2248, 0.0028039534814204266), (161, 0.002803428142152915), (3863, 0.002802634976885234), (4304, 0.0027992339559062074), (2591, 0.002798128953744205), (158, 0.0027976655221785057), (1980, 0.002797428133221097), (2191, 0.0027970936774115657), (4080, 0.0027964887648429058), (2607, 0.0027956077639614547), (1004, 0.002795523306309949), (3801, 0.0027943139131985837), (3167, 0.0027931348931816763), (917, 0.002791700325957153), (3795, 0.0027899395454695766), (3556, 0.0027887012747958686), (1921, 0.002787359011362296), (2580, 0.0027852810009710185), (1934, 0.002784862030026592), (2163, 0.0027829439088661962), (268, 0.0027817484600845), (1318, 0.0027815583901597556), (672, 0.002781122573960228), (4141, 0.002780828458768079), (3956, 0.0027798646975774077), (1977, 0.0027769139908306777), (3380, 0.0027686353475783808), (1423, 0.0027679924639281333), (4608, 0.0027677213829958294), (132, 0.002765121022321432), (4661, 0.0027646355630951323), (4104, 0.002764554246010065), (1290, 0.002763124201414883), (1954, 0.002762801779273517), (252, 0.0027626673443445714), (705, 0.002761160414622974), (1251, 0.0027598959918572617), (4343, 0.0027587145455399563), (3755, 0.0027564604171305762), (200, 0.002755875689604676), (712, 0.0027555237326078075), (519, 0.0027538197850545225), (4220, 0.002751414689877947), (2617, 0.002749795442783286), (808, 0.0027495627602521088), (1776, 0.0027467542821292346), (605, 0.0027443724842558153), (1616, 0.0027408564325967113), (4066, 0.002738986774726999), (3910, 0.0027381907122803442), (647, 0.0027365223287239), (32, 0.0027350846975717296), (851, 0.002732265709021148), (3895, 0.00273025957279625), (3880, 0.002721055226939054), (4296, 0.0027166908714084566), (1943, 0.0027147036779534553), (2621, 0.0027134868440834383), (4232, 0.0027114443093154894), (3096, 0.0027111623483098784), (2692, 0.002708340354961457), (4429, 0.0027080096622037865), (2747, 0.002702494147347184), (103, 0.002701411227855239), (147, 0.0026983500164547126), (1397, 0.0026971111665471713), (2270, 0.0026947815868760003), (642, 0.0026939892549073543), (4386, 0.0026899129133601363), (1370, 0.002689257020408655), (1450, 0.0026877385559494395), (278, 0.002686190893670509), (861, 0.0026857596510339744), (364, 0.0026832022115260306), (2527, 0.002682488000009203), (3629, 0.0026785501617599765), (4627, 0.0026762159725113965), (4411, 0.0026719630344041517), (1763, 0.0026708535149013554), (1833, 0.0026706726152872823), (445, 0.002669991741977287), (4476, 0.0026688445842579065), (1088, 0.0026661558023756368), (190, 0.002661545437365883), (3065, 0.0026491745878093787), (2758, 0.002648851451467507), (4095, 0.002646873082017193), (1202, 0.0026455178314084703), (626, 0.0026431229039333933), (3669, 0.0026431191681467524), (2035, 0.0026421852026957257), (3634, 0.002637010034465863), (617, 0.002633253331547883), (951, 0.0026329343399394594), (3657, 0.002631989308164962), (4636, 0.002630162405800721), (707, 0.0026233079690847682), (196, 0.0026196873227321664), (4610, 0.002617587616113724), (3091, 0.0026105606707732642), (2132, 0.0026056256629293554), (2876, 0.0026048523055734237), (1367, 0.002604562777658045), (2355, 0.002600209273653858), (3331, 0.0025998824949672013), (16, 0.0025995607491428093), (616, 0.002599112915858481), (1209, 0.002599054196267783), (3252, 0.0025988363068671456), (44, 0.002596256673736641), (2602, 0.002587902231805874), (901, 0.002583305215441065), (3024, 0.00258004560839849), (3548, 0.0025648181559857755), (113, 0.0025647574710902918), (1427, 0.0025566797928682624), (1415, 0.002555337464661193), (2697, 0.002553313925960134), (433, 0.002551237694730066), (3756, 0.0025511964989179733), (645, 0.00254733221831977), (1098, 0.0025432762873035222), (816, 0.0025385021721549277), (1624, 0.002537993935148982), (942, 0.0025355577835097453), (4311, 0.002533934409176069), (4744, 0.002528345982530772), (1317, 0.0025270105655153213), (4626, 0.0025216015454811607), (1303, 0.0025146351712132388), (953, 0.002511196912416476), (2908, 0.002506360545753723), (1989, 0.002505055827493229), (3431, 0.002504565640751735), (2925, 0.0025041490829792413), (194, 0.002502365653313094), (63, 0.002482225154767513), (3471, 0.002479845496971115), (1677, 0.0024537558896903173), (4598, 0.00244686476401007), (2469, 0.0024419053458016892), (1040, 0.0024359914449111814), (1417, 0.002434593941500971), (1747, 0.002427206566694407), (1403, 0.0023962921141600637), (2760, 0.0023938771968250944), (271, 0.0023902574113274133), (224, 0.0023862637261604282), (1774, 0.002381409945657538), (351, 0.0023795249514360806), (1861, 0.002364095011879261), (3645, 0.0023508474324239275), (296, 0.002337545749563127), (256, 0.00233008362041284), (4301, 0.0023139765131080466), (831, 0.00220180772075528), (542, 0.0021871137487955586), (940, 0.00218277987289421), (129, 0.0021779238761580628), (858, 0.002105871146308784), (3608, 0.002031491572672744), (2538, 0.0018661309338089073), (475, 0.001090333613154162), (13, 0.0), (27, 0.0), (30, 0.0), (40, 0.0), (42, 0.0), (46, 0.0), (47, 0.0), (49, 0.0), (54, 0.0), (59, 0.0), (69, 0.0), (70, 0.0), (77, 0.0), (81, 0.0), (90, 0.0), (95, 0.0), (99, 0.0), (100, 0.0), (117, 0.0), (133, 0.0), (134, 0.0), (139, 0.0), (141, 0.0), (143, 0.0), (144, 0.0), (146, 0.0), (151, 0.0), (155, 0.0), (160, 0.0), (163, 0.0), (180, 0.0), (181, 0.0), (185, 0.0), (187, 0.0), (205, 0.0), (207, 0.0), (217, 0.0), (233, 0.0), (244, 0.0), (245, 0.0), (248, 0.0), (258, 0.0), (265, 0.0), (273, 0.0), (275, 0.0), (290, 0.0), (300, 0.0), (304, 0.0), (311, 0.0), (314, 0.0), (315, 0.0), (316, 0.0), (320, 0.0), (321, 0.0), (331, 0.0), (332, 0.0), (333, 0.0), (340, 0.0), (360, 0.0), (362, 0.0), (363, 0.0), (365, 0.0), (367, 0.0), (375, 0.0), (376, 0.0), (379, 0.0), (382, 0.0), (383, 0.0), (385, 0.0), (390, 0.0), (391, 0.0), (393, 0.0), (394, 0.0), (397, 0.0), (398, 0.0), (401, 0.0), (404, 0.0), (405, 0.0), (414, 0.0), (422, 0.0), (423, 0.0), (435, 0.0), (438, 0.0), (459, 0.0), (461, 0.0), (462, 0.0), (474, 0.0), (494, 0.0), (501, 0.0), (503, 0.0), (506, 0.0), (513, 0.0), (514, 0.0), (516, 0.0), (517, 0.0), (520, 0.0), (528, 0.0), (531, 0.0), (535, 0.0), (536, 0.0), (537, 0.0), (539, 0.0), (546, 0.0), (554, 0.0), (556, 0.0), (557, 0.0), (559, 0.0), (565, 0.0), (574, 0.0), (582, 0.0), (586, 0.0), (592, 0.0), (601, 0.0), (602, 0.0), (619, 0.0), (621, 0.0), (625, 0.0), (629, 0.0), (630, 0.0), (632, 0.0), (634, 0.0), (649, 0.0), (650, 0.0), (656, 0.0), (663, 0.0), (665, 0.0), (667, 0.0), (671, 0.0), (674, 0.0), (682, 0.0), (686, 0.0), (695, 0.0), (708, 0.0), (709, 0.0), (711, 0.0), (720, 0.0), (724, 0.0), (730, 0.0), (745, 0.0), (746, 0.0), (752, 0.0), (754, 0.0), (760, 0.0), (764, 0.0), (771, 0.0), (772, 0.0), (784, 0.0), (786, 0.0), (793, 0.0), (795, 0.0), (801, 0.0), (814, 0.0), (819, 0.0), (822, 0.0), (825, 0.0), (827, 0.0), (833, 0.0), (834, 0.0), (835, 0.0), (836, 0.0), (842, 0.0), (849, 0.0), (855, 0.0), (869, 0.0), (873, 0.0), (877, 0.0), (892, 0.0), (905, 0.0), (906, 0.0), (912, 0.0), (914, 0.0), (920, 0.0), (926, 0.0), (932, 0.0), (943, 0.0), (954, 0.0), (958, 0.0), (961, 0.0), (964, 0.0), (965, 0.0), (972, 0.0), (976, 0.0), (979, 0.0), (983, 0.0), (990, 0.0), (992, 0.0), (996, 0.0), (1003, 0.0), (1014, 0.0), (1024, 0.0), (1028, 0.0), (1038, 0.0), (1045, 0.0), (1051, 0.0), (1055, 0.0), (1057, 0.0), (1058, 0.0), (1061, 0.0), (1062, 0.0), (1070, 0.0), (1073, 0.0), (1074, 0.0), (1076, 0.0), (1081, 0.0), (1082, 0.0), (1085, 0.0), (1089, 0.0), (1092, 0.0), (1093, 0.0), (1094, 0.0), (1099, 0.0), (1101, 0.0), (1103, 0.0), (1108, 0.0), (1115, 0.0), (1116, 0.0), (1125, 0.0), (1127, 0.0), (1128, 0.0), (1142, 0.0), (1143, 0.0), (1147, 0.0), (1149, 0.0), (1151, 0.0), (1152, 0.0), (1153, 0.0), (1154, 0.0), (1156, 0.0), (1158, 0.0), (1159, 0.0), (1162, 0.0), (1164, 0.0), (1165, 0.0), (1166, 0.0), (1167, 0.0), (1172, 0.0), (1180, 0.0), (1181, 0.0), (1189, 0.0), (1190, 0.0), (1196, 0.0), (1198, 0.0), (1200, 0.0), (1201, 0.0), (1205, 0.0), (1207, 0.0), (1211, 0.0), (1212, 0.0), (1226, 0.0), (1228, 0.0), (1230, 0.0), (1231, 0.0), (1235, 0.0), (1240, 0.0), (1242, 0.0), (1249, 0.0), (1258, 0.0), (1260, 0.0), (1268, 0.0), (1269, 0.0), (1272, 0.0), (1280, 0.0), (1281, 0.0), (1283, 0.0), (1285, 0.0), (1287, 0.0), (1289, 0.0), (1292, 0.0), (1295, 0.0), (1299, 0.0), (1302, 0.0), (1309, 0.0), (1310, 0.0), (1311, 0.0), (1315, 0.0), (1316, 0.0), (1320, 0.0), (1323, 0.0), (1326, 0.0), (1327, 0.0), (1330, 0.0), (1331, 0.0), (1333, 0.0), (1342, 0.0), (1345, 0.0), (1348, 0.0), (1353, 0.0), (1361, 0.0), (1362, 0.0), (1363, 0.0), (1376, 0.0), (1386, 0.0), (1388, 0.0), (1391, 0.0), (1393, 0.0), (1401, 0.0), (1405, 0.0), (1406, 0.0), (1407, 0.0), (1424, 0.0), (1428, 0.0), (1437, 0.0), (1441, 0.0), (1444, 0.0), (1445, 0.0), (1449, 0.0), (1455, 0.0), (1457, 0.0), (1458, 0.0), (1460, 0.0), (1469, 0.0), (1470, 0.0), (1473, 0.0), (1480, 0.0), (1485, 0.0), (1490, 0.0), (1491, 0.0), (1492, 0.0), (1504, 0.0), (1505, 0.0), (1512, 0.0), (1529, 0.0), (1531, 0.0), (1532, 0.0), (1540, 0.0), (1541, 0.0), (1542, 0.0), (1544, 0.0), (1545, 0.0), (1549, 0.0), (1556, 0.0), (1560, 0.0), (1561, 0.0), (1563, 0.0), (1566, 0.0), (1567, 0.0), (1569, 0.0), (1575, 0.0), (1581, 0.0), (1585, 0.0), (1589, 0.0), (1590, 0.0), (1591, 0.0), (1596, 0.0), (1600, 0.0), (1601, 0.0), (1602, 0.0), (1603, 0.0), (1606, 0.0), (1609, 0.0), (1610, 0.0), (1615, 0.0), (1618, 0.0), (1622, 0.0), (1623, 0.0), (1633, 0.0), (1635, 0.0), (1644, 0.0), (1646, 0.0), (1647, 0.0), (1651, 0.0), (1652, 0.0), (1654, 0.0), (1657, 0.0), (1661, 0.0), (1673, 0.0), (1674, 0.0), (1676, 0.0), (1684, 0.0), (1686, 0.0), (1694, 0.0), (1696, 0.0), (1697, 0.0), (1699, 0.0), (1713, 0.0), (1715, 0.0), (1721, 0.0), (1729, 0.0), (1732, 0.0), (1735, 0.0), (1737, 0.0), (1741, 0.0), (1745, 0.0), (1749, 0.0), (1750, 0.0), (1752, 0.0), (1753, 0.0), (1761, 0.0), (1766, 0.0), (1767, 0.0), (1773, 0.0), (1777, 0.0), (1783, 0.0), (1785, 0.0), (1789, 0.0), (1791, 0.0), (1795, 0.0), (1797, 0.0), (1800, 0.0), (1803, 0.0), (1806, 0.0), (1820, 0.0), (1832, 0.0), (1834, 0.0), (1836, 0.0), (1837, 0.0), (1838, 0.0), (1839, 0.0), (1842, 0.0), (1844, 0.0), (1846, 0.0), (1855, 0.0), (1856, 0.0), (1863, 0.0), (1867, 0.0), (1868, 0.0), (1870, 0.0), (1879, 0.0), (1880, 0.0), (1889, 0.0), (1894, 0.0), (1898, 0.0), (1899, 0.0), (1900, 0.0), (1904, 0.0), (1906, 0.0), (1911, 0.0), (1912, 0.0), (1913, 0.0), (1917, 0.0), (1926, 0.0), (1927, 0.0), (1930, 0.0), (1932, 0.0), (1940, 0.0), (1941, 0.0), (1944, 0.0), (1953, 0.0), (1955, 0.0), (1956, 0.0), (1958, 0.0), (1962, 0.0), (1963, 0.0), (1966, 0.0), (1970, 0.0), (1972, 0.0), (1975, 0.0), (1976, 0.0), (1978, 0.0), (1979, 0.0), (1998, 0.0), (1999, 0.0), (2001, 0.0), (2002, 0.0), (2006, 0.0), (2007, 0.0), (2009, 0.0), (2018, 0.0), (2019, 0.0), (2021, 0.0), (2025, 0.0), (2026, 0.0), (2028, 0.0), (2030, 0.0), (2033, 0.0), (2038, 0.0), (2041, 0.0), (2042, 0.0), (2044, 0.0), (2050, 0.0), (2052, 0.0), (2054, 0.0), (2057, 0.0), (2059, 0.0), (2063, 0.0), (2064, 0.0), (2066, 0.0), (2077, 0.0), (2081, 0.0), (2084, 0.0), (2090, 0.0), (2092, 0.0), (2100, 0.0), (2101, 0.0), (2107, 0.0), (2113, 0.0), (2115, 0.0), (2120, 0.0), (2124, 0.0), (2130, 0.0), (2138, 0.0), (2140, 0.0), (2150, 0.0), (2152, 0.0), (2153, 0.0), (2158, 0.0), (2164, 0.0), (2165, 0.0), (2170, 0.0), (2171, 0.0), (2172, 0.0), (2179, 0.0), (2181, 0.0), (2182, 0.0), (2183, 0.0), (2184, 0.0), (2185, 0.0), (2186, 0.0), (2194, 0.0), (2197, 0.0), (2200, 0.0), (2202, 0.0), (2203, 0.0), (2206, 0.0), (2217, 0.0), (2219, 0.0), (2220, 0.0), (2225, 0.0), (2227, 0.0), (2228, 0.0), (2231, 0.0), (2232, 0.0), (2235, 0.0), (2238, 0.0), (2243, 0.0), (2249, 0.0), (2253, 0.0), (2256, 0.0), (2258, 0.0), (2261, 0.0), (2267, 0.0), (2272, 0.0), (2273, 0.0), (2274, 0.0), (2276, 0.0), (2281, 0.0), (2282, 0.0), (2298, 0.0), (2304, 0.0), (2307, 0.0), (2308, 0.0), (2312, 0.0), (2314, 0.0), (2316, 0.0), (2325, 0.0), (2328, 0.0), (2331, 0.0), (2332, 0.0), (2333, 0.0), (2335, 0.0), (2336, 0.0), (2341, 0.0), (2342, 0.0), (2343, 0.0), (2345, 0.0), (2352, 0.0), (2353, 0.0), (2357, 0.0), (2358, 0.0), (2360, 0.0), (2364, 0.0), (2365, 0.0), (2366, 0.0), (2368, 0.0), (2369, 0.0), (2371, 0.0), (2372, 0.0), (2373, 0.0), (2380, 0.0), (2381, 0.0), (2383, 0.0), (2389, 0.0), (2395, 0.0), (2408, 0.0), (2420, 0.0), (2424, 0.0), (2426, 0.0), (2429, 0.0), (2433, 0.0), (2435, 0.0), (2442, 0.0), (2445, 0.0), (2449, 0.0), (2450, 0.0), (2451, 0.0), (2452, 0.0), (2455, 0.0), (2460, 0.0), (2462, 0.0), (2465, 0.0), (2468, 0.0), (2471, 0.0), (2476, 0.0), (2479, 0.0), (2500, 0.0), (2506, 0.0), (2515, 0.0), (2516, 0.0), (2517, 0.0), (2519, 0.0), (2521, 0.0), (2536, 0.0), (2542, 0.0), (2543, 0.0), (2544, 0.0), (2548, 0.0), (2549, 0.0), (2564, 0.0), (2566, 0.0), (2573, 0.0), (2575, 0.0), (2576, 0.0), (2577, 0.0), (2578, 0.0), (2583, 0.0), (2586, 0.0), (2589, 0.0), (2594, 0.0), (2596, 0.0), (2599, 0.0), (2600, 0.0), (2604, 0.0), (2605, 0.0), (2618, 0.0), (2620, 0.0), (2635, 0.0), (2639, 0.0), (2644, 0.0), (2646, 0.0), (2648, 0.0), (2657, 0.0), (2658, 0.0), (2659, 0.0), (2662, 0.0), (2663, 0.0), (2667, 0.0), (2669, 0.0), (2676, 0.0), (2681, 0.0), (2683, 0.0), (2684, 0.0), (2686, 0.0), (2688, 0.0), (2690, 0.0), (2693, 0.0), (2700, 0.0), (2701, 0.0), (2704, 0.0), (2708, 0.0), (2709, 0.0), (2711, 0.0), (2715, 0.0), (2717, 0.0), (2718, 0.0), (2726, 0.0), (2733, 0.0), (2736, 0.0), (2737, 0.0), (2750, 0.0), (2751, 0.0), (2754, 0.0), (2759, 0.0), (2762, 0.0), (2770, 0.0), (2773, 0.0), (2780, 0.0), (2781, 0.0), (2804, 0.0), (2806, 0.0), (2815, 0.0), (2819, 0.0), (2822, 0.0), (2823, 0.0), (2824, 0.0), (2825, 0.0), (2827, 0.0), (2828, 0.0), (2835, 0.0), (2836, 0.0), (2837, 0.0), (2843, 0.0), (2847, 0.0), (2851, 0.0), (2856, 0.0), (2860, 0.0), (2864, 0.0), (2865, 0.0), (2866, 0.0), (2869, 0.0), (2871, 0.0), (2875, 0.0), (2880, 0.0), (2885, 0.0), (2891, 0.0), (2896, 0.0), (2905, 0.0), (2913, 0.0), (2918, 0.0), (2921, 0.0), (2922, 0.0), (2927, 0.0), (2930, 0.0), (2939, 0.0), (2941, 0.0), (2947, 0.0), (2948, 0.0), (2950, 0.0), (2952, 0.0), (2956, 0.0), (2958, 0.0), (2960, 0.0), (2967, 0.0), (2971, 0.0), (2973, 0.0), (2979, 0.0), (2982, 0.0), (2984, 0.0), (2990, 0.0), (2994, 0.0), (3001, 0.0), (3002, 0.0), (3005, 0.0), (3009, 0.0), (3017, 0.0), (3021, 0.0), (3023, 0.0), (3025, 0.0), (3029, 0.0), (3034, 0.0), (3038, 0.0), (3041, 0.0), (3045, 0.0), (3049, 0.0), (3054, 0.0), (3058, 0.0), (3059, 0.0), (3060, 0.0), (3061, 0.0), (3063, 0.0), (3068, 0.0), (3078, 0.0), (3080, 0.0), (3087, 0.0), (3088, 0.0), (3089, 0.0), (3090, 0.0), (3092, 0.0), (3098, 0.0), (3099, 0.0), (3102, 0.0), (3104, 0.0), (3105, 0.0), (3106, 0.0), (3107, 0.0), (3110, 0.0), (3114, 0.0), (3115, 0.0), (3117, 0.0), (3118, 0.0), (3126, 0.0), (3130, 0.0), (3132, 0.0), (3134, 0.0), (3135, 0.0), (3138, 0.0), (3143, 0.0), (3158, 0.0), (3161, 0.0), (3162, 0.0), (3169, 0.0), (3175, 0.0), (3176, 0.0), (3179, 0.0), (3180, 0.0), (3189, 0.0), (3190, 0.0), (3191, 0.0), (3197, 0.0), (3202, 0.0), (3203, 0.0), (3204, 0.0), (3208, 0.0), (3209, 0.0), (3212, 0.0), (3213, 0.0), (3215, 0.0), (3217, 0.0), (3236, 0.0), (3245, 0.0), (3250, 0.0), (3251, 0.0), (3255, 0.0), (3256, 0.0), (3263, 0.0), (3266, 0.0), (3272, 0.0), (3279, 0.0), (3281, 0.0), (3286, 0.0), (3287, 0.0), (3288, 0.0), (3305, 0.0), (3309, 0.0), (3310, 0.0), (3319, 0.0), (3323, 0.0), (3324, 0.0), (3333, 0.0), (3334, 0.0), (3338, 0.0), (3339, 0.0), (3340, 0.0), (3366, 0.0), (3375, 0.0), (3383, 0.0), (3385, 0.0), (3387, 0.0), (3394, 0.0), (3401, 0.0), (3404, 0.0), (3415, 0.0), (3416, 0.0), (3422, 0.0), (3427, 0.0), (3429, 0.0), (3432, 0.0), (3439, 0.0), (3440, 0.0), (3442, 0.0), (3443, 0.0), (3451, 0.0), (3462, 0.0), (3467, 0.0), (3470, 0.0), (3472, 0.0), (3475, 0.0), (3476, 0.0), (3480, 0.0), (3482, 0.0), (3485, 0.0), (3486, 0.0), (3488, 0.0), (3489, 0.0), (3494, 0.0), (3495, 0.0), (3505, 0.0), (3508, 0.0), (3510, 0.0), (3513, 0.0), (3519, 0.0), (3520, 0.0), (3522, 0.0), (3528, 0.0), (3529, 0.0), (3530, 0.0), (3531, 0.0), (3532, 0.0), (3533, 0.0), (3535, 0.0), (3543, 0.0), (3545, 0.0), (3547, 0.0), (3555, 0.0), (3559, 0.0), (3570, 0.0), (3573, 0.0), (3576, 0.0), (3580, 0.0), (3581, 0.0), (3582, 0.0), (3583, 0.0), (3585, 0.0), (3588, 0.0), (3591, 0.0), (3595, 0.0), (3597, 0.0), (3600, 0.0), (3603, 0.0), (3604, 0.0), (3605, 0.0), (3607, 0.0), (3609, 0.0), (3622, 0.0), (3625, 0.0), (3628, 0.0), (3630, 0.0), (3632, 0.0), (3649, 0.0), (3652, 0.0), (3659, 0.0), (3663, 0.0), (3664, 0.0), (3671, 0.0), (3676, 0.0), (3679, 0.0), (3682, 0.0), (3683, 0.0), (3685, 0.0), (3686, 0.0), (3688, 0.0), (3693, 0.0), (3702, 0.0), (3708, 0.0), (3710, 0.0), (3715, 0.0), (3716, 0.0), (3717, 0.0), (3721, 0.0), (3723, 0.0), (3726, 0.0), (3735, 0.0), (3740, 0.0), (3744, 0.0), (3747, 0.0), (3753, 0.0), (3758, 0.0), (3760, 0.0), (3761, 0.0), (3764, 0.0), (3768, 0.0), (3769, 0.0), (3785, 0.0), (3787, 0.0), (3789, 0.0), (3790, 0.0), (3791, 0.0), (3793, 0.0), (3794, 0.0), (3796, 0.0), (3798, 0.0), (3800, 0.0), (3805, 0.0), (3808, 0.0), (3812, 0.0), (3814, 0.0), (3815, 0.0), (3816, 0.0), (3820, 0.0), (3830, 0.0), (3833, 0.0), (3836, 0.0), (3837, 0.0), (3838, 0.0), (3842, 0.0), (3843, 0.0), (3846, 0.0), (3847, 0.0), (3849, 0.0), (3850, 0.0), (3851, 0.0), (3853, 0.0), (3856, 0.0), (3859, 0.0), (3860, 0.0), (3861, 0.0), (3864, 0.0), (3871, 0.0), (3872, 0.0), (3879, 0.0), (3885, 0.0), (3887, 0.0), (3896, 0.0), (3916, 0.0), (3918, 0.0), (3923, 0.0), (3929, 0.0), (3931, 0.0), (3933, 0.0), (3934, 0.0), (3936, 0.0), (3938, 0.0), (3940, 0.0), (3943, 0.0), (3946, 0.0), (3947, 0.0), (3948, 0.0), (3949, 0.0), (3950, 0.0), (3958, 0.0), (3964, 0.0), (3971, 0.0), (3976, 0.0), (3979, 0.0), (3981, 0.0), (3982, 0.0), (3985, 0.0), (3988, 0.0), (3989, 0.0), (3991, 0.0), (3995, 0.0), (3996, 0.0), (3997, 0.0), (4003, 0.0), (4008, 0.0), (4010, 0.0), (4021, 0.0), (4022, 0.0), (4026, 0.0), (4027, 0.0), (4028, 0.0), (4029, 0.0), (4034, 0.0), (4035, 0.0), (4039, 0.0), (4040, 0.0), (4041, 0.0), (4043, 0.0), (4044, 0.0), (4045, 0.0), (4047, 0.0), (4050, 0.0), (4058, 0.0), (4063, 0.0), (4065, 0.0), (4067, 0.0), (4071, 0.0), (4072, 0.0), (4073, 0.0), (4086, 0.0), (4090, 0.0), (4093, 0.0), (4094, 0.0), (4105, 0.0), (4114, 0.0), (4122, 0.0), (4125, 0.0), (4127, 0.0), (4128, 0.0), (4131, 0.0), (4134, 0.0), (4146, 0.0), (4148, 0.0), (4149, 0.0), (4153, 0.0), (4159, 0.0), (4162, 0.0), (4166, 0.0), (4167, 0.0), (4170, 0.0), (4173, 0.0), (4177, 0.0), (4179, 0.0), (4180, 0.0), (4185, 0.0), (4188, 0.0), (4190, 0.0), (4191, 0.0), (4193, 0.0), (4195, 0.0), (4196, 0.0), (4198, 0.0), (4199, 0.0), (4204, 0.0), (4207, 0.0), (4208, 0.0), (4211, 0.0), (4212, 0.0), (4214, 0.0), (4215, 0.0), (4216, 0.0), (4219, 0.0), (4223, 0.0), (4224, 0.0), (4227, 0.0), (4229, 0.0), (4233, 0.0), (4234, 0.0), (4235, 0.0), (4236, 0.0), (4237, 0.0), (4238, 0.0), (4239, 0.0), (4248, 0.0), (4250, 0.0), (4251, 0.0), (4253, 0.0), (4256, 0.0), (4258, 0.0), (4260, 0.0), (4261, 0.0), (4264, 0.0), (4270, 0.0), (4274, 0.0), (4275, 0.0), (4276, 0.0), (4278, 0.0), (4291, 0.0), (4294, 0.0), (4300, 0.0), (4302, 0.0), (4303, 0.0), (4307, 0.0), (4310, 0.0), (4314, 0.0), (4315, 0.0), (4316, 0.0), (4317, 0.0), (4319, 0.0), (4322, 0.0), (4323, 0.0), (4324, 0.0), (4327, 0.0), (4329, 0.0), (4331, 0.0), (4335, 0.0), (4337, 0.0), (4341, 0.0), (4347, 0.0), (4352, 0.0), (4358, 0.0), (4360, 0.0), (4364, 0.0), (4365, 0.0), (4367, 0.0), (4370, 0.0), (4375, 0.0), (4377, 0.0), (4378, 0.0), (4384, 0.0), (4385, 0.0), (4389, 0.0), (4392, 0.0), (4393, 0.0), (4404, 0.0), (4405, 0.0), (4408, 0.0), (4410, 0.0), (4413, 0.0), (4415, 0.0), (4417, 0.0), (4424, 0.0), (4425, 0.0), (4426, 0.0), (4433, 0.0), (4434, 0.0), (4437, 0.0), (4440, 0.0), (4447, 0.0), (4451, 0.0), (4453, 0.0), (4455, 0.0), (4456, 0.0), (4457, 0.0), (4478, 0.0), (4480, 0.0), (4483, 0.0), (4485, 0.0), (4491, 0.0), (4496, 0.0), (4498, 0.0), (4499, 0.0), (4500, 0.0), (4506, 0.0), (4509, 0.0), (4510, 0.0), (4512, 0.0), (4513, 0.0), (4514, 0.0), (4518, 0.0), (4519, 0.0), (4526, 0.0), (4527, 0.0), (4532, 0.0), (4537, 0.0), (4538, 0.0), (4542, 0.0), (4543, 0.0), (4547, 0.0), (4552, 0.0), (4556, 0.0), (4557, 0.0), (4559, 0.0), (4560, 0.0), (4561, 0.0), (4562, 0.0), (4565, 0.0), (4569, 0.0), (4570, 0.0), (4578, 0.0), (4580, 0.0), (4581, 0.0), (4582, 0.0), (4583, 0.0), (4585, 0.0), (4588, 0.0), (4597, 0.0), (4599, 0.0), (4609, 0.0), (4622, 0.0), (4623, 0.0), (4628, 0.0), (4630, 0.0), (4631, 0.0), (4639, 0.0), (4642, 0.0), (4644, 0.0), (4645, 0.0), (4648, 0.0), (4651, 0.0), (4653, 0.0), (4654, 0.0), (4655, 0.0), (4663, 0.0), (4665, 0.0), (4666, 0.0), (4667, 0.0), (4671, 0.0), (4672, 0.0), (4681, 0.0), (4683, 0.0), (4688, 0.0), (4690, 0.0), (4691, 0.0), (4697, 0.0), (4698, 0.0), (4700, 0.0), (4703, 0.0), (4707, 0.0), (4708, 0.0), (4709, 0.0), (4711, 0.0), (4714, 0.0), (4716, 0.0), (4720, 0.0), (4721, 0.0), (4725, 0.0), (4726, 0.0), (4727, 0.0), (4728, 0.0), (4730, 0.0), (4737, 0.0), (4738, 0.0), (4740, 0.0), (4741, 0.0), (4742, 0.0), (4745, 0.0), (4746, 0.0), (4750, 0.0), (4751, 0.0), (4754, 0.0), (4758, 0.0), (4759, 0.0)]\n"
          ]
        }
      ]
    },
    {
      "cell_type": "code",
      "source": [
        "#print the name of the similar movies vased on index\n",
        "print('top 30 movies suggested for u :\\n')\n",
        "\n",
        "i=1\n",
        "for movie in sorted_similar_movies:\n",
        "  index=movie[0]\n",
        "  title_from_index=df[df.index==index]['Movie_Title'].values[0]\n",
        "  if (i<31):\n",
        "    print(i,'.',title_from_index)\n",
        "    i+=1\n"
      ],
      "metadata": {
        "id": "YVdBNAxo7QJv",
        "colab": {
          "base_uri": "https://localhost:8080/"
        },
        "outputId": "6910757d-cc40-4b03-821f-53d185a33f4c"
      },
      "execution_count": null,
      "outputs": [
        {
          "output_type": "stream",
          "name": "stdout",
          "text": [
            "top 30 movies suggested for u :\n",
            "\n",
            "1 . Apocalypse Now\n",
            "2 . The Godfather\n",
            "3 . The Conversation\n",
            "4 . The Godfather: Part II\n",
            "5 . The Godfather: Part III\n",
            "6 . Platoon\n",
            "7 . Dracula\n",
            "8 . Gettysburg\n",
            "9 . Twixt\n",
            "10 . The Deer Hunter\n",
            "11 . Mud\n",
            "12 . Peggy Sue Got Married\n",
            "13 . New York Stories\n",
            "14 . Forrest Gump\n",
            "15 . The Rose\n",
            "16 . We Were Soldiers\n",
            "17 . The Score\n",
            "18 . Beyond Borders\n",
            "19 . On the Waterfront\n",
            "20 . Red Dawn\n",
            "21 . The Island of Dr. Moreau\n",
            "22 . The Rainmaker\n",
            "23 . Wall Street\n",
            "24 . Superman\n",
            "25 . The Apostle\n",
            "26 . Don Juan DeMarco\n",
            "27 . The Cotton Club\n",
            "28 . Finishing The Game\n",
            "29 . Salvador\n",
            "30 . Gods and Generals\n"
          ]
        }
      ]
    },
    {
      "cell_type": "markdown",
      "source": [
        "Top 10 Movie Recomendation System"
      ],
      "metadata": {
        "id": "dtSKCs4s9cvq"
      }
    },
    {
      "cell_type": "code",
      "source": [
        "Movie_Name=input('enter your fav movie name:')\n",
        "list_of_all_titles=df['Movie_Title'].tolist()\n",
        "find_close_match=difflib.get_close_matches(Movie_Name,list_of_all_titles)\n",
        "close_match=find_close_match[0]\n",
        "index_of_movie=df[df.Movie_Title==close_match]['Movie_ID'].values[0]\n",
        "recommendation_score=list(enumerate(Similarity_Score[index_of_movie]))\n",
        "soreted_similar_movies=sorted(recommendation_score,key= lambda X:X[1],reverse=True)\n",
        "print('Top 10 Movies Suggested For U:\\n')\n",
        "i=1\n",
        "for movie in soreted_similar_movies:\n",
        "  index=movie[0]\n",
        "  title_from_index=df[df.Movie_ID==index]['Movie_Title'].values\n",
        "  if (i<11):\n",
        "    print(i,'.',title_from_index)\n",
        "    i+=1\n",
        "\n"
      ],
      "metadata": {
        "colab": {
          "base_uri": "https://localhost:8080/"
        },
        "id": "u7wZ6n4f-GMl",
        "outputId": "fb2aec6d-dede-44f9-f4cb-4ca6cab6bb5a"
      },
      "execution_count": null,
      "outputs": [
        {
          "output_type": "stream",
          "name": "stdout",
          "text": [
            "enter your fav movie name:friends\n",
            "Top 10 Movies Suggested For U:\n",
            "\n",
            "1 . ['Unfriended']\n",
            "2 . ['Hobo with a Shotgun']\n",
            "3 . ['Velvet Goldmine']\n",
            "4 . ['The Fast and the Furious: Tokyo Drift']\n",
            "5 . ['15 Minutes']\n",
            "6 . ['South Park: Bigger, Longer & Uncut']\n",
            "7 . ['By the Sea']\n",
            "8 . ['The Hundred-Foot Journey']\n",
            "9 . ['Oliver!']\n",
            "10 . ['Failure to Launch']\n"
          ]
        }
      ]
    }
  ]
}